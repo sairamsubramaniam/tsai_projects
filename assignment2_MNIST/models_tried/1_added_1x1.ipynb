{
  "nbformat": 4,
  "nbformat_minor": 0,
  "metadata": {
    "colab": {
      "name": "EVA5 - MNIST 99.4.ipynb",
      "provenance": []
    },
    "kernelspec": {
      "name": "python3",
      "display_name": "Python 3"
    },
    "accelerator": "GPU"
  },
  "cells": [
    {
      "cell_type": "code",
      "metadata": {
        "id": "XHIdQNJcLNMl",
        "colab_type": "code",
        "colab": {
          "base_uri": "https://localhost:8080/",
          "height": 34
        },
        "outputId": "0e1ea2f5-4644-4911-9a14-8ce3f4b85f06"
      },
      "source": [
        "from google.colab import drive\n",
        "drive.mount(\"/content/drive\")\n",
        "\n",
        "base_folder = 'drive/My Drive/eva_stored_from_colab/eva5/'\n",
        "acc_recorder_file = \"highest_accuracy_achieved\"\n",
        "model_file_name = \"added_1x1\""
      ],
      "execution_count": 1,
      "outputs": [
        {
          "output_type": "stream",
          "text": [
            "Drive already mounted at /content/drive; to attempt to forcibly remount, call drive.mount(\"/content/drive\", force_remount=True).\n"
          ],
          "name": "stdout"
        }
      ]
    },
    {
      "cell_type": "code",
      "metadata": {
        "id": "0m2JWFliFfKT",
        "colab_type": "code",
        "colab": {}
      },
      "source": [
        "from __future__ import print_function\n",
        "from operator import itemgetter\n",
        "import time\n",
        "import torch\n",
        "import torch.nn as nn\n",
        "import torch.nn.functional as F\n",
        "import torch.optim as optim\n",
        "from torchvision import datasets, transforms"
      ],
      "execution_count": 2,
      "outputs": []
    },
    {
      "cell_type": "code",
      "metadata": {
        "id": "h_Cx9q2QFgM7",
        "colab_type": "code",
        "colab": {}
      },
      "source": [
        "class Net(nn.Module):\n",
        "    def __init__(self):\n",
        "        super(Net, self).__init__()\n",
        "        self.conv1 = nn.Conv2d(1, 8, 3)         # 26; RF: 3\n",
        "        self.conv2 = nn.Conv2d(8, 8, 3)        # 24;  RF: 5\n",
        "        self.pool1 = nn.MaxPool2d(2, 2)         # 12; RF: 10\n",
        "        self.antman = nn.Conv2d(8, 8, 1)\n",
        "        self.conv3 = nn.Conv2d(8, 16, 3)       # 10;  RF: 12\n",
        "        self.conv4 = nn.Conv2d(16, 16, 3)       # 8;  RF: 14\n",
        "        self.conv5 = nn.Conv2d(16, 16, 3)       # 6;  RF: 16\n",
        "        self.conv6 = nn.Conv2d(16, 10, 6)       # 1;  RF: 28\n",
        "\n",
        "    def forward(self, x):\n",
        "        x = self.pool1(F.relu(self.conv2(F.relu(self.conv1(x)))))\n",
        "        x = self.antman(x)\n",
        "        x = F.relu(self.conv4(F.relu(self.conv3(x))))\n",
        "        x = self.conv6(F.relu(self.conv5(x)))\n",
        "        x = x.view(-1, 10)\n",
        "        return F.log_softmax(x, dim=1)"
      ],
      "execution_count": 3,
      "outputs": []
    },
    {
      "cell_type": "code",
      "metadata": {
        "colab_type": "code",
        "id": "xdydjYTZFyi3",
        "colab": {
          "base_uri": "https://localhost:8080/",
          "height": 399
        },
        "outputId": "091dc3ef-886f-440e-bc6c-3dec9c9af3f4"
      },
      "source": [
        "!pip install torchsummary\n",
        "from torchsummary import summary\n",
        "use_cuda = torch.cuda.is_available()\n",
        "device = torch.device(\"cuda\" if use_cuda else \"cpu\")\n",
        "model = Net().to(device)\n",
        "summary(model, input_size=(1, 28, 28))"
      ],
      "execution_count": 4,
      "outputs": [
        {
          "output_type": "stream",
          "text": [
            "Requirement already satisfied: torchsummary in /usr/local/lib/python3.6/dist-packages (1.5.1)\n",
            "----------------------------------------------------------------\n",
            "        Layer (type)               Output Shape         Param #\n",
            "================================================================\n",
            "            Conv2d-1            [-1, 8, 26, 26]              80\n",
            "            Conv2d-2            [-1, 8, 24, 24]             584\n",
            "         MaxPool2d-3            [-1, 8, 12, 12]               0\n",
            "            Conv2d-4            [-1, 8, 12, 12]              72\n",
            "            Conv2d-5           [-1, 16, 10, 10]           1,168\n",
            "            Conv2d-6             [-1, 16, 8, 8]           2,320\n",
            "            Conv2d-7             [-1, 16, 6, 6]           2,320\n",
            "            Conv2d-8             [-1, 10, 1, 1]           5,770\n",
            "================================================================\n",
            "Total params: 12,314\n",
            "Trainable params: 12,314\n",
            "Non-trainable params: 0\n",
            "----------------------------------------------------------------\n",
            "Input size (MB): 0.00\n",
            "Forward/backward pass size (MB): 0.12\n",
            "Params size (MB): 0.05\n",
            "Estimated Total Size (MB): 0.17\n",
            "----------------------------------------------------------------\n"
          ],
          "name": "stdout"
        }
      ]
    },
    {
      "cell_type": "code",
      "metadata": {
        "id": "DqTWLaM5GHgH",
        "colab_type": "code",
        "colab": {}
      },
      "source": [
        "torch.manual_seed(1)\n",
        "batch_size = 128\n",
        "\n",
        "kwargs = {'num_workers': 1, 'pin_memory': True} if use_cuda else {}\n",
        "train_loader = torch.utils.data.DataLoader(\n",
        "    datasets.MNIST('../data', train=True, download=True,\n",
        "                    transform=transforms.Compose([\n",
        "                        transforms.ToTensor(),\n",
        "                        transforms.Normalize((0.1307,), (0.3081,))\n",
        "                    ])),\n",
        "    batch_size=batch_size, shuffle=True, **kwargs)\n",
        "test_loader = torch.utils.data.DataLoader(\n",
        "    datasets.MNIST('../data', train=False, transform=transforms.Compose([\n",
        "                        transforms.ToTensor(),\n",
        "                        transforms.Normalize((0.1307,), (0.3081,))\n",
        "                    ])),\n",
        "    batch_size=batch_size, shuffle=True, **kwargs)\n"
      ],
      "execution_count": 5,
      "outputs": []
    },
    {
      "cell_type": "code",
      "metadata": {
        "id": "8fDefDhaFlwH",
        "colab_type": "code",
        "colab": {}
      },
      "source": [
        "from tqdm import tqdm\n",
        "def train(model, device, train_loader, optimizer, epoch):\n",
        "    model.train()\n",
        "    train_loss = 0\n",
        "    correct = 0\n",
        "    pbar = tqdm(train_loader)\n",
        "    for batch_idx, (data, target) in enumerate(pbar):\n",
        "        data, target = data.to(device), target.to(device)\n",
        "        optimizer.zero_grad()\n",
        "        output = model(data)\n",
        "        loss = F.nll_loss(output, target)\n",
        "        train_loss += loss.item()\n",
        "        pred = output.argmax(dim=1, keepdim=True)\n",
        "        correct += pred.eq(target.view_as(pred)).sum().item()\n",
        "\n",
        "        loss.backward()\n",
        "        optimizer.step()\n",
        "        pbar.set_description(desc= f'loss={loss.item()} batch_id={batch_idx}')\n",
        "    \n",
        "    total_imgs = len(train_loader.dataset)\n",
        "    train_loss /= total_imgs\n",
        "    accuracy = 100. * correct / total_imgs\n",
        "\n",
        "    print('\\nTrain Data: Average loss: {:.4f}, Accuracy: {}/{} ({:.4f}%)\\n'.format(\n",
        "        train_loss, correct, total_imgs, accuracy)\n",
        "    )\n",
        "    \n",
        "    return train_loss, accuracy\n",
        "\n",
        "\n",
        "def test(model, device, test_loader):\n",
        "    model.eval()\n",
        "    test_loss = 0\n",
        "    correct = 0\n",
        "    with torch.no_grad():\n",
        "        for data, target in test_loader:\n",
        "            data, target = data.to(device), target.to(device)\n",
        "            output = model(data)\n",
        "            test_loss += F.nll_loss(output, target, reduction='sum').item()  # sum up batch loss\n",
        "            pred = output.argmax(dim=1, keepdim=True)  # get the index of the max log-probability\n",
        "            correct += pred.eq(target.view_as(pred)).sum().item()\n",
        "\n",
        "    test_loss /= len(test_loader.dataset)\n",
        "\n",
        "    print('\\nTest set: Average loss: {:.4f}, Accuracy: {}/{} ({:.4f}%)\\n'.format(\n",
        "        test_loss, correct, len(test_loader.dataset),\n",
        "        100. * correct / len(test_loader.dataset)))\n",
        "    \n",
        "    return test_loss, correct / len(test_loader.dataset)\n",
        "\n",
        "def record_max_acc(max_acc):\n",
        "    f = open(base_folder+acc_recorder_file, \"w\")\n",
        "    f.write(str(max_acc))\n",
        "    f.close()"
      ],
      "execution_count": 6,
      "outputs": []
    },
    {
      "cell_type": "code",
      "metadata": {
        "id": "MMWbLWO6FuHb",
        "colab_type": "code",
        "colab": {
          "base_uri": "https://localhost:8080/",
          "height": 1000
        },
        "outputId": "d7e68793-9322-4f22-b56f-31ea77e9c304"
      },
      "source": [
        "model = Net().to(device)\n",
        "optimizer = optim.SGD(model.parameters(), lr=0.01, momentum=0.9)\n",
        "\n",
        "start = time.time()\n",
        "test_acc = []\n",
        "\n",
        "try:\n",
        "    with open(base_folder+acc_recorder_file, \"r\") as infl:\n",
        "        max_acc = float(infl.read().strip())\n",
        "except:\n",
        "    max_acc = 0.0\n",
        "\n",
        "print(\"\\nLAST RECORDED MAX ACCURACY: \", max_acc)\n",
        "for epoch in range(1, 21):\n",
        "    ep_start = time.time()\n",
        "    print()\n",
        "    print(\"EPOCH NUM {}\".format(epoch))\n",
        "    trl, tra = train(model, device, train_loader, optimizer, epoch)\n",
        "    tsl, tsa = test(model, device, test_loader)\n",
        "    test_acc.append(tsa)\n",
        "    if tsa > max_acc:\n",
        "        max_acc = tsa\n",
        "        torch.save(model.state_dict(), base_folder+model_file_name+\"_sd.pth\")\n",
        "        record_max_acc(max_acc)\n",
        "    print(\"-----------------------------------------------\")\n",
        "print(\"TOTAL TRAINING TIME: \", time.time() - start)\n",
        "print(\"LAST 10 EPOCH AVG ACC: \", sum(test_acc[-10:]) / len(test_acc[-10:]) )\n",
        "print(\"LAST 5 EPOCH AVG ACC: \", sum(test_acc[-5:]) / len(test_acc[-5:]) )\n",
        "print(\"MAX ACCURACY: \", max(test_acc))"
      ],
      "execution_count": 7,
      "outputs": [
        {
          "output_type": "stream",
          "text": [
            "\r  0%|          | 0/469 [00:00<?, ?it/s]"
          ],
          "name": "stderr"
        },
        {
          "output_type": "stream",
          "text": [
            "\n",
            "LAST RECORDED MAX ACCURACY:  0.9884\n",
            "\n",
            "EPOCH NUM 1\n"
          ],
          "name": "stdout"
        },
        {
          "output_type": "stream",
          "text": [
            "loss=0.2036745697259903 batch_id=468: 100%|██████████| 469/469 [00:12<00:00, 36.20it/s]"
          ],
          "name": "stderr"
        },
        {
          "output_type": "stream",
          "text": [
            "\n",
            "Train Data: Average loss: 0.0076, Accuracy: 38772/60000 (64.6200%)\n",
            "\n"
          ],
          "name": "stdout"
        },
        {
          "output_type": "stream",
          "text": [
            "\n",
            "  0%|          | 0/469 [00:00<?, ?it/s]"
          ],
          "name": "stderr"
        },
        {
          "output_type": "stream",
          "text": [
            "\n",
            "Test set: Average loss: 0.1337, Accuracy: 9580/10000 (95.8000%)\n",
            "\n",
            "-----------------------------------------------\n",
            "\n",
            "EPOCH NUM 2\n"
          ],
          "name": "stdout"
        },
        {
          "output_type": "stream",
          "text": [
            "loss=0.07224791496992111 batch_id=468: 100%|██████████| 469/469 [00:12<00:00, 36.70it/s]"
          ],
          "name": "stderr"
        },
        {
          "output_type": "stream",
          "text": [
            "\n",
            "Train Data: Average loss: 0.0009, Accuracy: 57893/60000 (96.4883%)\n",
            "\n"
          ],
          "name": "stdout"
        },
        {
          "output_type": "stream",
          "text": [
            "\n",
            "  0%|          | 0/469 [00:00<?, ?it/s]"
          ],
          "name": "stderr"
        },
        {
          "output_type": "stream",
          "text": [
            "\n",
            "Test set: Average loss: 0.0830, Accuracy: 9750/10000 (97.5000%)\n",
            "\n",
            "-----------------------------------------------\n",
            "\n",
            "EPOCH NUM 3\n"
          ],
          "name": "stdout"
        },
        {
          "output_type": "stream",
          "text": [
            "loss=0.06425463408231735 batch_id=468: 100%|██████████| 469/469 [00:12<00:00, 37.57it/s]"
          ],
          "name": "stderr"
        },
        {
          "output_type": "stream",
          "text": [
            "\n",
            "Train Data: Average loss: 0.0006, Accuracy: 58585/60000 (97.6417%)\n",
            "\n"
          ],
          "name": "stdout"
        },
        {
          "output_type": "stream",
          "text": [
            "\n",
            "  0%|          | 0/469 [00:00<?, ?it/s]"
          ],
          "name": "stderr"
        },
        {
          "output_type": "stream",
          "text": [
            "\n",
            "Test set: Average loss: 0.0584, Accuracy: 9828/10000 (98.2800%)\n",
            "\n",
            "-----------------------------------------------\n",
            "\n",
            "EPOCH NUM 4\n"
          ],
          "name": "stdout"
        },
        {
          "output_type": "stream",
          "text": [
            "loss=0.13258250057697296 batch_id=468: 100%|██████████| 469/469 [00:13<00:00, 35.61it/s]"
          ],
          "name": "stderr"
        },
        {
          "output_type": "stream",
          "text": [
            "\n",
            "Train Data: Average loss: 0.0005, Accuracy: 58899/60000 (98.1650%)\n",
            "\n"
          ],
          "name": "stdout"
        },
        {
          "output_type": "stream",
          "text": [
            "\n",
            "  0%|          | 0/469 [00:00<?, ?it/s]"
          ],
          "name": "stderr"
        },
        {
          "output_type": "stream",
          "text": [
            "\n",
            "Test set: Average loss: 0.0440, Accuracy: 9869/10000 (98.6900%)\n",
            "\n",
            "-----------------------------------------------\n",
            "\n",
            "EPOCH NUM 5\n"
          ],
          "name": "stdout"
        },
        {
          "output_type": "stream",
          "text": [
            "loss=0.09209997206926346 batch_id=468: 100%|██████████| 469/469 [00:12<00:00, 38.36it/s]"
          ],
          "name": "stderr"
        },
        {
          "output_type": "stream",
          "text": [
            "\n",
            "Train Data: Average loss: 0.0004, Accuracy: 59082/60000 (98.4700%)\n",
            "\n"
          ],
          "name": "stdout"
        },
        {
          "output_type": "stream",
          "text": [
            "\n",
            "  0%|          | 0/469 [00:00<?, ?it/s]"
          ],
          "name": "stderr"
        },
        {
          "output_type": "stream",
          "text": [
            "\n",
            "Test set: Average loss: 0.0532, Accuracy: 9834/10000 (98.3400%)\n",
            "\n",
            "-----------------------------------------------\n",
            "\n",
            "EPOCH NUM 6\n"
          ],
          "name": "stdout"
        },
        {
          "output_type": "stream",
          "text": [
            "loss=0.021322214975953102 batch_id=468: 100%|██████████| 469/469 [00:12<00:00, 37.50it/s]"
          ],
          "name": "stderr"
        },
        {
          "output_type": "stream",
          "text": [
            "\n",
            "Train Data: Average loss: 0.0003, Accuracy: 59217/60000 (98.6950%)\n",
            "\n"
          ],
          "name": "stdout"
        },
        {
          "output_type": "stream",
          "text": [
            "\n",
            "  0%|          | 0/469 [00:00<?, ?it/s]"
          ],
          "name": "stderr"
        },
        {
          "output_type": "stream",
          "text": [
            "\n",
            "Test set: Average loss: 0.0408, Accuracy: 9877/10000 (98.7700%)\n",
            "\n",
            "-----------------------------------------------\n",
            "\n",
            "EPOCH NUM 7\n"
          ],
          "name": "stdout"
        },
        {
          "output_type": "stream",
          "text": [
            "loss=0.056624919176101685 batch_id=468: 100%|██████████| 469/469 [00:12<00:00, 36.86it/s]"
          ],
          "name": "stderr"
        },
        {
          "output_type": "stream",
          "text": [
            "\n",
            "Train Data: Average loss: 0.0003, Accuracy: 59311/60000 (98.8517%)\n",
            "\n"
          ],
          "name": "stdout"
        },
        {
          "output_type": "stream",
          "text": [
            "\n",
            "  0%|          | 0/469 [00:00<?, ?it/s]"
          ],
          "name": "stderr"
        },
        {
          "output_type": "stream",
          "text": [
            "\n",
            "Test set: Average loss: 0.0381, Accuracy: 9882/10000 (98.8200%)\n",
            "\n",
            "-----------------------------------------------\n",
            "\n",
            "EPOCH NUM 8\n"
          ],
          "name": "stdout"
        },
        {
          "output_type": "stream",
          "text": [
            "loss=0.003228887217119336 batch_id=468: 100%|██████████| 469/469 [00:12<00:00, 37.46it/s]"
          ],
          "name": "stderr"
        },
        {
          "output_type": "stream",
          "text": [
            "\n",
            "Train Data: Average loss: 0.0002, Accuracy: 59410/60000 (99.0167%)\n",
            "\n"
          ],
          "name": "stdout"
        },
        {
          "output_type": "stream",
          "text": [
            "\n",
            "  0%|          | 0/469 [00:00<?, ?it/s]"
          ],
          "name": "stderr"
        },
        {
          "output_type": "stream",
          "text": [
            "\n",
            "Test set: Average loss: 0.0362, Accuracy: 9890/10000 (98.9000%)\n",
            "\n",
            "-----------------------------------------------\n",
            "\n",
            "EPOCH NUM 9\n"
          ],
          "name": "stdout"
        },
        {
          "output_type": "stream",
          "text": [
            "loss=0.04942011833190918 batch_id=468: 100%|██████████| 469/469 [00:12<00:00, 36.58it/s]"
          ],
          "name": "stderr"
        },
        {
          "output_type": "stream",
          "text": [
            "\n",
            "Train Data: Average loss: 0.0002, Accuracy: 59435/60000 (99.0583%)\n",
            "\n"
          ],
          "name": "stdout"
        },
        {
          "output_type": "stream",
          "text": [
            "\n",
            "  0%|          | 0/469 [00:00<?, ?it/s]"
          ],
          "name": "stderr"
        },
        {
          "output_type": "stream",
          "text": [
            "\n",
            "Test set: Average loss: 0.0508, Accuracy: 9849/10000 (98.4900%)\n",
            "\n",
            "-----------------------------------------------\n",
            "\n",
            "EPOCH NUM 10\n"
          ],
          "name": "stdout"
        },
        {
          "output_type": "stream",
          "text": [
            "loss=0.015690496191382408 batch_id=468: 100%|██████████| 469/469 [00:13<00:00, 35.87it/s]"
          ],
          "name": "stderr"
        },
        {
          "output_type": "stream",
          "text": [
            "\n",
            "Train Data: Average loss: 0.0002, Accuracy: 59465/60000 (99.1083%)\n",
            "\n"
          ],
          "name": "stdout"
        },
        {
          "output_type": "stream",
          "text": [
            "\n",
            "  0%|          | 0/469 [00:00<?, ?it/s]"
          ],
          "name": "stderr"
        },
        {
          "output_type": "stream",
          "text": [
            "\n",
            "Test set: Average loss: 0.0347, Accuracy: 9899/10000 (98.9900%)\n",
            "\n",
            "-----------------------------------------------\n",
            "\n",
            "EPOCH NUM 11\n"
          ],
          "name": "stdout"
        },
        {
          "output_type": "stream",
          "text": [
            "loss=0.00868403259664774 batch_id=468: 100%|██████████| 469/469 [00:12<00:00, 37.01it/s]"
          ],
          "name": "stderr"
        },
        {
          "output_type": "stream",
          "text": [
            "\n",
            "Train Data: Average loss: 0.0002, Accuracy: 59531/60000 (99.2183%)\n",
            "\n"
          ],
          "name": "stdout"
        },
        {
          "output_type": "stream",
          "text": [
            "\n",
            "  0%|          | 0/469 [00:00<?, ?it/s]"
          ],
          "name": "stderr"
        },
        {
          "output_type": "stream",
          "text": [
            "\n",
            "Test set: Average loss: 0.0334, Accuracy: 9896/10000 (98.9600%)\n",
            "\n",
            "-----------------------------------------------\n",
            "\n",
            "EPOCH NUM 12\n"
          ],
          "name": "stdout"
        },
        {
          "output_type": "stream",
          "text": [
            "loss=0.07045983523130417 batch_id=468: 100%|██████████| 469/469 [00:12<00:00, 37.47it/s]"
          ],
          "name": "stderr"
        },
        {
          "output_type": "stream",
          "text": [
            "\n",
            "Train Data: Average loss: 0.0002, Accuracy: 59559/60000 (99.2650%)\n",
            "\n"
          ],
          "name": "stdout"
        },
        {
          "output_type": "stream",
          "text": [
            "\n",
            "  0%|          | 0/469 [00:00<?, ?it/s]"
          ],
          "name": "stderr"
        },
        {
          "output_type": "stream",
          "text": [
            "\n",
            "Test set: Average loss: 0.0346, Accuracy: 9892/10000 (98.9200%)\n",
            "\n",
            "-----------------------------------------------\n",
            "\n",
            "EPOCH NUM 13\n"
          ],
          "name": "stdout"
        },
        {
          "output_type": "stream",
          "text": [
            "loss=0.008614872582256794 batch_id=468: 100%|██████████| 469/469 [00:12<00:00, 37.63it/s]"
          ],
          "name": "stderr"
        },
        {
          "output_type": "stream",
          "text": [
            "\n",
            "Train Data: Average loss: 0.0002, Accuracy: 59600/60000 (99.3333%)\n",
            "\n"
          ],
          "name": "stdout"
        },
        {
          "output_type": "stream",
          "text": [
            "\n",
            "  0%|          | 0/469 [00:00<?, ?it/s]"
          ],
          "name": "stderr"
        },
        {
          "output_type": "stream",
          "text": [
            "\n",
            "Test set: Average loss: 0.0323, Accuracy: 9905/10000 (99.0500%)\n",
            "\n",
            "-----------------------------------------------\n",
            "\n",
            "EPOCH NUM 14\n"
          ],
          "name": "stdout"
        },
        {
          "output_type": "stream",
          "text": [
            "loss=0.01214344147592783 batch_id=468: 100%|██████████| 469/469 [00:12<00:00, 36.95it/s]"
          ],
          "name": "stderr"
        },
        {
          "output_type": "stream",
          "text": [
            "\n",
            "Train Data: Average loss: 0.0002, Accuracy: 59607/60000 (99.3450%)\n",
            "\n"
          ],
          "name": "stdout"
        },
        {
          "output_type": "stream",
          "text": [
            "\n",
            "  0%|          | 0/469 [00:00<?, ?it/s]"
          ],
          "name": "stderr"
        },
        {
          "output_type": "stream",
          "text": [
            "\n",
            "Test set: Average loss: 0.0367, Accuracy: 9899/10000 (98.9900%)\n",
            "\n",
            "-----------------------------------------------\n",
            "\n",
            "EPOCH NUM 15\n"
          ],
          "name": "stdout"
        },
        {
          "output_type": "stream",
          "text": [
            "loss=0.01957867294549942 batch_id=468: 100%|██████████| 469/469 [00:12<00:00, 37.90it/s]"
          ],
          "name": "stderr"
        },
        {
          "output_type": "stream",
          "text": [
            "\n",
            "Train Data: Average loss: 0.0001, Accuracy: 59682/60000 (99.4700%)\n",
            "\n"
          ],
          "name": "stdout"
        },
        {
          "output_type": "stream",
          "text": [
            "\n",
            "  0%|          | 0/469 [00:00<?, ?it/s]"
          ],
          "name": "stderr"
        },
        {
          "output_type": "stream",
          "text": [
            "\n",
            "Test set: Average loss: 0.0364, Accuracy: 9909/10000 (99.0900%)\n",
            "\n",
            "-----------------------------------------------\n",
            "\n",
            "EPOCH NUM 16\n"
          ],
          "name": "stdout"
        },
        {
          "output_type": "stream",
          "text": [
            "loss=0.01895216666162014 batch_id=468: 100%|██████████| 469/469 [00:12<00:00, 36.89it/s]"
          ],
          "name": "stderr"
        },
        {
          "output_type": "stream",
          "text": [
            "\n",
            "Train Data: Average loss: 0.0001, Accuracy: 59665/60000 (99.4417%)\n",
            "\n"
          ],
          "name": "stdout"
        },
        {
          "output_type": "stream",
          "text": [
            "\n",
            "  0%|          | 0/469 [00:00<?, ?it/s]"
          ],
          "name": "stderr"
        },
        {
          "output_type": "stream",
          "text": [
            "\n",
            "Test set: Average loss: 0.0381, Accuracy: 9907/10000 (99.0700%)\n",
            "\n",
            "-----------------------------------------------\n",
            "\n",
            "EPOCH NUM 17\n"
          ],
          "name": "stdout"
        },
        {
          "output_type": "stream",
          "text": [
            "loss=0.0717400386929512 batch_id=468: 100%|██████████| 469/469 [00:12<00:00, 36.60it/s]"
          ],
          "name": "stderr"
        },
        {
          "output_type": "stream",
          "text": [
            "\n",
            "Train Data: Average loss: 0.0001, Accuracy: 59696/60000 (99.4933%)\n",
            "\n"
          ],
          "name": "stdout"
        },
        {
          "output_type": "stream",
          "text": [
            "\n",
            "  0%|          | 0/469 [00:00<?, ?it/s]"
          ],
          "name": "stderr"
        },
        {
          "output_type": "stream",
          "text": [
            "\n",
            "Test set: Average loss: 0.0358, Accuracy: 9905/10000 (99.0500%)\n",
            "\n",
            "-----------------------------------------------\n",
            "\n",
            "EPOCH NUM 18\n"
          ],
          "name": "stdout"
        },
        {
          "output_type": "stream",
          "text": [
            "loss=0.04456133022904396 batch_id=468: 100%|██████████| 469/469 [00:12<00:00, 36.31it/s]"
          ],
          "name": "stderr"
        },
        {
          "output_type": "stream",
          "text": [
            "\n",
            "Train Data: Average loss: 0.0001, Accuracy: 59700/60000 (99.5000%)\n",
            "\n"
          ],
          "name": "stdout"
        },
        {
          "output_type": "stream",
          "text": [
            "\n",
            "  0%|          | 0/469 [00:00<?, ?it/s]"
          ],
          "name": "stderr"
        },
        {
          "output_type": "stream",
          "text": [
            "\n",
            "Test set: Average loss: 0.0353, Accuracy: 9905/10000 (99.0500%)\n",
            "\n",
            "-----------------------------------------------\n",
            "\n",
            "EPOCH NUM 19\n"
          ],
          "name": "stdout"
        },
        {
          "output_type": "stream",
          "text": [
            "loss=0.005618039984256029 batch_id=468: 100%|██████████| 469/469 [00:12<00:00, 36.42it/s]"
          ],
          "name": "stderr"
        },
        {
          "output_type": "stream",
          "text": [
            "\n",
            "Train Data: Average loss: 0.0001, Accuracy: 59725/60000 (99.5417%)\n",
            "\n"
          ],
          "name": "stdout"
        },
        {
          "output_type": "stream",
          "text": [
            "\n",
            "  0%|          | 0/469 [00:00<?, ?it/s]"
          ],
          "name": "stderr"
        },
        {
          "output_type": "stream",
          "text": [
            "\n",
            "Test set: Average loss: 0.0366, Accuracy: 9902/10000 (99.0200%)\n",
            "\n",
            "-----------------------------------------------\n",
            "\n",
            "EPOCH NUM 20\n"
          ],
          "name": "stdout"
        },
        {
          "output_type": "stream",
          "text": [
            "loss=0.013092958368360996 batch_id=468: 100%|██████████| 469/469 [00:12<00:00, 36.64it/s]"
          ],
          "name": "stderr"
        },
        {
          "output_type": "stream",
          "text": [
            "\n",
            "Train Data: Average loss: 0.0001, Accuracy: 59746/60000 (99.5767%)\n",
            "\n"
          ],
          "name": "stdout"
        },
        {
          "output_type": "stream",
          "text": [
            "\n"
          ],
          "name": "stderr"
        },
        {
          "output_type": "stream",
          "text": [
            "\n",
            "Test set: Average loss: 0.0336, Accuracy: 9904/10000 (99.0400%)\n",
            "\n",
            "-----------------------------------------------\n",
            "TOTAL TRAINING TIME:  289.0109257698059\n",
            "LAST 10 EPOCH AVG ACC:  0.99024\n",
            "LAST 5 EPOCH AVG ACC:  0.99046\n",
            "MAX ACCURACY:  0.9909\n"
          ],
          "name": "stdout"
        }
      ]
    },
    {
      "cell_type": "code",
      "metadata": {
        "id": "E8afQ22StDYo",
        "colab_type": "code",
        "colab": {}
      },
      "source": [
        ""
      ],
      "execution_count": 7,
      "outputs": []
    }
  ]
}