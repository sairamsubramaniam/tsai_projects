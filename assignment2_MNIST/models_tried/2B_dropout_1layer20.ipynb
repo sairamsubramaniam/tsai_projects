{
  "nbformat": 4,
  "nbformat_minor": 0,
  "metadata": {
    "colab": {
      "name": "EVA5 - MNIST 99.4.ipynb",
      "provenance": []
    },
    "kernelspec": {
      "name": "python3",
      "display_name": "Python 3"
    },
    "accelerator": "GPU"
  },
  "cells": [
    {
      "cell_type": "code",
      "metadata": {
        "id": "XHIdQNJcLNMl",
        "colab_type": "code",
        "colab": {
          "base_uri": "https://localhost:8080/",
          "height": 34
        },
        "outputId": "e426d18e-4ffc-4b53-e60a-dc6e404da59f"
      },
      "source": [
        "from google.colab import drive\n",
        "drive.mount(\"/content/drive\")\n",
        "\n",
        "base_folder = 'drive/My Drive/eva_stored_from_colab/eva5/'\n",
        "acc_recorder_file = \"highest_accuracy_achieved\"\n",
        "model_file_name = \"added_1x1\""
      ],
      "execution_count": 1,
      "outputs": [
        {
          "output_type": "stream",
          "text": [
            "Drive already mounted at /content/drive; to attempt to forcibly remount, call drive.mount(\"/content/drive\", force_remount=True).\n"
          ],
          "name": "stdout"
        }
      ]
    },
    {
      "cell_type": "code",
      "metadata": {
        "id": "0m2JWFliFfKT",
        "colab_type": "code",
        "colab": {}
      },
      "source": [
        "from __future__ import print_function\n",
        "from operator import itemgetter\n",
        "import time\n",
        "import torch\n",
        "import torch.nn as nn\n",
        "import torch.nn.functional as F\n",
        "import torch.optim as optim\n",
        "from torchvision import datasets, transforms"
      ],
      "execution_count": 2,
      "outputs": []
    },
    {
      "cell_type": "code",
      "metadata": {
        "id": "h_Cx9q2QFgM7",
        "colab_type": "code",
        "colab": {}
      },
      "source": [
        "class Net(nn.Module):\n",
        "    def __init__(self):\n",
        "        super(Net, self).__init__()\n",
        "        self.conv1 = nn.Conv2d(1, 8, 3)\n",
        "        self.bn1 = nn.BatchNorm2d(8)\n",
        "        self.dp1 = nn.Dropout2d(0.2)\n",
        "        self.conv2 = nn.Conv2d(8, 8, 3)\n",
        "        self.bn2 = nn.BatchNorm2d(8)\n",
        "        self.pool1 = nn.MaxPool2d(2, 2)\n",
        "        self.antman = nn.Conv2d(8, 8, 1)\n",
        "        self.conv3 = nn.Conv2d(8, 16, 3)\n",
        "        self.bn3 = nn.BatchNorm2d(16)\n",
        "        self.conv4 = nn.Conv2d(16, 16, 3)\n",
        "        self.bn4 = nn.BatchNorm2d(16)\n",
        "        self.conv5 = nn.Conv2d(16, 16, 3)\n",
        "        self.bn5 = nn.BatchNorm2d(16)\n",
        "        self.conv6 = nn.Conv2d(16, 10, 6)\n",
        "\n",
        "    def forward(self, x):\n",
        "        x = self.bn1(F.relu(self.conv1(x)))\n",
        "        x = self.dp1(x)\n",
        "        x = self.bn2(F.relu(self.conv2(x)))\n",
        "        x = self.antman(self.pool1(x))\n",
        "        x = self.bn3(F.relu(self.conv3(x)))\n",
        "        x = self.bn4(F.relu(self.conv4(x)))\n",
        "        x = self.bn5(F.relu(self.conv5(x)))\n",
        "        x = self.conv6(x)\n",
        "        x = x.view(-1, 10)\n",
        "        return F.log_softmax(x, dim=1)"
      ],
      "execution_count": 3,
      "outputs": []
    },
    {
      "cell_type": "code",
      "metadata": {
        "colab_type": "code",
        "id": "xdydjYTZFyi3",
        "colab": {
          "base_uri": "https://localhost:8080/",
          "height": 503
        },
        "outputId": "41fee8c9-dc45-447d-901c-824a2212f0cc"
      },
      "source": [
        "!pip install torchsummary\n",
        "from torchsummary import summary\n",
        "use_cuda = torch.cuda.is_available()\n",
        "device = torch.device(\"cuda\" if use_cuda else \"cpu\")\n",
        "model = Net().to(device)\n",
        "summary(model, input_size=(1, 28, 28))"
      ],
      "execution_count": 4,
      "outputs": [
        {
          "output_type": "stream",
          "text": [
            "Requirement already satisfied: torchsummary in /usr/local/lib/python3.6/dist-packages (1.5.1)\n",
            "----------------------------------------------------------------\n",
            "        Layer (type)               Output Shape         Param #\n",
            "================================================================\n",
            "            Conv2d-1            [-1, 8, 26, 26]              80\n",
            "       BatchNorm2d-2            [-1, 8, 26, 26]              16\n",
            "         Dropout2d-3            [-1, 8, 26, 26]               0\n",
            "            Conv2d-4            [-1, 8, 24, 24]             584\n",
            "       BatchNorm2d-5            [-1, 8, 24, 24]              16\n",
            "         MaxPool2d-6            [-1, 8, 12, 12]               0\n",
            "            Conv2d-7            [-1, 8, 12, 12]              72\n",
            "            Conv2d-8           [-1, 16, 10, 10]           1,168\n",
            "       BatchNorm2d-9           [-1, 16, 10, 10]              32\n",
            "           Conv2d-10             [-1, 16, 8, 8]           2,320\n",
            "      BatchNorm2d-11             [-1, 16, 8, 8]              32\n",
            "           Conv2d-12             [-1, 16, 6, 6]           2,320\n",
            "      BatchNorm2d-13             [-1, 16, 6, 6]              32\n",
            "           Conv2d-14             [-1, 10, 1, 1]           5,770\n",
            "================================================================\n",
            "Total params: 12,442\n",
            "Trainable params: 12,442\n",
            "Non-trainable params: 0\n",
            "----------------------------------------------------------------\n",
            "Input size (MB): 0.00\n",
            "Forward/backward pass size (MB): 0.26\n",
            "Params size (MB): 0.05\n",
            "Estimated Total Size (MB): 0.31\n",
            "----------------------------------------------------------------\n"
          ],
          "name": "stdout"
        }
      ]
    },
    {
      "cell_type": "code",
      "metadata": {
        "id": "DqTWLaM5GHgH",
        "colab_type": "code",
        "colab": {}
      },
      "source": [
        "torch.manual_seed(1)\n",
        "batch_size = 128\n",
        "\n",
        "kwargs = {'num_workers': 1, 'pin_memory': True} if use_cuda else {}\n",
        "train_loader = torch.utils.data.DataLoader(\n",
        "    datasets.MNIST('../data', train=True, download=True,\n",
        "                    transform=transforms.Compose([\n",
        "                        transforms.ToTensor(),\n",
        "                        transforms.Normalize((0.1307,), (0.3081,))\n",
        "                    ])),\n",
        "    batch_size=batch_size, shuffle=True, **kwargs)\n",
        "test_loader = torch.utils.data.DataLoader(\n",
        "    datasets.MNIST('../data', train=False, transform=transforms.Compose([\n",
        "                        transforms.ToTensor(),\n",
        "                        transforms.Normalize((0.1307,), (0.3081,))\n",
        "                    ])),\n",
        "    batch_size=batch_size, shuffle=True, **kwargs)\n"
      ],
      "execution_count": 5,
      "outputs": []
    },
    {
      "cell_type": "code",
      "metadata": {
        "id": "8fDefDhaFlwH",
        "colab_type": "code",
        "colab": {}
      },
      "source": [
        "from tqdm import tqdm\n",
        "def train(model, device, train_loader, optimizer, epoch):\n",
        "    model.train()\n",
        "    train_loss = 0\n",
        "    correct = 0\n",
        "    pbar = tqdm(train_loader)\n",
        "    for batch_idx, (data, target) in enumerate(pbar):\n",
        "        data, target = data.to(device), target.to(device)\n",
        "        optimizer.zero_grad()\n",
        "        output = model(data)\n",
        "        loss = F.nll_loss(output, target)\n",
        "        train_loss += loss.item()\n",
        "        pred = output.argmax(dim=1, keepdim=True)\n",
        "        correct += pred.eq(target.view_as(pred)).sum().item()\n",
        "\n",
        "        loss.backward()\n",
        "        optimizer.step()\n",
        "        pbar.set_description(desc= f'loss={loss.item()} batch_id={batch_idx}')\n",
        "    \n",
        "    total_imgs = len(train_loader.dataset)\n",
        "    train_loss /= total_imgs\n",
        "    accuracy = 100. * correct / total_imgs\n",
        "\n",
        "    print('\\nTrain Data: Average loss: {:.4f}, Accuracy: {}/{} ({:.4f}%)\\n'.format(\n",
        "        train_loss, correct, total_imgs, accuracy)\n",
        "    )\n",
        "    \n",
        "    return train_loss, accuracy\n",
        "\n",
        "\n",
        "def test(model, device, test_loader):\n",
        "    model.eval()\n",
        "    test_loss = 0\n",
        "    correct = 0\n",
        "    with torch.no_grad():\n",
        "        for data, target in test_loader:\n",
        "            data, target = data.to(device), target.to(device)\n",
        "            output = model(data)\n",
        "            test_loss += F.nll_loss(output, target, reduction='sum').item()  # sum up batch loss\n",
        "            pred = output.argmax(dim=1, keepdim=True)  # get the index of the max log-probability\n",
        "            correct += pred.eq(target.view_as(pred)).sum().item()\n",
        "\n",
        "    test_loss /= len(test_loader.dataset)\n",
        "\n",
        "    print('\\nTest set: Average loss: {:.4f}, Accuracy: {}/{} ({:.4f}%)\\n'.format(\n",
        "        test_loss, correct, len(test_loader.dataset),\n",
        "        100. * correct / len(test_loader.dataset)))\n",
        "    \n",
        "    return test_loss, correct / len(test_loader.dataset)\n",
        "\n",
        "def record_max_acc(max_acc):\n",
        "    f = open(base_folder+acc_recorder_file, \"w\")\n",
        "    f.write(str(max_acc))\n",
        "    f.close()"
      ],
      "execution_count": 6,
      "outputs": []
    },
    {
      "cell_type": "code",
      "metadata": {
        "id": "MMWbLWO6FuHb",
        "colab_type": "code",
        "colab": {
          "base_uri": "https://localhost:8080/",
          "height": 1000
        },
        "outputId": "96511ba2-791a-4a95-b38e-b62a188d84b4"
      },
      "source": [
        "model = Net().to(device)\n",
        "optimizer = optim.SGD(model.parameters(), lr=0.01, momentum=0.9)\n",
        "\n",
        "start = time.time()\n",
        "test_acc = []\n",
        "\n",
        "try:\n",
        "    with open(base_folder+acc_recorder_file, \"r\") as infl:\n",
        "        max_acc = float(infl.read().strip())\n",
        "except:\n",
        "    max_acc = 0.0\n",
        "\n",
        "print(\"\\nLAST RECORDED MAX ACCURACY: \", max_acc)\n",
        "for epoch in range(1, 21):\n",
        "    ep_start = time.time()\n",
        "    print()\n",
        "    print(\"EPOCH NUM {}\".format(epoch))\n",
        "    trl, tra = train(model, device, train_loader, optimizer, epoch)\n",
        "    tsl, tsa = test(model, device, test_loader)\n",
        "    test_acc.append(tsa)\n",
        "    if tsa > max_acc:\n",
        "        max_acc = tsa\n",
        "        torch.save(model.state_dict(), base_folder+model_file_name+\"_sd.pth\")\n",
        "        record_max_acc(max_acc)\n",
        "    print(\"-----------------------------------------------\")\n",
        "print(\"TOTAL TRAINING TIME: \", time.time() - start)\n",
        "print(\"LAST 10 EPOCH AVG ACC: \", sum(test_acc[-10:]) / len(test_acc[-10:]) )\n",
        "print(\"LAST 5 EPOCH AVG ACC: \", sum(test_acc[-5:]) / len(test_acc[-5:]) )\n",
        "print(\"MAX ACCURACY: \", max(test_acc))"
      ],
      "execution_count": 7,
      "outputs": [
        {
          "output_type": "stream",
          "text": [
            "\r  0%|          | 0/469 [00:00<?, ?it/s]"
          ],
          "name": "stderr"
        },
        {
          "output_type": "stream",
          "text": [
            "\n",
            "LAST RECORDED MAX ACCURACY:  0.9939\n",
            "\n",
            "EPOCH NUM 1\n"
          ],
          "name": "stdout"
        },
        {
          "output_type": "stream",
          "text": [
            "loss=0.09937740117311478 batch_id=468: 100%|██████████| 469/469 [00:11<00:00, 40.69it/s]"
          ],
          "name": "stderr"
        },
        {
          "output_type": "stream",
          "text": [
            "\n",
            "Train Data: Average loss: 0.0013, Accuracy: 56968/60000 (94.9467%)\n",
            "\n"
          ],
          "name": "stdout"
        },
        {
          "output_type": "stream",
          "text": [
            "\n",
            "  0%|          | 0/469 [00:00<?, ?it/s]"
          ],
          "name": "stderr"
        },
        {
          "output_type": "stream",
          "text": [
            "\n",
            "Test set: Average loss: 0.0495, Accuracy: 9833/10000 (98.3300%)\n",
            "\n",
            "-----------------------------------------------\n",
            "\n",
            "EPOCH NUM 2\n"
          ],
          "name": "stdout"
        },
        {
          "output_type": "stream",
          "text": [
            "loss=0.019482234492897987 batch_id=468: 100%|██████████| 469/469 [00:11<00:00, 40.71it/s]"
          ],
          "name": "stderr"
        },
        {
          "output_type": "stream",
          "text": [
            "\n",
            "Train Data: Average loss: 0.0004, Accuracy: 59032/60000 (98.3867%)\n",
            "\n"
          ],
          "name": "stdout"
        },
        {
          "output_type": "stream",
          "text": [
            "\n",
            "  0%|          | 0/469 [00:00<?, ?it/s]"
          ],
          "name": "stderr"
        },
        {
          "output_type": "stream",
          "text": [
            "\n",
            "Test set: Average loss: 0.0375, Accuracy: 9880/10000 (98.8000%)\n",
            "\n",
            "-----------------------------------------------\n",
            "\n",
            "EPOCH NUM 3\n"
          ],
          "name": "stdout"
        },
        {
          "output_type": "stream",
          "text": [
            "loss=0.03999297320842743 batch_id=468: 100%|██████████| 469/469 [00:11<00:00, 40.78it/s]"
          ],
          "name": "stderr"
        },
        {
          "output_type": "stream",
          "text": [
            "\n",
            "Train Data: Average loss: 0.0003, Accuracy: 59290/60000 (98.8167%)\n",
            "\n"
          ],
          "name": "stdout"
        },
        {
          "output_type": "stream",
          "text": [
            "\n",
            "  0%|          | 0/469 [00:00<?, ?it/s]"
          ],
          "name": "stderr"
        },
        {
          "output_type": "stream",
          "text": [
            "\n",
            "Test set: Average loss: 0.0337, Accuracy: 9892/10000 (98.9200%)\n",
            "\n",
            "-----------------------------------------------\n",
            "\n",
            "EPOCH NUM 4\n"
          ],
          "name": "stdout"
        },
        {
          "output_type": "stream",
          "text": [
            "loss=0.08172913640737534 batch_id=468: 100%|██████████| 469/469 [00:11<00:00, 40.52it/s]"
          ],
          "name": "stderr"
        },
        {
          "output_type": "stream",
          "text": [
            "\n",
            "Train Data: Average loss: 0.0003, Accuracy: 59385/60000 (98.9750%)\n",
            "\n"
          ],
          "name": "stdout"
        },
        {
          "output_type": "stream",
          "text": [
            "\n",
            "  0%|          | 0/469 [00:00<?, ?it/s]"
          ],
          "name": "stderr"
        },
        {
          "output_type": "stream",
          "text": [
            "\n",
            "Test set: Average loss: 0.0279, Accuracy: 9906/10000 (99.0600%)\n",
            "\n",
            "-----------------------------------------------\n",
            "\n",
            "EPOCH NUM 5\n"
          ],
          "name": "stdout"
        },
        {
          "output_type": "stream",
          "text": [
            "loss=0.034112926572561264 batch_id=468: 100%|██████████| 469/469 [00:11<00:00, 40.07it/s]"
          ],
          "name": "stderr"
        },
        {
          "output_type": "stream",
          "text": [
            "\n",
            "Train Data: Average loss: 0.0002, Accuracy: 59501/60000 (99.1683%)\n",
            "\n"
          ],
          "name": "stdout"
        },
        {
          "output_type": "stream",
          "text": [
            "\n",
            "  0%|          | 0/469 [00:00<?, ?it/s]"
          ],
          "name": "stderr"
        },
        {
          "output_type": "stream",
          "text": [
            "\n",
            "Test set: Average loss: 0.0340, Accuracy: 9888/10000 (98.8800%)\n",
            "\n",
            "-----------------------------------------------\n",
            "\n",
            "EPOCH NUM 6\n"
          ],
          "name": "stdout"
        },
        {
          "output_type": "stream",
          "text": [
            "loss=0.0023300934117287397 batch_id=468: 100%|██████████| 469/469 [00:11<00:00, 40.83it/s]"
          ],
          "name": "stderr"
        },
        {
          "output_type": "stream",
          "text": [
            "\n",
            "Train Data: Average loss: 0.0002, Accuracy: 59530/60000 (99.2167%)\n",
            "\n"
          ],
          "name": "stdout"
        },
        {
          "output_type": "stream",
          "text": [
            "\n",
            "  0%|          | 0/469 [00:00<?, ?it/s]"
          ],
          "name": "stderr"
        },
        {
          "output_type": "stream",
          "text": [
            "\n",
            "Test set: Average loss: 0.0294, Accuracy: 9910/10000 (99.1000%)\n",
            "\n",
            "-----------------------------------------------\n",
            "\n",
            "EPOCH NUM 7\n"
          ],
          "name": "stdout"
        },
        {
          "output_type": "stream",
          "text": [
            "loss=0.014655155129730701 batch_id=468: 100%|██████████| 469/469 [00:11<00:00, 41.40it/s]"
          ],
          "name": "stderr"
        },
        {
          "output_type": "stream",
          "text": [
            "\n",
            "Train Data: Average loss: 0.0002, Accuracy: 59623/60000 (99.3717%)\n",
            "\n"
          ],
          "name": "stdout"
        },
        {
          "output_type": "stream",
          "text": [
            "\n",
            "  0%|          | 0/469 [00:00<?, ?it/s]"
          ],
          "name": "stderr"
        },
        {
          "output_type": "stream",
          "text": [
            "\n",
            "Test set: Average loss: 0.0259, Accuracy: 9910/10000 (99.1000%)\n",
            "\n",
            "-----------------------------------------------\n",
            "\n",
            "EPOCH NUM 8\n"
          ],
          "name": "stdout"
        },
        {
          "output_type": "stream",
          "text": [
            "loss=0.006471369881182909 batch_id=468: 100%|██████████| 469/469 [00:11<00:00, 40.85it/s]"
          ],
          "name": "stderr"
        },
        {
          "output_type": "stream",
          "text": [
            "\n",
            "Train Data: Average loss: 0.0001, Accuracy: 59668/60000 (99.4467%)\n",
            "\n"
          ],
          "name": "stdout"
        },
        {
          "output_type": "stream",
          "text": [
            "\n",
            "  0%|          | 0/469 [00:00<?, ?it/s]"
          ],
          "name": "stderr"
        },
        {
          "output_type": "stream",
          "text": [
            "\n",
            "Test set: Average loss: 0.0260, Accuracy: 9913/10000 (99.1300%)\n",
            "\n",
            "-----------------------------------------------\n",
            "\n",
            "EPOCH NUM 9\n"
          ],
          "name": "stdout"
        },
        {
          "output_type": "stream",
          "text": [
            "loss=0.008457236923277378 batch_id=468: 100%|██████████| 469/469 [00:11<00:00, 40.64it/s]"
          ],
          "name": "stderr"
        },
        {
          "output_type": "stream",
          "text": [
            "\n",
            "Train Data: Average loss: 0.0001, Accuracy: 59700/60000 (99.5000%)\n",
            "\n"
          ],
          "name": "stdout"
        },
        {
          "output_type": "stream",
          "text": [
            "\n",
            "  0%|          | 0/469 [00:00<?, ?it/s]"
          ],
          "name": "stderr"
        },
        {
          "output_type": "stream",
          "text": [
            "\n",
            "Test set: Average loss: 0.0235, Accuracy: 9926/10000 (99.2600%)\n",
            "\n",
            "-----------------------------------------------\n",
            "\n",
            "EPOCH NUM 10\n"
          ],
          "name": "stdout"
        },
        {
          "output_type": "stream",
          "text": [
            "loss=0.004813112318515778 batch_id=468: 100%|██████████| 469/469 [00:11<00:00, 40.31it/s]"
          ],
          "name": "stderr"
        },
        {
          "output_type": "stream",
          "text": [
            "\n",
            "Train Data: Average loss: 0.0001, Accuracy: 59720/60000 (99.5333%)\n",
            "\n"
          ],
          "name": "stdout"
        },
        {
          "output_type": "stream",
          "text": [
            "\n",
            "  0%|          | 0/469 [00:00<?, ?it/s]"
          ],
          "name": "stderr"
        },
        {
          "output_type": "stream",
          "text": [
            "\n",
            "Test set: Average loss: 0.0233, Accuracy: 9921/10000 (99.2100%)\n",
            "\n",
            "-----------------------------------------------\n",
            "\n",
            "EPOCH NUM 11\n"
          ],
          "name": "stdout"
        },
        {
          "output_type": "stream",
          "text": [
            "loss=0.011946949176490307 batch_id=468: 100%|██████████| 469/469 [00:11<00:00, 40.44it/s]"
          ],
          "name": "stderr"
        },
        {
          "output_type": "stream",
          "text": [
            "\n",
            "Train Data: Average loss: 0.0001, Accuracy: 59748/60000 (99.5800%)\n",
            "\n"
          ],
          "name": "stdout"
        },
        {
          "output_type": "stream",
          "text": [
            "\n",
            "  0%|          | 0/469 [00:00<?, ?it/s]"
          ],
          "name": "stderr"
        },
        {
          "output_type": "stream",
          "text": [
            "\n",
            "Test set: Average loss: 0.0218, Accuracy: 9929/10000 (99.2900%)\n",
            "\n",
            "-----------------------------------------------\n",
            "\n",
            "EPOCH NUM 12\n"
          ],
          "name": "stdout"
        },
        {
          "output_type": "stream",
          "text": [
            "loss=0.07106984406709671 batch_id=468: 100%|██████████| 469/469 [00:11<00:00, 41.18it/s]"
          ],
          "name": "stderr"
        },
        {
          "output_type": "stream",
          "text": [
            "\n",
            "Train Data: Average loss: 0.0001, Accuracy: 59816/60000 (99.6933%)\n",
            "\n"
          ],
          "name": "stdout"
        },
        {
          "output_type": "stream",
          "text": [
            "\n",
            "  0%|          | 0/469 [00:00<?, ?it/s]"
          ],
          "name": "stderr"
        },
        {
          "output_type": "stream",
          "text": [
            "\n",
            "Test set: Average loss: 0.0224, Accuracy: 9924/10000 (99.2400%)\n",
            "\n",
            "-----------------------------------------------\n",
            "\n",
            "EPOCH NUM 13\n"
          ],
          "name": "stdout"
        },
        {
          "output_type": "stream",
          "text": [
            "loss=0.012135162018239498 batch_id=468: 100%|██████████| 469/469 [00:11<00:00, 40.58it/s]"
          ],
          "name": "stderr"
        },
        {
          "output_type": "stream",
          "text": [
            "\n",
            "Train Data: Average loss: 0.0001, Accuracy: 59787/60000 (99.6450%)\n",
            "\n"
          ],
          "name": "stdout"
        },
        {
          "output_type": "stream",
          "text": [
            "\n",
            "  0%|          | 0/469 [00:00<?, ?it/s]"
          ],
          "name": "stderr"
        },
        {
          "output_type": "stream",
          "text": [
            "\n",
            "Test set: Average loss: 0.0239, Accuracy: 9923/10000 (99.2300%)\n",
            "\n",
            "-----------------------------------------------\n",
            "\n",
            "EPOCH NUM 14\n"
          ],
          "name": "stdout"
        },
        {
          "output_type": "stream",
          "text": [
            "loss=0.01805092580616474 batch_id=468: 100%|██████████| 469/469 [00:11<00:00, 39.89it/s]"
          ],
          "name": "stderr"
        },
        {
          "output_type": "stream",
          "text": [
            "\n",
            "Train Data: Average loss: 0.0001, Accuracy: 59828/60000 (99.7133%)\n",
            "\n"
          ],
          "name": "stdout"
        },
        {
          "output_type": "stream",
          "text": [
            "\n",
            "  0%|          | 0/469 [00:00<?, ?it/s]"
          ],
          "name": "stderr"
        },
        {
          "output_type": "stream",
          "text": [
            "\n",
            "Test set: Average loss: 0.0238, Accuracy: 9929/10000 (99.2900%)\n",
            "\n",
            "-----------------------------------------------\n",
            "\n",
            "EPOCH NUM 15\n"
          ],
          "name": "stdout"
        },
        {
          "output_type": "stream",
          "text": [
            "loss=0.0029101355466991663 batch_id=468: 100%|██████████| 469/469 [00:11<00:00, 40.47it/s]"
          ],
          "name": "stderr"
        },
        {
          "output_type": "stream",
          "text": [
            "\n",
            "Train Data: Average loss: 0.0001, Accuracy: 59849/60000 (99.7483%)\n",
            "\n"
          ],
          "name": "stdout"
        },
        {
          "output_type": "stream",
          "text": [
            "\n",
            "  0%|          | 0/469 [00:00<?, ?it/s]"
          ],
          "name": "stderr"
        },
        {
          "output_type": "stream",
          "text": [
            "\n",
            "Test set: Average loss: 0.0237, Accuracy: 9933/10000 (99.3300%)\n",
            "\n",
            "-----------------------------------------------\n",
            "\n",
            "EPOCH NUM 16\n"
          ],
          "name": "stdout"
        },
        {
          "output_type": "stream",
          "text": [
            "loss=0.0054849921725690365 batch_id=468: 100%|██████████| 469/469 [00:11<00:00, 40.84it/s]"
          ],
          "name": "stderr"
        },
        {
          "output_type": "stream",
          "text": [
            "\n",
            "Train Data: Average loss: 0.0001, Accuracy: 59882/60000 (99.8033%)\n",
            "\n"
          ],
          "name": "stdout"
        },
        {
          "output_type": "stream",
          "text": [
            "\n",
            "  0%|          | 0/469 [00:00<?, ?it/s]"
          ],
          "name": "stderr"
        },
        {
          "output_type": "stream",
          "text": [
            "\n",
            "Test set: Average loss: 0.0219, Accuracy: 9936/10000 (99.3600%)\n",
            "\n",
            "-----------------------------------------------\n",
            "\n",
            "EPOCH NUM 17\n"
          ],
          "name": "stdout"
        },
        {
          "output_type": "stream",
          "text": [
            "loss=0.01647873781621456 batch_id=468: 100%|██████████| 469/469 [00:12<00:00, 38.32it/s]"
          ],
          "name": "stderr"
        },
        {
          "output_type": "stream",
          "text": [
            "\n",
            "Train Data: Average loss: 0.0001, Accuracy: 59882/60000 (99.8033%)\n",
            "\n"
          ],
          "name": "stdout"
        },
        {
          "output_type": "stream",
          "text": [
            "\n",
            "  0%|          | 0/469 [00:00<?, ?it/s]"
          ],
          "name": "stderr"
        },
        {
          "output_type": "stream",
          "text": [
            "\n",
            "Test set: Average loss: 0.0227, Accuracy: 9935/10000 (99.3500%)\n",
            "\n",
            "-----------------------------------------------\n",
            "\n",
            "EPOCH NUM 18\n"
          ],
          "name": "stdout"
        },
        {
          "output_type": "stream",
          "text": [
            "loss=0.005039798561483622 batch_id=468: 100%|██████████| 469/469 [00:11<00:00, 40.19it/s]"
          ],
          "name": "stderr"
        },
        {
          "output_type": "stream",
          "text": [
            "\n",
            "Train Data: Average loss: 0.0001, Accuracy: 59891/60000 (99.8183%)\n",
            "\n"
          ],
          "name": "stdout"
        },
        {
          "output_type": "stream",
          "text": [
            "\n",
            "  0%|          | 0/469 [00:00<?, ?it/s]"
          ],
          "name": "stderr"
        },
        {
          "output_type": "stream",
          "text": [
            "\n",
            "Test set: Average loss: 0.0218, Accuracy: 9934/10000 (99.3400%)\n",
            "\n",
            "-----------------------------------------------\n",
            "\n",
            "EPOCH NUM 19\n"
          ],
          "name": "stdout"
        },
        {
          "output_type": "stream",
          "text": [
            "loss=0.0019591390155255795 batch_id=468: 100%|██████████| 469/469 [00:11<00:00, 40.31it/s]"
          ],
          "name": "stderr"
        },
        {
          "output_type": "stream",
          "text": [
            "\n",
            "Train Data: Average loss: 0.0001, Accuracy: 59879/60000 (99.7983%)\n",
            "\n"
          ],
          "name": "stdout"
        },
        {
          "output_type": "stream",
          "text": [
            "\n",
            "  0%|          | 0/469 [00:00<?, ?it/s]"
          ],
          "name": "stderr"
        },
        {
          "output_type": "stream",
          "text": [
            "\n",
            "Test set: Average loss: 0.0255, Accuracy: 9926/10000 (99.2600%)\n",
            "\n",
            "-----------------------------------------------\n",
            "\n",
            "EPOCH NUM 20\n"
          ],
          "name": "stdout"
        },
        {
          "output_type": "stream",
          "text": [
            "loss=0.0043073431588709354 batch_id=468: 100%|██████████| 469/469 [00:11<00:00, 40.32it/s]"
          ],
          "name": "stderr"
        },
        {
          "output_type": "stream",
          "text": [
            "\n",
            "Train Data: Average loss: 0.0000, Accuracy: 59928/60000 (99.8800%)\n",
            "\n"
          ],
          "name": "stdout"
        },
        {
          "output_type": "stream",
          "text": [
            "\n"
          ],
          "name": "stderr"
        },
        {
          "output_type": "stream",
          "text": [
            "\n",
            "Test set: Average loss: 0.0250, Accuracy: 9926/10000 (99.2600%)\n",
            "\n",
            "-----------------------------------------------\n",
            "TOTAL TRAINING TIME:  262.6564302444458\n",
            "LAST 10 EPOCH AVG ACC:  0.9929499999999999\n",
            "LAST 5 EPOCH AVG ACC:  0.99314\n",
            "MAX ACCURACY:  0.9936\n"
          ],
          "name": "stdout"
        }
      ]
    },
    {
      "cell_type": "code",
      "metadata": {
        "id": "E8afQ22StDYo",
        "colab_type": "code",
        "colab": {}
      },
      "source": [
        ""
      ],
      "execution_count": 7,
      "outputs": []
    }
  ]
}