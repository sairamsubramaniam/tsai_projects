{
  "nbformat": 4,
  "nbformat_minor": 0,
  "metadata": {
    "kernelspec": {
      "name": "python3",
      "display_name": "Python 3"
    },
    "language_info": {
      "codemirror_mode": {
        "name": "ipython",
        "version": 3
      },
      "file_extension": ".py",
      "mimetype": "text/x-python",
      "name": "python",
      "nbconvert_exporter": "python",
      "pygments_lexer": "ipython3",
      "version": "3.6.6"
    },
    "colab": {
      "name": "EVA5_S11_cifar10_superConvergence.ipynb",
      "provenance": [],
      "collapsed_sections": []
    },
    "accelerator": "GPU"
  },
  "cells": [
    {
      "cell_type": "markdown",
      "metadata": {
        "id": "jSY0dZuMPgs0"
      },
      "source": [
        "# Modelling CIFAR10 Dataset - Using Super Convergence Strategies\n"
      ]
    },
    {
      "cell_type": "markdown",
      "metadata": {
        "id": "m1JuZiyeQMxj"
      },
      "source": [
        "## Setup google drive for storage & retrieval"
      ]
    },
    {
      "cell_type": "code",
      "metadata": {
        "id": "QVbdg0z4poCc",
        "outputId": "e35432e4-32f7-463d-f19f-f46ce5a93c8b",
        "colab": {
          "base_uri": "https://localhost:8080/",
          "height": 34
        }
      },
      "source": [
        "from google.colab import drive\n",
        "drive.mount(\"/content/drive\", force_remount=True)\n",
        "\n",
        "module_folder = 'drive/My Drive/eva_stored_from_colab/eva5/cifar10_superConvergence/'\n",
        "github_path = \"tsai_projects/assignment11_superConvergence/\"\n",
        "github_raw_models_path = \"tsai_projects/assignment11_superConvergence/raw_models/\"\n",
        "github_custom_utils_path = \"tsai_projects/assignment11_superConvergence/custom_utils/\"\n",
        "\n",
        "\n",
        "base_folder = module_folder+'trained_weights/'\n",
        "anlt_folder = module_folder+'analysis_materials/'\n",
        "acc_recorder_files = [\"maxAcc_cifar10_superConvergence\"]\n",
        "model_file_names = [\"mdl_cifar10_superConvergence\"]"
      ],
      "execution_count": 1,
      "outputs": [
        {
          "output_type": "stream",
          "text": [
            "Mounted at /content/drive\n"
          ],
          "name": "stdout"
        }
      ]
    },
    {
      "cell_type": "markdown",
      "metadata": {
        "id": "BQ0hA60RQcMp"
      },
      "source": [
        "## Get module from github & set it up for use"
      ]
    },
    {
      "cell_type": "code",
      "metadata": {
        "id": "QxB67HbyMhOJ"
      },
      "source": [
        "!rm -r tsai_projects/"
      ],
      "execution_count": 2,
      "outputs": []
    },
    {
      "cell_type": "code",
      "metadata": {
        "id": "QOveF9Ys1_eN",
        "outputId": "685422f7-c08a-4025-ec91-049e55ba739c",
        "colab": {
          "base_uri": "https://localhost:8080/",
          "height": 139
        }
      },
      "source": [
        "!git clone  https://github.com/sairamsubramaniam/tsai_projects.git"
      ],
      "execution_count": 3,
      "outputs": [
        {
          "output_type": "stream",
          "text": [
            "Cloning into 'tsai_projects'...\n",
            "remote: Enumerating objects: 49, done.\u001b[K\n",
            "remote: Counting objects: 100% (49/49), done.\u001b[K\n",
            "remote: Compressing objects: 100% (36/36), done.\u001b[K\n",
            "remote: Total 459 (delta 23), reused 38 (delta 13), pack-reused 410\u001b[K\n",
            "Receiving objects: 100% (459/459), 1.49 MiB | 2.69 MiB/s, done.\n",
            "Resolving deltas: 100% (251/251), done.\n"
          ],
          "name": "stdout"
        }
      ]
    },
    {
      "cell_type": "markdown",
      "metadata": {
        "id": "DfuJd8fsYgNG"
      },
      "source": [
        "# RESTART RUNTIME AFTER INSTALLING THE BELOW"
      ]
    },
    {
      "cell_type": "code",
      "metadata": {
        "id": "CA0cEDldYbD2",
        "outputId": "79b1c48f-4756-41c6-b1fe-eb7f6a1cd432",
        "colab": {
          "base_uri": "https://localhost:8080/",
          "height": 750
        }
      },
      "source": [
        "!pip install -U git+https://github.com/albumentations-team/albumentations"
      ],
      "execution_count": 7,
      "outputs": [
        {
          "output_type": "stream",
          "text": [
            "Collecting git+https://github.com/albumentations-team/albumentations\n",
            "  Cloning https://github.com/albumentations-team/albumentations to /tmp/pip-req-build-1b22z8iw\n",
            "  Running command git clone -q https://github.com/albumentations-team/albumentations /tmp/pip-req-build-1b22z8iw\n",
            "Requirement already satisfied, skipping upgrade: numpy>=1.11.1 in /usr/local/lib/python3.6/dist-packages (from albumentations==0.4.6) (1.18.5)\n",
            "Requirement already satisfied, skipping upgrade: scipy in /usr/local/lib/python3.6/dist-packages (from albumentations==0.4.6) (1.4.1)\n",
            "Requirement already satisfied, skipping upgrade: scikit-image>=0.16.1 in /usr/local/lib/python3.6/dist-packages (from albumentations==0.4.6) (0.16.2)\n",
            "Collecting imgaug>=0.4.0\n",
            "\u001b[?25l  Downloading https://files.pythonhosted.org/packages/66/b1/af3142c4a85cba6da9f4ebb5ff4e21e2616309552caca5e8acefe9840622/imgaug-0.4.0-py2.py3-none-any.whl (948kB)\n",
            "\u001b[K     |████████████████████████████████| 952kB 6.8MB/s \n",
            "\u001b[?25hRequirement already satisfied, skipping upgrade: PyYAML in /usr/local/lib/python3.6/dist-packages (from albumentations==0.4.6) (3.13)\n",
            "Requirement already satisfied, skipping upgrade: opencv-python>=4.1.1 in /usr/local/lib/python3.6/dist-packages (from albumentations==0.4.6) (4.1.2.30)\n",
            "Requirement already satisfied, skipping upgrade: imageio>=2.3.0 in /usr/local/lib/python3.6/dist-packages (from scikit-image>=0.16.1->albumentations==0.4.6) (2.4.1)\n",
            "Requirement already satisfied, skipping upgrade: networkx>=2.0 in /usr/local/lib/python3.6/dist-packages (from scikit-image>=0.16.1->albumentations==0.4.6) (2.5)\n",
            "Requirement already satisfied, skipping upgrade: pillow>=4.3.0 in /usr/local/lib/python3.6/dist-packages (from scikit-image>=0.16.1->albumentations==0.4.6) (7.0.0)\n",
            "Requirement already satisfied, skipping upgrade: matplotlib!=3.0.0,>=2.0.0 in /usr/local/lib/python3.6/dist-packages (from scikit-image>=0.16.1->albumentations==0.4.6) (3.2.2)\n",
            "Requirement already satisfied, skipping upgrade: PyWavelets>=0.4.0 in /usr/local/lib/python3.6/dist-packages (from scikit-image>=0.16.1->albumentations==0.4.6) (1.1.1)\n",
            "Requirement already satisfied, skipping upgrade: six in /usr/local/lib/python3.6/dist-packages (from imgaug>=0.4.0->albumentations==0.4.6) (1.15.0)\n",
            "Requirement already satisfied, skipping upgrade: Shapely in /usr/local/lib/python3.6/dist-packages (from imgaug>=0.4.0->albumentations==0.4.6) (1.7.1)\n",
            "Requirement already satisfied, skipping upgrade: decorator>=4.3.0 in /usr/local/lib/python3.6/dist-packages (from networkx>=2.0->scikit-image>=0.16.1->albumentations==0.4.6) (4.4.2)\n",
            "Requirement already satisfied, skipping upgrade: pyparsing!=2.0.4,!=2.1.2,!=2.1.6,>=2.0.1 in /usr/local/lib/python3.6/dist-packages (from matplotlib!=3.0.0,>=2.0.0->scikit-image>=0.16.1->albumentations==0.4.6) (2.4.7)\n",
            "Requirement already satisfied, skipping upgrade: python-dateutil>=2.1 in /usr/local/lib/python3.6/dist-packages (from matplotlib!=3.0.0,>=2.0.0->scikit-image>=0.16.1->albumentations==0.4.6) (2.8.1)\n",
            "Requirement already satisfied, skipping upgrade: cycler>=0.10 in /usr/local/lib/python3.6/dist-packages (from matplotlib!=3.0.0,>=2.0.0->scikit-image>=0.16.1->albumentations==0.4.6) (0.10.0)\n",
            "Requirement already satisfied, skipping upgrade: kiwisolver>=1.0.1 in /usr/local/lib/python3.6/dist-packages (from matplotlib!=3.0.0,>=2.0.0->scikit-image>=0.16.1->albumentations==0.4.6) (1.2.0)\n",
            "Building wheels for collected packages: albumentations\n",
            "  Building wheel for albumentations (setup.py) ... \u001b[?25l\u001b[?25hdone\n",
            "  Created wheel for albumentations: filename=albumentations-0.4.6-cp36-none-any.whl size=69177 sha256=eed11600a4042ade2ae43d4a69455ed49ca5f0967b89d9bb5799824864c455fc\n",
            "  Stored in directory: /tmp/pip-ephem-wheel-cache-dhfb8vl1/wheels/6f/77/82/86baf8aeda64a6de0f890cd0f2fb31acaf5545cc9c99ad21ba\n",
            "Successfully built albumentations\n",
            "Installing collected packages: imgaug, albumentations\n",
            "  Found existing installation: imgaug 0.2.9\n",
            "    Uninstalling imgaug-0.2.9:\n",
            "      Successfully uninstalled imgaug-0.2.9\n",
            "  Found existing installation: albumentations 0.1.12\n",
            "    Uninstalling albumentations-0.1.12:\n",
            "      Successfully uninstalled albumentations-0.1.12\n",
            "Successfully installed albumentations-0.4.6 imgaug-0.4.0\n"
          ],
          "name": "stdout"
        },
        {
          "output_type": "display_data",
          "data": {
            "application/vnd.colab-display-data+json": {
              "pip_warning": {
                "packages": [
                  "albumentations",
                  "imgaug"
                ]
              }
            }
          },
          "metadata": {
            "tags": []
          }
        }
      ]
    },
    {
      "cell_type": "markdown",
      "metadata": {
        "id": "HlDlyn_PQvqm"
      },
      "source": [
        "## Import all the required modules including the custom ones"
      ]
    },
    {
      "cell_type": "code",
      "metadata": {
        "id": "-yVpodAMpoCi"
      },
      "source": [
        "from __future__ import print_function\n",
        "from operator import itemgetter\n",
        "import time\n",
        "import sys\n",
        "# sys.path.append(module_folder)\n",
        "sys.path.append(github_path)\n",
        "sys.path.append(github_raw_models_path)\n",
        "sys.path.append(github_custom_utils_path)\n",
        "\n",
        "import torch\n",
        "import torch.nn as nn\n",
        "import torch.nn.functional as F\n",
        "import torch.optim as optim\n",
        "import torchvision\n",
        "from torchvision import datasets, transforms\n",
        "\n",
        "import matplotlib.pyplot as plt\n",
        "%matplotlib inline\n",
        "\n",
        "from raw_models import new_resnet_S11\n",
        "import custom_utils\n",
        "from custom_utils import helpers\n",
        "from custom_utils import analytics\n",
        "from custom_utils import preprocessors as prep\n",
        "from custom_utils import lrfinder\n",
        "from custom_utils.lrfinder import lr_finder\n",
        "\n",
        "use_cuda = torch.cuda.is_available()\n",
        "device = torch.device(\"cuda\" if use_cuda else \"cpu\")"
      ],
      "execution_count": 4,
      "outputs": []
    },
    {
      "cell_type": "markdown",
      "metadata": {
        "id": "v1sagIFQKsfG"
      },
      "source": [
        "## Conduct LR Range Test"
      ]
    },
    {
      "cell_type": "code",
      "metadata": {
        "id": "MhLW5rAKfy2l",
        "outputId": "1654c097-caf2-4482-8054-a211a954d969",
        "colab": {
          "base_uri": "https://localhost:8080/",
          "height": 69
        }
      },
      "source": [
        "train_loader, test_loader, classes = prep.get_cifar10_loaders(root=\"./data\", device=device, train_batch_size=512)"
      ],
      "execution_count": 7,
      "outputs": [
        {
          "output_type": "stream",
          "text": [
            "Files already downloaded and verified\n",
            "[(0.4913995563983917, 0.48215845227241516, 0.44653093814849854), (0.20230083167552948, 0.19941286742687225, 0.20096157491207123)]\n",
            "Files already downloaded and verified\n"
          ],
          "name": "stdout"
        }
      ]
    },
    {
      "cell_type": "code",
      "metadata": {
        "id": "TC9HTj8cfUbn",
        "outputId": "0136bcfe-c112-4f2d-cd6f-06299e570e11",
        "colab": {
          "base_uri": "https://localhost:8080/",
          "height": 607
        }
      },
      "source": [
        "from tqdm import tqdm\n",
        "\n",
        "model_class = new_resnet_S11.NewResNet\n",
        "\n",
        "loss_func = F.cross_entropy\n",
        "\n",
        "tempaha = helpers.run_lr_range_test(\n",
        "                                            model_class=model_class, device=device, \n",
        "                                            train_loader=train_loader, test_loader=test_loader,\n",
        "                                            loss_func=loss_func, \n",
        "                                            iterations=2000, lr_start=0.00000001, lr_end=100)\n"
      ],
      "execution_count": 8,
      "outputs": [
        {
          "output_type": "stream",
          "text": [
            "lr=1e-08, test_accuracy=0.1011:   9%|▉         | 1/11 [11:11<1:51:50, 671.05s/it]"
          ],
          "name": "stderr"
        },
        {
          "output_type": "stream",
          "text": [
            "\n",
            "Test set: Average loss: 2.3044, Accuracy: 1011/10000 (10.1100%)\n",
            "\n"
          ],
          "name": "stdout"
        },
        {
          "output_type": "stream",
          "text": [
            "lr=1e-07, test_accuracy=0.0987:  18%|█▊        | 2/11 [22:22<1:40:40, 671.17s/it]"
          ],
          "name": "stderr"
        },
        {
          "output_type": "stream",
          "text": [
            "\n",
            "Test set: Average loss: 2.3088, Accuracy: 987/10000 (9.8700%)\n",
            "\n"
          ],
          "name": "stdout"
        },
        {
          "output_type": "stream",
          "text": [
            "lr=1e-06, test_accuracy=0.1176:  27%|██▋       | 3/11 [33:33<1:29:27, 670.98s/it]"
          ],
          "name": "stderr"
        },
        {
          "output_type": "stream",
          "text": [
            "\n",
            "Test set: Average loss: 2.3033, Accuracy: 1176/10000 (11.7600%)\n",
            "\n"
          ],
          "name": "stdout"
        },
        {
          "output_type": "stream",
          "text": [
            "lr=9.999999999999999e-06, test_accuracy=0.192:  36%|███▋      | 4/11 [44:42<1:18:13, 670.47s/it]"
          ],
          "name": "stderr"
        },
        {
          "output_type": "stream",
          "text": [
            "\n",
            "Test set: Average loss: 2.2658, Accuracy: 1920/10000 (19.2000%)\n",
            "\n"
          ],
          "name": "stdout"
        },
        {
          "output_type": "stream",
          "text": [
            "lr=9.999999999999999e-05, test_accuracy=0.4339:  45%|████▌     | 5/11 [55:53<1:07:03, 670.58s/it]"
          ],
          "name": "stderr"
        },
        {
          "output_type": "stream",
          "text": [
            "\n",
            "Test set: Average loss: 2.0474, Accuracy: 4339/10000 (43.3900%)\n",
            "\n"
          ],
          "name": "stdout"
        },
        {
          "output_type": "stream",
          "text": [
            "lr=0.0009999999999999998, test_accuracy=0.5827:  55%|█████▍    | 6/11 [1:07:04<55:53, 670.74s/it]  "
          ],
          "name": "stderr"
        },
        {
          "output_type": "stream",
          "text": [
            "\n",
            "Test set: Average loss: 1.8837, Accuracy: 5827/10000 (58.2700%)\n",
            "\n"
          ],
          "name": "stdout"
        },
        {
          "output_type": "stream",
          "text": [
            "lr=0.009999999999999997, test_accuracy=0.8551:  64%|██████▎   | 7/11 [1:18:15<44:43, 670.88s/it]"
          ],
          "name": "stderr"
        },
        {
          "output_type": "stream",
          "text": [
            "\n",
            "Test set: Average loss: 1.6104, Accuracy: 8551/10000 (85.5100%)\n",
            "\n"
          ],
          "name": "stdout"
        },
        {
          "output_type": "stream",
          "text": [
            "lr=0.09999999999999996, test_accuracy=0.7097:  73%|███████▎  | 8/11 [1:29:26<33:32, 670.83s/it]"
          ],
          "name": "stderr"
        },
        {
          "output_type": "stream",
          "text": [
            "\n",
            "Test set: Average loss: 1.7498, Accuracy: 7097/10000 (70.9700%)\n",
            "\n"
          ],
          "name": "stdout"
        },
        {
          "output_type": "stream",
          "text": [
            "lr=0.9999999999999996, test_accuracy=0.2424:  82%|████████▏ | 9/11 [1:40:35<22:20, 670.43s/it]"
          ],
          "name": "stderr"
        },
        {
          "output_type": "stream",
          "text": [
            "\n",
            "Test set: Average loss: 2.2186, Accuracy: 2424/10000 (24.2400%)\n",
            "\n"
          ],
          "name": "stdout"
        },
        {
          "output_type": "stream",
          "text": [
            "lr=9.999999999999995, test_accuracy=0.1:  91%|█████████ | 10/11 [1:50:49<10:53, 653.42s/it]"
          ],
          "name": "stderr"
        },
        {
          "output_type": "stream",
          "text": [
            "\n",
            "Test set: Average loss: 2.3612, Accuracy: 1000/10000 (10.0000%)\n",
            "\n"
          ],
          "name": "stdout"
        },
        {
          "output_type": "stream",
          "text": [
            "lr=99.99999999999994, test_accuracy=0.1: 100%|██████████| 11/11 [2:01:01<00:00, 660.17s/it]"
          ],
          "name": "stderr"
        },
        {
          "output_type": "stream",
          "text": [
            "\n",
            "Test set: Average loss: 2.3612, Accuracy: 1000/10000 (10.0000%)\n",
            "\n"
          ],
          "name": "stdout"
        },
        {
          "output_type": "stream",
          "text": [
            "\n"
          ],
          "name": "stderr"
        }
      ]
    },
    {
      "cell_type": "markdown",
      "metadata": {
        "id": "9y5CttFZ97-T"
      },
      "source": [
        "## Store LR Range Test Results"
      ]
    },
    {
      "cell_type": "code",
      "metadata": {
        "id": "JEbYg0UJ8qDZ"
      },
      "source": [
        "# PICKLE LR RANGE TEST VALUES FOr LATER USE\n",
        "import json\n",
        "\n",
        "json.dump( tempaha, open(anlt_folder+\"lr_range_test_values.json\",\"w\"), indent=True)"
      ],
      "execution_count": 25,
      "outputs": []
    },
    {
      "cell_type": "markdown",
      "metadata": {
        "id": "44g_WwsC-rul"
      },
      "source": [
        "## Plot LR Range Test Results"
      ]
    },
    {
      "cell_type": "code",
      "metadata": {
        "id": "WTRHJtGC7xhQ",
        "outputId": "bcc78e66-c8fe-4b11-a135-27359abe0587",
        "colab": {
          "base_uri": "https://localhost:8080/",
          "height": 311
        }
      },
      "source": [
        "import json\n",
        "\n",
        "import matplotlib.pyplot as plt\n",
        "%matplotlib inline\n",
        "\n",
        "lr_test_results = json.load( open(anlt_folder+\"lr_range_test_values.json\",\"r\"))\n",
        "analytics.plot_lr_range_test(*lr_test_results)\n"
      ],
      "execution_count": 8,
      "outputs": [
        {
          "output_type": "display_data",
          "data": {
            "image/png": "[encoded data removed]",
            "text/plain": [
              "<Figure size 720x288 with 1 Axes>"
            ]
          },
          "metadata": {
            "tags": [],
            "needs_background": "light"
          }
        }
      ]
    },
    {
      "cell_type": "markdown",
      "metadata": {
        "id": "vYNb6fmIKyYX"
      },
      "source": [
        "## Check Model Parameter Count"
      ]
    },
    {
      "cell_type": "code",
      "metadata": {
        "id": "fcXJPQQbl8SN",
        "outputId": "e7d61da8-64e8-464b-a0a4-40754c174a1e",
        "colab": {
          "base_uri": "https://localhost:8080/",
          "height": 746
        }
      },
      "source": [
        "from torchsummary import summary\n",
        "summary(model_class().to(device), input_size=(3, 32, 32))"
      ],
      "execution_count": 22,
      "outputs": [
        {
          "output_type": "stream",
          "text": [
            "----------------------------------------------------------------\n",
            "        Layer (type)               Output Shape         Param #\n",
            "================================================================\n",
            "            Conv2d-1           [-1, 64, 32, 32]           1,792\n",
            "       BatchNorm2d-2           [-1, 64, 32, 32]             128\n",
            "              ReLU-3           [-1, 64, 32, 32]               0\n",
            "            Conv2d-4          [-1, 128, 32, 32]          73,856\n",
            "         MaxPool2d-5          [-1, 128, 16, 16]               0\n",
            "       BatchNorm2d-6          [-1, 128, 16, 16]             256\n",
            "              ReLU-7          [-1, 128, 16, 16]               0\n",
            "            Conv2d-8          [-1, 128, 16, 16]         147,584\n",
            "       BatchNorm2d-9          [-1, 128, 16, 16]             256\n",
            "             ReLU-10          [-1, 128, 16, 16]               0\n",
            "           Conv2d-11          [-1, 128, 16, 16]         147,584\n",
            "      BatchNorm2d-12          [-1, 128, 16, 16]             256\n",
            "             ReLU-13          [-1, 128, 16, 16]               0\n",
            "           Conv2d-14          [-1, 256, 16, 16]         295,168\n",
            "        MaxPool2d-15            [-1, 256, 8, 8]               0\n",
            "      BatchNorm2d-16            [-1, 256, 8, 8]             512\n",
            "             ReLU-17            [-1, 256, 8, 8]               0\n",
            "           Conv2d-18            [-1, 512, 8, 8]       1,180,160\n",
            "        MaxPool2d-19            [-1, 512, 4, 4]               0\n",
            "      BatchNorm2d-20            [-1, 512, 4, 4]           1,024\n",
            "             ReLU-21            [-1, 512, 4, 4]               0\n",
            "           Conv2d-22            [-1, 512, 4, 4]       2,359,808\n",
            "      BatchNorm2d-23            [-1, 512, 4, 4]           1,024\n",
            "             ReLU-24            [-1, 512, 4, 4]               0\n",
            "           Conv2d-25            [-1, 512, 4, 4]       2,359,808\n",
            "      BatchNorm2d-26            [-1, 512, 4, 4]           1,024\n",
            "             ReLU-27            [-1, 512, 4, 4]               0\n",
            "        MaxPool2d-28            [-1, 512, 1, 1]               0\n",
            "           Linear-29                   [-1, 10]           5,130\n",
            "================================================================\n",
            "Total params: 6,575,370\n",
            "Trainable params: 6,575,370\n",
            "Non-trainable params: 0\n",
            "----------------------------------------------------------------\n",
            "Input size (MB): 0.01\n",
            "Forward/backward pass size (MB): 6.44\n",
            "Params size (MB): 25.08\n",
            "Estimated Total Size (MB): 31.54\n",
            "----------------------------------------------------------------\n"
          ],
          "name": "stdout"
        }
      ]
    },
    {
      "cell_type": "markdown",
      "metadata": {
        "id": "qiihsHUOQ3uB"
      },
      "source": [
        "## Download Data Once Again"
      ]
    },
    {
      "cell_type": "code",
      "metadata": {
        "id": "Nz3vMmY_hq4C",
        "outputId": "129caa08-1330-4dc0-fdf8-9cff57c68274",
        "colab": {
          "base_uri": "https://localhost:8080/",
          "height": 69
        }
      },
      "source": [
        "train_loader, test_loader, classes = prep.get_cifar10_loaders(root=\"./data\", device=device, train_batch_size=512)"
      ],
      "execution_count": 5,
      "outputs": [
        {
          "output_type": "stream",
          "text": [
            "Files already downloaded and verified\n",
            "[(0.4913995563983917, 0.48215845227241516, 0.44653093814849854), (0.20230083167552948, 0.19941286742687225, 0.20096157491207123)]\n",
            "Files already downloaded and verified\n"
          ],
          "name": "stdout"
        }
      ]
    },
    {
      "cell_type": "markdown",
      "metadata": {
        "id": "LpcQc4pz3VSJ"
      },
      "source": [
        "## Find Best LR to start with"
      ]
    },
    {
      "cell_type": "markdown",
      "metadata": {
        "id": "2o0LEtp1Q7OY"
      },
      "source": [
        "## Training - 24 Epochs with One Cycle LR policy\n",
        "Lr Range: 0.001 TO  0.1  (Peaks at 5 epochs)\n"
      ]
    },
    {
      "cell_type": "code",
      "metadata": {
        "id": "fb9-PE4Xe8vG",
        "outputId": "bdb42580-99e2-4e4f-ecdb-9bfd291ea440",
        "colab": {
          "base_uri": "https://localhost:8080/",
          "height": 1000
        }
      },
      "source": [
        "fn_idx = 0\n",
        "epochs = 24\n",
        "\n",
        "acc_recorder_file = acc_recorder_files[fn_idx]\n",
        "model_file_name = model_file_names[fn_idx]\n",
        "\n",
        "accuracy_store_path = base_folder+acc_recorder_file\n",
        "model_sd_save_path = base_folder+model_file_name+\"_sd.pth\"\n",
        "\n",
        "model = new_resnet_S11.NewResNet()\n",
        "\n",
        "loss_func = F.cross_entropy\n",
        "\n",
        "one_cycle_params = {\"max_lr\": 0.1, \"peak_epoch\": 5, \"min_lr\": 0.001}\n",
        "\n",
        "loss_func = F.cross_entropy\n",
        "\n",
        "train_results = helpers.train_epochs(\n",
        "                    model=model, \n",
        "                    device=device, \n",
        "                    train_loader=train_loader,\n",
        "                    test_loader=test_loader, \n",
        "                    optimizer=None, \n",
        "                    loss_func=loss_func, \n",
        "                    epochs=epochs,\n",
        "                    accuracy_store_path=accuracy_store_path, \n",
        "                    model_sd_save_path=model_sd_save_path,\n",
        "                    save_if_better_acc=True,\n",
        "                    oclr_params=one_cycle_params)"
      ],
      "execution_count": 6,
      "outputs": [
        {
          "output_type": "stream",
          "text": [
            "\r  0%|          | 0/98 [00:00<?, ?it/s]"
          ],
          "name": "stderr"
        },
        {
          "output_type": "stream",
          "text": [
            "\n",
            "LAST RECORDED MAX ACCURACY:  0.0\n",
            "================================================================\n",
            "EPOCH NUM 1,  LR USED: 0.001\n"
          ],
          "name": "stdout"
        },
        {
          "output_type": "stream",
          "text": [
            "loss=2.178973913192749 batch_id=97: 100%|██████████| 98/98 [00:50<00:00,  1.93it/s]"
          ],
          "name": "stderr"
        },
        {
          "output_type": "stream",
          "text": [
            "\n",
            "Train Data: Average loss: 0.0044, Accuracy: 11314/50000 (22.6280%)\n",
            "\n"
          ],
          "name": "stdout"
        },
        {
          "output_type": "stream",
          "text": [
            "\n",
            "  0%|          | 0/98 [00:00<?, ?it/s]"
          ],
          "name": "stderr"
        },
        {
          "output_type": "stream",
          "text": [
            "\n",
            "Test set: Average loss: 2.1514, Accuracy: 3318/10000 (33.1800%)\n",
            "\n",
            "-----------------------------------------------\n",
            "================================================================\n",
            "EPOCH NUM 2,  LR USED: 0.025750000000000002\n"
          ],
          "name": "stdout"
        },
        {
          "output_type": "stream",
          "text": [
            "loss=1.9074385166168213 batch_id=97: 100%|██████████| 98/98 [00:51<00:00,  1.91it/s]"
          ],
          "name": "stderr"
        },
        {
          "output_type": "stream",
          "text": [
            "\n",
            "Train Data: Average loss: 0.0039, Accuracy: 23113/50000 (46.2260%)\n",
            "\n"
          ],
          "name": "stdout"
        },
        {
          "output_type": "stream",
          "text": [
            "\n",
            "  0%|          | 0/98 [00:00<?, ?it/s]"
          ],
          "name": "stderr"
        },
        {
          "output_type": "stream",
          "text": [
            "\n",
            "Test set: Average loss: 1.9327, Accuracy: 5273/10000 (52.7300%)\n",
            "\n",
            "-----------------------------------------------\n",
            "================================================================\n",
            "EPOCH NUM 3,  LR USED: 0.0505\n"
          ],
          "name": "stdout"
        },
        {
          "output_type": "stream",
          "text": [
            "loss=1.8186253309249878 batch_id=97: 100%|██████████| 98/98 [00:51<00:00,  1.92it/s]"
          ],
          "name": "stderr"
        },
        {
          "output_type": "stream",
          "text": [
            "\n",
            "Train Data: Average loss: 0.0037, Accuracy: 28388/50000 (56.7760%)\n",
            "\n"
          ],
          "name": "stdout"
        },
        {
          "output_type": "stream",
          "text": [
            "\n",
            "  0%|          | 0/98 [00:00<?, ?it/s]"
          ],
          "name": "stderr"
        },
        {
          "output_type": "stream",
          "text": [
            "\n",
            "Test set: Average loss: 1.8863, Accuracy: 5723/10000 (57.2300%)\n",
            "\n",
            "-----------------------------------------------\n",
            "================================================================\n",
            "EPOCH NUM 4,  LR USED: 0.07525000000000001\n"
          ],
          "name": "stdout"
        },
        {
          "output_type": "stream",
          "text": [
            "loss=1.7612028121948242 batch_id=97: 100%|██████████| 98/98 [00:51<00:00,  1.91it/s]"
          ],
          "name": "stderr"
        },
        {
          "output_type": "stream",
          "text": [
            "\n",
            "Train Data: Average loss: 0.0036, Accuracy: 31935/50000 (63.8700%)\n",
            "\n"
          ],
          "name": "stdout"
        },
        {
          "output_type": "stream",
          "text": [
            "\n",
            "  0%|          | 0/98 [00:00<?, ?it/s]"
          ],
          "name": "stderr"
        },
        {
          "output_type": "stream",
          "text": [
            "\n",
            "Test set: Average loss: 1.8432, Accuracy: 6177/10000 (61.7700%)\n",
            "\n",
            "-----------------------------------------------\n",
            "================================================================\n",
            "EPOCH NUM 5,  LR USED: 0.1\n"
          ],
          "name": "stdout"
        },
        {
          "output_type": "stream",
          "text": [
            "loss=1.7626501321792603 batch_id=97: 100%|██████████| 98/98 [00:51<00:00,  1.91it/s]"
          ],
          "name": "stderr"
        },
        {
          "output_type": "stream",
          "text": [
            "\n",
            "Train Data: Average loss: 0.0035, Accuracy: 34079/50000 (68.1580%)\n",
            "\n"
          ],
          "name": "stdout"
        },
        {
          "output_type": "stream",
          "text": [
            "\n",
            "  0%|          | 0/98 [00:00<?, ?it/s]"
          ],
          "name": "stderr"
        },
        {
          "output_type": "stream",
          "text": [
            "\n",
            "Test set: Average loss: 1.8065, Accuracy: 6521/10000 (65.2100%)\n",
            "\n",
            "-----------------------------------------------\n",
            "================================================================\n",
            "EPOCH NUM 6,  LR USED: 0.09505000000000001\n"
          ],
          "name": "stdout"
        },
        {
          "output_type": "stream",
          "text": [
            "loss=1.7204073667526245 batch_id=97: 100%|██████████| 98/98 [00:51<00:00,  1.92it/s]"
          ],
          "name": "stderr"
        },
        {
          "output_type": "stream",
          "text": [
            "\n",
            "Train Data: Average loss: 0.0034, Accuracy: 36553/50000 (73.1060%)\n",
            "\n"
          ],
          "name": "stdout"
        },
        {
          "output_type": "stream",
          "text": [
            "\n",
            "  0%|          | 0/98 [00:00<?, ?it/s]"
          ],
          "name": "stderr"
        },
        {
          "output_type": "stream",
          "text": [
            "\n",
            "Test set: Average loss: 1.7504, Accuracy: 7088/10000 (70.8800%)\n",
            "\n",
            "-----------------------------------------------\n",
            "================================================================\n",
            "EPOCH NUM 7,  LR USED: 0.0901\n"
          ],
          "name": "stdout"
        },
        {
          "output_type": "stream",
          "text": [
            "loss=1.661838173866272 batch_id=97: 100%|██████████| 98/98 [00:51<00:00,  1.91it/s]"
          ],
          "name": "stderr"
        },
        {
          "output_type": "stream",
          "text": [
            "\n",
            "Train Data: Average loss: 0.0033, Accuracy: 38354/50000 (76.7080%)\n",
            "\n"
          ],
          "name": "stdout"
        },
        {
          "output_type": "stream",
          "text": [
            "\n",
            "  0%|          | 0/98 [00:00<?, ?it/s]"
          ],
          "name": "stderr"
        },
        {
          "output_type": "stream",
          "text": [
            "\n",
            "Test set: Average loss: 1.6913, Accuracy: 7707/10000 (77.0700%)\n",
            "\n",
            "-----------------------------------------------\n",
            "================================================================\n",
            "EPOCH NUM 8,  LR USED: 0.08515\n"
          ],
          "name": "stdout"
        },
        {
          "output_type": "stream",
          "text": [
            "loss=1.6852740049362183 batch_id=97: 100%|██████████| 98/98 [00:51<00:00,  1.92it/s]"
          ],
          "name": "stderr"
        },
        {
          "output_type": "stream",
          "text": [
            "\n",
            "Train Data: Average loss: 0.0033, Accuracy: 39317/50000 (78.6340%)\n",
            "\n"
          ],
          "name": "stdout"
        },
        {
          "output_type": "stream",
          "text": [
            "\n",
            "  0%|          | 0/98 [00:00<?, ?it/s]"
          ],
          "name": "stderr"
        },
        {
          "output_type": "stream",
          "text": [
            "\n",
            "Test set: Average loss: 1.6826, Accuracy: 7787/10000 (77.8700%)\n",
            "\n",
            "-----------------------------------------------\n",
            "================================================================\n",
            "EPOCH NUM 9,  LR USED: 0.08020000000000001\n"
          ],
          "name": "stdout"
        },
        {
          "output_type": "stream",
          "text": [
            "loss=1.6243703365325928 batch_id=97: 100%|██████████| 98/98 [00:51<00:00,  1.91it/s]"
          ],
          "name": "stderr"
        },
        {
          "output_type": "stream",
          "text": [
            "\n",
            "Train Data: Average loss: 0.0033, Accuracy: 40229/50000 (80.4580%)\n",
            "\n"
          ],
          "name": "stdout"
        },
        {
          "output_type": "stream",
          "text": [
            "\n",
            "  0%|          | 0/98 [00:00<?, ?it/s]"
          ],
          "name": "stderr"
        },
        {
          "output_type": "stream",
          "text": [
            "\n",
            "Test set: Average loss: 1.7093, Accuracy: 7506/10000 (75.0600%)\n",
            "\n",
            "-----------------------------------------------\n",
            "================================================================\n",
            "EPOCH NUM 10,  LR USED: 0.07525000000000001\n"
          ],
          "name": "stdout"
        },
        {
          "output_type": "stream",
          "text": [
            "loss=1.6623914241790771 batch_id=97: 100%|██████████| 98/98 [00:51<00:00,  1.92it/s]"
          ],
          "name": "stderr"
        },
        {
          "output_type": "stream",
          "text": [
            "\n",
            "Train Data: Average loss: 0.0032, Accuracy: 41016/50000 (82.0320%)\n",
            "\n"
          ],
          "name": "stdout"
        },
        {
          "output_type": "stream",
          "text": [
            "\n",
            "  0%|          | 0/98 [00:00<?, ?it/s]"
          ],
          "name": "stderr"
        },
        {
          "output_type": "stream",
          "text": [
            "\n",
            "Test set: Average loss: 1.6846, Accuracy: 7767/10000 (77.6700%)\n",
            "\n",
            "-----------------------------------------------\n",
            "================================================================\n",
            "EPOCH NUM 11,  LR USED: 0.0703\n"
          ],
          "name": "stdout"
        },
        {
          "output_type": "stream",
          "text": [
            "loss=1.6479047536849976 batch_id=97: 100%|██████████| 98/98 [00:51<00:00,  1.91it/s]"
          ],
          "name": "stderr"
        },
        {
          "output_type": "stream",
          "text": [
            "\n",
            "Train Data: Average loss: 0.0032, Accuracy: 41843/50000 (83.6860%)\n",
            "\n"
          ],
          "name": "stdout"
        },
        {
          "output_type": "stream",
          "text": [
            "\n",
            "  0%|          | 0/98 [00:00<?, ?it/s]"
          ],
          "name": "stderr"
        },
        {
          "output_type": "stream",
          "text": [
            "\n",
            "Test set: Average loss: 1.6391, Accuracy: 8246/10000 (82.4600%)\n",
            "\n",
            "-----------------------------------------------\n",
            "================================================================\n",
            "EPOCH NUM 12,  LR USED: 0.06535\n"
          ],
          "name": "stdout"
        },
        {
          "output_type": "stream",
          "text": [
            "loss=1.611143708229065 batch_id=97: 100%|██████████| 98/98 [00:51<00:00,  1.92it/s]"
          ],
          "name": "stderr"
        },
        {
          "output_type": "stream",
          "text": [
            "\n",
            "Train Data: Average loss: 0.0032, Accuracy: 42580/50000 (85.1600%)\n",
            "\n"
          ],
          "name": "stdout"
        },
        {
          "output_type": "stream",
          "text": [
            "\n",
            "  0%|          | 0/98 [00:00<?, ?it/s]"
          ],
          "name": "stderr"
        },
        {
          "output_type": "stream",
          "text": [
            "\n",
            "Test set: Average loss: 1.6359, Accuracy: 8270/10000 (82.7000%)\n",
            "\n",
            "-----------------------------------------------\n",
            "================================================================\n",
            "EPOCH NUM 13,  LR USED: 0.0604\n"
          ],
          "name": "stdout"
        },
        {
          "output_type": "stream",
          "text": [
            "loss=1.59186589717865 batch_id=97: 100%|██████████| 98/98 [00:51<00:00,  1.91it/s]"
          ],
          "name": "stderr"
        },
        {
          "output_type": "stream",
          "text": [
            "\n",
            "Train Data: Average loss: 0.0031, Accuracy: 42962/50000 (85.9240%)\n",
            "\n"
          ],
          "name": "stdout"
        },
        {
          "output_type": "stream",
          "text": [
            "\n",
            "  0%|          | 0/98 [00:00<?, ?it/s]"
          ],
          "name": "stderr"
        },
        {
          "output_type": "stream",
          "text": [
            "\n",
            "Test set: Average loss: 1.6344, Accuracy: 8283/10000 (82.8300%)\n",
            "\n",
            "-----------------------------------------------\n",
            "================================================================\n",
            "EPOCH NUM 14,  LR USED: 0.05545\n"
          ],
          "name": "stdout"
        },
        {
          "output_type": "stream",
          "text": [
            "loss=1.6112768650054932 batch_id=97: 100%|██████████| 98/98 [00:51<00:00,  1.92it/s]"
          ],
          "name": "stderr"
        },
        {
          "output_type": "stream",
          "text": [
            "\n",
            "Train Data: Average loss: 0.0031, Accuracy: 43521/50000 (87.0420%)\n",
            "\n"
          ],
          "name": "stdout"
        },
        {
          "output_type": "stream",
          "text": [
            "\n",
            "  0%|          | 0/98 [00:00<?, ?it/s]"
          ],
          "name": "stderr"
        },
        {
          "output_type": "stream",
          "text": [
            "\n",
            "Test set: Average loss: 1.6169, Accuracy: 8445/10000 (84.4500%)\n",
            "\n",
            "-----------------------------------------------\n",
            "================================================================\n",
            "EPOCH NUM 15,  LR USED: 0.0505\n"
          ],
          "name": "stdout"
        },
        {
          "output_type": "stream",
          "text": [
            "loss=1.5828367471694946 batch_id=97: 100%|██████████| 98/98 [00:51<00:00,  1.91it/s]"
          ],
          "name": "stderr"
        },
        {
          "output_type": "stream",
          "text": [
            "\n",
            "Train Data: Average loss: 0.0031, Accuracy: 44067/50000 (88.1340%)\n",
            "\n"
          ],
          "name": "stdout"
        },
        {
          "output_type": "stream",
          "text": [
            "\n"
          ],
          "name": "stderr"
        },
        {
          "output_type": "stream",
          "text": [
            "\n",
            "Test set: Average loss: 1.6028, Accuracy: 8602/10000 (86.0200%)\n",
            "\n"
          ],
          "name": "stdout"
        },
        {
          "output_type": "stream",
          "text": [
            "\r  0%|          | 0/98 [00:00<?, ?it/s]"
          ],
          "name": "stderr"
        },
        {
          "output_type": "stream",
          "text": [
            "-----------------------------------------------\n",
            "================================================================\n",
            "EPOCH NUM 16,  LR USED: 0.04555\n"
          ],
          "name": "stdout"
        },
        {
          "output_type": "stream",
          "text": [
            "loss=1.6046907901763916 batch_id=97: 100%|██████████| 98/98 [00:51<00:00,  1.92it/s]"
          ],
          "name": "stderr"
        },
        {
          "output_type": "stream",
          "text": [
            "\n",
            "Train Data: Average loss: 0.0031, Accuracy: 44591/50000 (89.1820%)\n",
            "\n"
          ],
          "name": "stdout"
        },
        {
          "output_type": "stream",
          "text": [
            "\n",
            "  0%|          | 0/98 [00:00<?, ?it/s]"
          ],
          "name": "stderr"
        },
        {
          "output_type": "stream",
          "text": [
            "\n",
            "Test set: Average loss: 1.5976, Accuracy: 8658/10000 (86.5800%)\n",
            "\n",
            "-----------------------------------------------\n",
            "================================================================\n",
            "EPOCH NUM 17,  LR USED: 0.0406\n"
          ],
          "name": "stdout"
        },
        {
          "output_type": "stream",
          "text": [
            "loss=1.5767892599105835 batch_id=97: 100%|██████████| 98/98 [00:51<00:00,  1.91it/s]"
          ],
          "name": "stderr"
        },
        {
          "output_type": "stream",
          "text": [
            "\n",
            "Train Data: Average loss: 0.0031, Accuracy: 44989/50000 (89.9780%)\n",
            "\n"
          ],
          "name": "stdout"
        },
        {
          "output_type": "stream",
          "text": [
            "\n",
            "  0%|          | 0/98 [00:00<?, ?it/s]"
          ],
          "name": "stderr"
        },
        {
          "output_type": "stream",
          "text": [
            "\n",
            "Test set: Average loss: 1.6024, Accuracy: 8606/10000 (86.0600%)\n",
            "\n",
            "-----------------------------------------------\n",
            "================================================================\n",
            "EPOCH NUM 18,  LR USED: 0.03565\n"
          ],
          "name": "stdout"
        },
        {
          "output_type": "stream",
          "text": [
            "loss=1.5485520362854004 batch_id=97: 100%|██████████| 98/98 [00:51<00:00,  1.92it/s]"
          ],
          "name": "stderr"
        },
        {
          "output_type": "stream",
          "text": [
            "\n",
            "Train Data: Average loss: 0.0031, Accuracy: 45339/50000 (90.6780%)\n",
            "\n"
          ],
          "name": "stdout"
        },
        {
          "output_type": "stream",
          "text": [
            "\n",
            "  0%|          | 0/98 [00:00<?, ?it/s]"
          ],
          "name": "stderr"
        },
        {
          "output_type": "stream",
          "text": [
            "\n",
            "Test set: Average loss: 1.5934, Accuracy: 8696/10000 (86.9600%)\n",
            "\n",
            "-----------------------------------------------\n",
            "================================================================\n",
            "EPOCH NUM 19,  LR USED: 0.030700000000000005\n"
          ],
          "name": "stdout"
        },
        {
          "output_type": "stream",
          "text": [
            "loss=1.5582923889160156 batch_id=97: 100%|██████████| 98/98 [00:51<00:00,  1.92it/s]"
          ],
          "name": "stderr"
        },
        {
          "output_type": "stream",
          "text": [
            "\n",
            "Train Data: Average loss: 0.0030, Accuracy: 45799/50000 (91.5980%)\n",
            "\n"
          ],
          "name": "stdout"
        },
        {
          "output_type": "stream",
          "text": [
            "\n",
            "  0%|          | 0/98 [00:00<?, ?it/s]"
          ],
          "name": "stderr"
        },
        {
          "output_type": "stream",
          "text": [
            "\n",
            "Test set: Average loss: 1.5872, Accuracy: 8770/10000 (87.7000%)\n",
            "\n",
            "-----------------------------------------------\n",
            "================================================================\n",
            "EPOCH NUM 20,  LR USED: 0.025749999999999995\n"
          ],
          "name": "stdout"
        },
        {
          "output_type": "stream",
          "text": [
            "loss=1.5616545677185059 batch_id=97: 100%|██████████| 98/98 [00:51<00:00,  1.92it/s]"
          ],
          "name": "stderr"
        },
        {
          "output_type": "stream",
          "text": [
            "\n",
            "Train Data: Average loss: 0.0030, Accuracy: 46163/50000 (92.3260%)\n",
            "\n"
          ],
          "name": "stdout"
        },
        {
          "output_type": "stream",
          "text": [
            "\n",
            "  0%|          | 0/98 [00:00<?, ?it/s]"
          ],
          "name": "stderr"
        },
        {
          "output_type": "stream",
          "text": [
            "\n",
            "Test set: Average loss: 1.5873, Accuracy: 8762/10000 (87.6200%)\n",
            "\n",
            "-----------------------------------------------\n",
            "================================================================\n",
            "EPOCH NUM 21,  LR USED: 0.0208\n"
          ],
          "name": "stdout"
        },
        {
          "output_type": "stream",
          "text": [
            "loss=1.5543049573898315 batch_id=97: 100%|██████████| 98/98 [00:51<00:00,  1.92it/s]"
          ],
          "name": "stderr"
        },
        {
          "output_type": "stream",
          "text": [
            "\n",
            "Train Data: Average loss: 0.0030, Accuracy: 46439/50000 (92.8780%)\n",
            "\n"
          ],
          "name": "stdout"
        },
        {
          "output_type": "stream",
          "text": [
            "\n",
            "  0%|          | 0/98 [00:00<?, ?it/s]"
          ],
          "name": "stderr"
        },
        {
          "output_type": "stream",
          "text": [
            "\n",
            "Test set: Average loss: 1.5767, Accuracy: 8870/10000 (88.7000%)\n",
            "\n",
            "-----------------------------------------------\n",
            "================================================================\n",
            "EPOCH NUM 22,  LR USED: 0.015850000000000003\n"
          ],
          "name": "stdout"
        },
        {
          "output_type": "stream",
          "text": [
            "loss=1.5265531539916992 batch_id=97: 100%|██████████| 98/98 [00:51<00:00,  1.91it/s]"
          ],
          "name": "stderr"
        },
        {
          "output_type": "stream",
          "text": [
            "\n",
            "Train Data: Average loss: 0.0030, Accuracy: 46740/50000 (93.4800%)\n",
            "\n"
          ],
          "name": "stdout"
        },
        {
          "output_type": "stream",
          "text": [
            "\n",
            "  0%|          | 0/98 [00:00<?, ?it/s]"
          ],
          "name": "stderr"
        },
        {
          "output_type": "stream",
          "text": [
            "\n",
            "Test set: Average loss: 1.5717, Accuracy: 8915/10000 (89.1500%)\n",
            "\n",
            "-----------------------------------------------\n",
            "================================================================\n",
            "EPOCH NUM 23,  LR USED: 0.010899999999999993\n"
          ],
          "name": "stdout"
        },
        {
          "output_type": "stream",
          "text": [
            "loss=1.538447380065918 batch_id=97: 100%|██████████| 98/98 [00:51<00:00,  1.92it/s]"
          ],
          "name": "stderr"
        },
        {
          "output_type": "stream",
          "text": [
            "\n",
            "Train Data: Average loss: 0.0030, Accuracy: 47008/50000 (94.0160%)\n",
            "\n"
          ],
          "name": "stdout"
        },
        {
          "output_type": "stream",
          "text": [
            "\n",
            "  0%|          | 0/98 [00:00<?, ?it/s]"
          ],
          "name": "stderr"
        },
        {
          "output_type": "stream",
          "text": [
            "\n",
            "Test set: Average loss: 1.5659, Accuracy: 8980/10000 (89.8000%)\n",
            "\n",
            "-----------------------------------------------\n",
            "================================================================\n",
            "EPOCH NUM 24,  LR USED: 0.005949999999999997\n"
          ],
          "name": "stdout"
        },
        {
          "output_type": "stream",
          "text": [
            "loss=1.5145658254623413 batch_id=97: 100%|██████████| 98/98 [00:51<00:00,  1.91it/s]"
          ],
          "name": "stderr"
        },
        {
          "output_type": "stream",
          "text": [
            "\n",
            "Train Data: Average loss: 0.0030, Accuracy: 47224/50000 (94.4480%)\n",
            "\n"
          ],
          "name": "stdout"
        },
        {
          "output_type": "stream",
          "text": [
            "\n"
          ],
          "name": "stderr"
        },
        {
          "output_type": "stream",
          "text": [
            "\n",
            "Test set: Average loss: 1.5623, Accuracy: 9007/10000 (90.0700%)\n",
            "\n",
            "-----------------------------------------------\n",
            "TOTAL TRAINING TIME:  1309.01713514328\n",
            "LAST 10 EPOCH AVG ACC:  0.8786599999999998\n",
            "LAST 5 EPOCH AVG ACC:  0.89068\n",
            "MAX ACCURACY:  0.9007\n"
          ],
          "name": "stdout"
        }
      ]
    },
    {
      "cell_type": "markdown",
      "metadata": {
        "id": "o-5inUpetPwo"
      },
      "source": [
        "## Cyclic LR Rates curve"
      ]
    },
    {
      "cell_type": "code",
      "metadata": {
        "id": "5kwilRVHi7qp",
        "outputId": "b7c1f391-287f-40e3-dac9-692c901c6a2b",
        "colab": {
          "base_uri": "https://localhost:8080/",
          "height": 253
        }
      },
      "source": [
        "analytics.plot_cyclic_graph(cycles=3, lr_range=(0.01, 0.1), iterations=35)"
      ],
      "execution_count": 44,
      "outputs": [
        {
          "output_type": "display_data",
          "data": {
            "image/png": "[encoded data removed]",
            "text/plain": [
              "<Figure size 720x216 with 1 Axes>"
            ]
          },
          "metadata": {
            "tags": [],
            "needs_background": "light"
          }
        }
      ]
    }
  ]
}