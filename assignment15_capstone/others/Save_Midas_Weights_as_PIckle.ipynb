{
  "nbformat": 4,
  "nbformat_minor": 0,
  "metadata": {
    "colab": {
      "name": "Save Midas Net as PIckle.ipynb",
      "provenance": []
    },
    "kernelspec": {
      "name": "python3",
      "display_name": "Python 3"
    },
    "widgets": {
      "application/vnd.jupyter.widget-state+json": {
        "0124fb8350164974b5b01c0fc2ab7497": {
          "model_module": "@jupyter-widgets/controls",
          "model_name": "HBoxModel",
          "state": {
            "_view_name": "HBoxView",
            "_dom_classes": [],
            "_model_name": "HBoxModel",
            "_view_module": "@jupyter-widgets/controls",
            "_model_module_version": "1.5.0",
            "_view_count": null,
            "_view_module_version": "1.5.0",
            "box_style": "",
            "layout": "IPY_MODEL_9cce89cbf1e342d1823cc751c9ccc253",
            "_model_module": "@jupyter-widgets/controls",
            "children": [
              "IPY_MODEL_dfdf9dd177db4710bc8b93858d848679",
              "IPY_MODEL_b8af6351ab8d4e66b3c18ab0f6508a0f"
            ]
          }
        },
        "9cce89cbf1e342d1823cc751c9ccc253": {
          "model_module": "@jupyter-widgets/base",
          "model_name": "LayoutModel",
          "state": {
            "_view_name": "LayoutView",
            "grid_template_rows": null,
            "right": null,
            "justify_content": null,
            "_view_module": "@jupyter-widgets/base",
            "overflow": null,
            "_model_module_version": "1.2.0",
            "_view_count": null,
            "flex_flow": null,
            "width": null,
            "min_width": null,
            "border": null,
            "align_items": null,
            "bottom": null,
            "_model_module": "@jupyter-widgets/base",
            "top": null,
            "grid_column": null,
            "overflow_y": null,
            "overflow_x": null,
            "grid_auto_flow": null,
            "grid_area": null,
            "grid_template_columns": null,
            "flex": null,
            "_model_name": "LayoutModel",
            "justify_items": null,
            "grid_row": null,
            "max_height": null,
            "align_content": null,
            "visibility": null,
            "align_self": null,
            "height": null,
            "min_height": null,
            "padding": null,
            "grid_auto_rows": null,
            "grid_gap": null,
            "max_width": null,
            "order": null,
            "_view_module_version": "1.2.0",
            "grid_template_areas": null,
            "object_position": null,
            "object_fit": null,
            "grid_auto_columns": null,
            "margin": null,
            "display": null,
            "left": null
          }
        },
        "dfdf9dd177db4710bc8b93858d848679": {
          "model_module": "@jupyter-widgets/controls",
          "model_name": "FloatProgressModel",
          "state": {
            "_view_name": "ProgressView",
            "style": "IPY_MODEL_16cc670cf0a849908074edd9883a12fe",
            "_dom_classes": [],
            "description": "100%",
            "_model_name": "FloatProgressModel",
            "bar_style": "success",
            "max": 356056638,
            "_view_module": "@jupyter-widgets/controls",
            "_model_module_version": "1.5.0",
            "value": 356056638,
            "_view_count": null,
            "_view_module_version": "1.5.0",
            "orientation": "horizontal",
            "min": 0,
            "description_tooltip": null,
            "_model_module": "@jupyter-widgets/controls",
            "layout": "IPY_MODEL_5e7c26741f6a4c3ca19d8813580974d0"
          }
        },
        "b8af6351ab8d4e66b3c18ab0f6508a0f": {
          "model_module": "@jupyter-widgets/controls",
          "model_name": "HTMLModel",
          "state": {
            "_view_name": "HTMLView",
            "style": "IPY_MODEL_b7aad78ee3e74126b7fc21796639922d",
            "_dom_classes": [],
            "description": "",
            "_model_name": "HTMLModel",
            "placeholder": "​",
            "_view_module": "@jupyter-widgets/controls",
            "_model_module_version": "1.5.0",
            "value": " 340M/340M [00:01&lt;00:00, 192MB/s]",
            "_view_count": null,
            "_view_module_version": "1.5.0",
            "description_tooltip": null,
            "_model_module": "@jupyter-widgets/controls",
            "layout": "IPY_MODEL_ec11e92264e246a68e5a7409ec96aa64"
          }
        },
        "16cc670cf0a849908074edd9883a12fe": {
          "model_module": "@jupyter-widgets/controls",
          "model_name": "ProgressStyleModel",
          "state": {
            "_view_name": "StyleView",
            "_model_name": "ProgressStyleModel",
            "description_width": "initial",
            "_view_module": "@jupyter-widgets/base",
            "_model_module_version": "1.5.0",
            "_view_count": null,
            "_view_module_version": "1.2.0",
            "bar_color": null,
            "_model_module": "@jupyter-widgets/controls"
          }
        },
        "5e7c26741f6a4c3ca19d8813580974d0": {
          "model_module": "@jupyter-widgets/base",
          "model_name": "LayoutModel",
          "state": {
            "_view_name": "LayoutView",
            "grid_template_rows": null,
            "right": null,
            "justify_content": null,
            "_view_module": "@jupyter-widgets/base",
            "overflow": null,
            "_model_module_version": "1.2.0",
            "_view_count": null,
            "flex_flow": null,
            "width": null,
            "min_width": null,
            "border": null,
            "align_items": null,
            "bottom": null,
            "_model_module": "@jupyter-widgets/base",
            "top": null,
            "grid_column": null,
            "overflow_y": null,
            "overflow_x": null,
            "grid_auto_flow": null,
            "grid_area": null,
            "grid_template_columns": null,
            "flex": null,
            "_model_name": "LayoutModel",
            "justify_items": null,
            "grid_row": null,
            "max_height": null,
            "align_content": null,
            "visibility": null,
            "align_self": null,
            "height": null,
            "min_height": null,
            "padding": null,
            "grid_auto_rows": null,
            "grid_gap": null,
            "max_width": null,
            "order": null,
            "_view_module_version": "1.2.0",
            "grid_template_areas": null,
            "object_position": null,
            "object_fit": null,
            "grid_auto_columns": null,
            "margin": null,
            "display": null,
            "left": null
          }
        },
        "b7aad78ee3e74126b7fc21796639922d": {
          "model_module": "@jupyter-widgets/controls",
          "model_name": "DescriptionStyleModel",
          "state": {
            "_view_name": "StyleView",
            "_model_name": "DescriptionStyleModel",
            "description_width": "",
            "_view_module": "@jupyter-widgets/base",
            "_model_module_version": "1.5.0",
            "_view_count": null,
            "_view_module_version": "1.2.0",
            "_model_module": "@jupyter-widgets/controls"
          }
        },
        "ec11e92264e246a68e5a7409ec96aa64": {
          "model_module": "@jupyter-widgets/base",
          "model_name": "LayoutModel",
          "state": {
            "_view_name": "LayoutView",
            "grid_template_rows": null,
            "right": null,
            "justify_content": null,
            "_view_module": "@jupyter-widgets/base",
            "overflow": null,
            "_model_module_version": "1.2.0",
            "_view_count": null,
            "flex_flow": null,
            "width": null,
            "min_width": null,
            "border": null,
            "align_items": null,
            "bottom": null,
            "_model_module": "@jupyter-widgets/base",
            "top": null,
            "grid_column": null,
            "overflow_y": null,
            "overflow_x": null,
            "grid_auto_flow": null,
            "grid_area": null,
            "grid_template_columns": null,
            "flex": null,
            "_model_name": "LayoutModel",
            "justify_items": null,
            "grid_row": null,
            "max_height": null,
            "align_content": null,
            "visibility": null,
            "align_self": null,
            "height": null,
            "min_height": null,
            "padding": null,
            "grid_auto_rows": null,
            "grid_gap": null,
            "max_width": null,
            "order": null,
            "_view_module_version": "1.2.0",
            "grid_template_areas": null,
            "object_position": null,
            "object_fit": null,
            "grid_auto_columns": null,
            "margin": null,
            "display": null,
            "left": null
          }
        }
      }
    }
  },
  "cells": [
    {
      "cell_type": "code",
      "metadata": {
        "id": "6JmGPS4kvcU4"
      },
      "source": [
        "import numpy as np\n",
        "import torch\n",
        "import torch.nn as nn"
      ],
      "execution_count": null,
      "outputs": []
    },
    {
      "cell_type": "code",
      "metadata": {
        "colab": {
          "base_uri": "https://localhost:8080/"
        },
        "id": "YJzM6RDUwiqU",
        "outputId": "cb40cc06-99f0-4188-e02b-9b0ca7be74c0"
      },
      "source": [
        "from google.colab import drive\n",
        "drive.mount(\"/content/drive\")"
      ],
      "execution_count": null,
      "outputs": [
        {
          "output_type": "stream",
          "text": [
            "Mounted at /content/drive\n"
          ],
          "name": "stdout"
        }
      ]
    },
    {
      "cell_type": "markdown",
      "metadata": {
        "id": "lcRikZfL4-wF"
      },
      "source": [
        "## Make Orig Model"
      ]
    },
    {
      "cell_type": "markdown",
      "metadata": {
        "id": "PNNw7Glq5f_W"
      },
      "source": [
        "### Download MiDaS"
      ]
    },
    {
      "cell_type": "code",
      "metadata": {
        "colab": {
          "base_uri": "https://localhost:8080/"
        },
        "id": "l57NgEpE5DEH",
        "outputId": "fb6c7639-f392-4987-9e7b-9b97278b5f01"
      },
      "source": [
        "!git clone https://github.com/intel-isl/MiDaS.git"
      ],
      "execution_count": null,
      "outputs": [
        {
          "output_type": "stream",
          "text": [
            "Cloning into 'MiDaS'...\n",
            "remote: Enumerating objects: 250, done.\u001b[K\n",
            "remote: Counting objects: 100% (250/250), done.\u001b[K\n",
            "remote: Compressing objects: 100% (173/173), done.\u001b[K\n",
            "remote: Total 394 (delta 58), reused 201 (delta 37), pack-reused 144\u001b[K\n",
            "Receiving objects: 100% (394/394), 231.02 KiB | 13.59 MiB/s, done.\n",
            "Resolving deltas: 100% (139/139), done.\n"
          ],
          "name": "stdout"
        }
      ]
    },
    {
      "cell_type": "code",
      "metadata": {
        "colab": {
          "base_uri": "https://localhost:8080/"
        },
        "id": "WYbx2Fj05p7m",
        "outputId": "f3e75b09-1b5a-4503-f75b-6dd416f51434"
      },
      "source": [
        "%cd MiDaS"
      ],
      "execution_count": null,
      "outputs": [
        {
          "output_type": "stream",
          "text": [
            "/content/MiDaS\n"
          ],
          "name": "stdout"
        }
      ]
    },
    {
      "cell_type": "markdown",
      "metadata": {
        "id": "9EYjlc2K5lDF"
      },
      "source": [
        "### Create the complete model"
      ]
    },
    {
      "cell_type": "code",
      "metadata": {
        "id": "KZoMFyfx79mt"
      },
      "source": [
        "!cp '../drive/My Drive/eva_stored_from_colab/eva5/s15_capstone/modified_from_orig/run.py' ."
      ],
      "execution_count": null,
      "outputs": []
    },
    {
      "cell_type": "code",
      "metadata": {
        "id": "mnCa9uh3DjzU"
      },
      "source": [
        "!cp '../drive/My Drive/eva_stored_from_colab/eva5/s15_capstone/model-f6b98070.pt' ."
      ],
      "execution_count": null,
      "outputs": []
    },
    {
      "cell_type": "code",
      "metadata": {
        "colab": {
          "base_uri": "https://localhost:8080/",
          "height": 153,
          "referenced_widgets": [
            "0124fb8350164974b5b01c0fc2ab7497",
            "9cce89cbf1e342d1823cc751c9ccc253",
            "dfdf9dd177db4710bc8b93858d848679",
            "b8af6351ab8d4e66b3c18ab0f6508a0f",
            "16cc670cf0a849908074edd9883a12fe",
            "5e7c26741f6a4c3ca19d8813580974d0",
            "b7aad78ee3e74126b7fc21796639922d",
            "ec11e92264e246a68e5a7409ec96aa64"
          ]
        },
        "id": "VzY5Qy4e5sRj",
        "outputId": "0dbe8b51-f620-4203-cc53-05b0cbb8a7fd"
      },
      "source": [
        "import run\n",
        "orig_model = run.run(\"input\", \"output\", \"model-f6b98070.pt\")"
      ],
      "execution_count": null,
      "outputs": [
        {
          "output_type": "stream",
          "text": [
            "initialize\n",
            "device: cpu\n",
            "Loading weights:  model-f6b98070.pt\n"
          ],
          "name": "stdout"
        },
        {
          "output_type": "stream",
          "text": [
            "Downloading: \"https://github.com/facebookresearch/WSL-Images/archive/master.zip\" to /root/.cache/torch/hub/master.zip\n",
            "Downloading: \"https://download.pytorch.org/models/ig_resnext101_32x8-c38310e5.pth\" to /root/.cache/torch/hub/checkpoints/ig_resnext101_32x8-c38310e5.pth\n"
          ],
          "name": "stderr"
        },
        {
          "output_type": "display_data",
          "data": {
            "application/vnd.jupyter.widget-view+json": {
              "model_id": "0124fb8350164974b5b01c0fc2ab7497",
              "version_minor": 0,
              "version_major": 2
            },
            "text/plain": [
              "HBox(children=(FloatProgress(value=0.0, max=356056638.0), HTML(value='')))"
            ]
          },
          "metadata": {
            "tags": []
          }
        },
        {
          "output_type": "stream",
          "text": [
            "\n"
          ],
          "name": "stdout"
        }
      ]
    },
    {
      "cell_type": "markdown",
      "metadata": {
        "id": "6CKBe9j_3caJ"
      },
      "source": [
        "## New Model"
      ]
    },
    {
      "cell_type": "code",
      "metadata": {
        "id": "cbiGk-hM3e_O"
      },
      "source": [
        "\n",
        "def _make_scratch(in_shape, out_shape, groups=1, expand=False):\n",
        "    scratch = nn.Module()\n",
        "\n",
        "    out_shape1 = out_shape\n",
        "    out_shape2 = out_shape\n",
        "    out_shape3 = out_shape\n",
        "    out_shape4 = out_shape\n",
        "    if expand==True:\n",
        "        out_shape1 = out_shape\n",
        "        out_shape2 = out_shape*2\n",
        "        out_shape3 = out_shape*4\n",
        "        out_shape4 = out_shape*8\n",
        "\n",
        "    scratch.layer1_rn = nn.Conv2d(\n",
        "        in_shape[0], out_shape1, kernel_size=3, stride=1, padding=1, bias=False, groups=groups\n",
        "    )\n",
        "    scratch.layer2_rn = nn.Conv2d(\n",
        "        in_shape[1], out_shape2, kernel_size=3, stride=1, padding=1, bias=False, groups=groups\n",
        "    )\n",
        "    scratch.layer3_rn = nn.Conv2d(\n",
        "        in_shape[2], out_shape3, kernel_size=3, stride=1, padding=1, bias=False, groups=groups\n",
        "    )\n",
        "    scratch.layer4_rn = nn.Conv2d(\n",
        "        in_shape[3], out_shape4, kernel_size=3, stride=1, padding=1, bias=False, groups=groups\n",
        "    )\n",
        "\n",
        "    return scratch\n",
        "\n",
        "\n",
        "\n",
        "\n",
        "class Interpolate(nn.Module):\n",
        "    \"\"\"Interpolation module.\n",
        "    \"\"\"\n",
        "\n",
        "    def __init__(self, scale_factor, mode):\n",
        "        \"\"\"Init.\n",
        "\n",
        "        Args:\n",
        "            scale_factor (float): scaling\n",
        "            mode (str): interpolation mode\n",
        "        \"\"\"\n",
        "        super(Interpolate, self).__init__()\n",
        "\n",
        "        self.interp = nn.functional.interpolate\n",
        "        self.scale_factor = scale_factor\n",
        "        self.mode = mode\n",
        "\n",
        "    def forward(self, x):\n",
        "        \"\"\"Forward pass.\n",
        "\n",
        "        Args:\n",
        "            x (tensor): input\n",
        "\n",
        "        Returns:\n",
        "            tensor: interpolated data\n",
        "        \"\"\"\n",
        "\n",
        "        x = self.interp(\n",
        "            x, scale_factor=self.scale_factor, mode=self.mode, align_corners=False\n",
        "        )\n",
        "\n",
        "        return x\n",
        "\n",
        "\n",
        "\n",
        "class ResidualConvUnit(nn.Module):\n",
        "    \"\"\"Residual convolution module.\n",
        "    \"\"\"\n",
        "\n",
        "    def __init__(self, features):\n",
        "        \"\"\"Init.\n",
        "\n",
        "        Args:\n",
        "            features (int): number of features\n",
        "        \"\"\"\n",
        "        super().__init__()\n",
        "\n",
        "        self.conv1 = nn.Conv2d(\n",
        "            features, features, kernel_size=3, stride=1, padding=1, bias=True\n",
        "        )\n",
        "\n",
        "        self.conv2 = nn.Conv2d(\n",
        "            features, features, kernel_size=3, stride=1, padding=1, bias=True\n",
        "        )\n",
        "\n",
        "        self.relu = nn.ReLU(inplace=True)\n",
        "\n",
        "    def forward(self, x):\n",
        "        \"\"\"Forward pass.\n",
        "\n",
        "        Args:\n",
        "            x (tensor): input\n",
        "\n",
        "        Returns:\n",
        "            tensor: output\n",
        "        \"\"\"\n",
        "        out = self.relu(x)\n",
        "        out = self.conv1(out)\n",
        "        out = self.relu(out)\n",
        "        out = self.conv2(out)\n",
        "\n",
        "        return out + x\n",
        "\n",
        "\n",
        "\n",
        "class FeatureFusionBlock(nn.Module):\n",
        "    \"\"\"Feature fusion block.\n",
        "    \"\"\"\n",
        "\n",
        "    def __init__(self, features):\n",
        "        \"\"\"Init.\n",
        "        Args:\n",
        "            features (int): number of features\n",
        "        \"\"\"\n",
        "        super(FeatureFusionBlock, self).__init__()\n",
        "\n",
        "        self.resConfUnit1 = ResidualConvUnit(features)\n",
        "        self.resConfUnit2 = ResidualConvUnit(features)\n",
        "\n",
        "    def forward(self, *xs):\n",
        "        \"\"\"Forward pass.\n",
        "        Returns:\n",
        "            tensor: output\n",
        "        \"\"\"\n",
        "        output = xs[0]\n",
        "\n",
        "        if len(xs) == 2:\n",
        "            output += self.resConfUnit1(xs[1])\n",
        "\n",
        "        output = self.resConfUnit2(output)\n",
        "\n",
        "        output = nn.functional.interpolate(\n",
        "            output, scale_factor=2, mode=\"bilinear\", align_corners=True\n",
        "        )\n",
        "\n",
        "        return output\n",
        "\n",
        "\n",
        "\n",
        "\n",
        "class ResidualConvUnit_custom(nn.Module):\n",
        "    \"\"\"Residual convolution module.\n",
        "    \"\"\"\n",
        "\n",
        "    def __init__(self, features, activation, bn):\n",
        "        \"\"\"Init.\n",
        "        Args:\n",
        "            features (int): number of features\n",
        "        \"\"\"\n",
        "        super().__init__()\n",
        "\n",
        "        self.bn = bn\n",
        "\n",
        "        self.groups=1\n",
        "\n",
        "        self.conv1 = nn.Conv2d(\n",
        "            features, features, kernel_size=3, stride=1, padding=1, bias=True, groups=self.groups\n",
        "        )\n",
        "        \n",
        "        self.conv2 = nn.Conv2d(\n",
        "            features, features, kernel_size=3, stride=1, padding=1, bias=True, groups=self.groups\n",
        "        )\n",
        "\n",
        "        if self.bn==True:\n",
        "            self.bn1 = nn.BatchNorm2d(features)\n",
        "            self.bn2 = nn.BatchNorm2d(features)\n",
        "\n",
        "        self.activation = activation\n",
        "\n",
        "        self.skip_add = nn.quantized.FloatFunctional()\n",
        "\n",
        "    def forward(self, x):\n",
        "        \"\"\"Forward pass.\n",
        "        Args:\n",
        "            x (tensor): input\n",
        "        Returns:\n",
        "            tensor: output\n",
        "        \"\"\"\n",
        "        \n",
        "        out = self.activation(x)\n",
        "        out = self.conv1(out)\n",
        "        if self.bn==True:\n",
        "            out = self.bn1(out)\n",
        "       \n",
        "        out = self.activation(out)\n",
        "        out = self.conv2(out)\n",
        "        if self.bn==True:\n",
        "            out = self.bn2(out)\n",
        "\n",
        "        if self.groups > 1:\n",
        "            out = self.conv_merge(out)\n",
        "\n",
        "        return self.skip_add.add(out, x)\n",
        "\n",
        "\n",
        "\n",
        "class MidasScratch(nn.Module):\n",
        "\n",
        "    def __init__(self, path=None, features=256, non_negative=True):\n",
        "        \"\"\"Init.\n",
        "        Args:\n",
        "            path (str, optional): Path to saved model. Defaults to None.\n",
        "            features (int, optional): Number of features. Defaults to 256.\n",
        "            backbone (str, optional): Backbone network for encoder. Defaults to resnet50\n",
        "        \"\"\"\n",
        "        print(\"Loading weights: \", path)\n",
        "\n",
        "        super(MidasScratch, self).__init__()\n",
        "\n",
        "        use_pretrained = False if path is None else True\n",
        "\n",
        "        self.scratch = _make_scratch(in_shape=[256, 512, 1024, 2048], \n",
        "                                     out_shape=features, groups=1, expand=False)\n",
        "\n",
        "\n",
        "        self.scratch.refinenet4 = FeatureFusionBlock(features)\n",
        "        self.scratch.refinenet3 = FeatureFusionBlock(features)\n",
        "        self.scratch.refinenet2 = FeatureFusionBlock(features)\n",
        "        self.scratch.refinenet1 = FeatureFusionBlock(features)\n",
        "\n",
        "        self.scratch.output_conv = nn.Sequential(\n",
        "            nn.Conv2d(features, 128, kernel_size=3, stride=1, padding=1),\n",
        "            Interpolate(scale_factor=2, mode=\"bilinear\"),\n",
        "            nn.Conv2d(128, 32, kernel_size=3, stride=1, padding=1),\n",
        "            nn.ReLU(True),\n",
        "            nn.Conv2d(32, 1, kernel_size=1, stride=1, padding=0),\n",
        "            nn.ReLU(True) if non_negative else nn.Identity(),\n",
        "        )\n",
        "\n",
        "        if path:\n",
        "            self.load(path)\n",
        "\n",
        "\n",
        "    def forward(self, layer_1, layer_2, layer_3, layer_4):\n",
        "        \"\"\"Forward pass.\n",
        "        Args:\n",
        "            x (tensor): input data (image)\n",
        "        Returns:\n",
        "            tensor: depth\n",
        "        \"\"\"\n",
        "\n",
        "        layer_1_rn = self.scratch.layer1_rn(layer_1)\n",
        "        layer_2_rn = self.scratch.layer2_rn(layer_2)\n",
        "        layer_3_rn = self.scratch.layer3_rn(layer_3)\n",
        "        layer_4_rn = self.scratch.layer4_rn(layer_4)\n",
        "\n",
        "        path_4 = self.scratch.refinenet4(layer_4_rn)\n",
        "        path_3 = self.scratch.refinenet3(path_4, layer_3_rn)\n",
        "        path_2 = self.scratch.refinenet2(path_3, layer_2_rn)\n",
        "        path_1 = self.scratch.refinenet1(path_2, layer_1_rn)\n",
        "\n",
        "        out = self.scratch.output_conv(path_1)\n",
        "\n",
        "        return torch.squeeze(out, dim=1)\n",
        "\n"
      ],
      "execution_count": null,
      "outputs": []
    },
    {
      "cell_type": "code",
      "metadata": {
        "colab": {
          "base_uri": "https://localhost:8080/"
        },
        "id": "tm5iXLtb8uNR",
        "outputId": "e79e8e34-73d1-49a8-9a60-1b7273028190"
      },
      "source": [
        "new_model = MidasScratch()"
      ],
      "execution_count": null,
      "outputs": [
        {
          "output_type": "stream",
          "text": [
            "Loading weights:  None\n"
          ],
          "name": "stdout"
        }
      ]
    },
    {
      "cell_type": "markdown",
      "metadata": {
        "id": "T18Z5il022f5"
      },
      "source": [
        "## Extract weights from old model and assign to new model"
      ]
    },
    {
      "cell_type": "code",
      "metadata": {
        "id": "pkUEFdWZzsgB"
      },
      "source": [
        "def extract_relevant_midas_weights(orig_model, new_model):\n",
        "\n",
        "    layer_names = [\n",
        "    \"scratch.layer1_rn\",\n",
        "    \"scratch.layer2_rn\",\n",
        "    \"scratch.layer3_rn\",\n",
        "    \"scratch.layer4_rn\",\n",
        "    \"scratch.refinenet4.resConfUnit1.conv1\",\n",
        "    \"scratch.refinenet4.resConfUnit1.conv2\",\n",
        "    \"scratch.refinenet4.resConfUnit2.conv1\",\n",
        "    \"scratch.refinenet4.resConfUnit2.conv2\",\n",
        "    \"scratch.refinenet3.resConfUnit1.conv1\",\n",
        "    \"scratch.refinenet3.resConfUnit1.conv2\",\n",
        "    \"scratch.refinenet3.resConfUnit2.conv1\",\n",
        "    \"scratch.refinenet3.resConfUnit2.conv2\",\n",
        "    \"scratch.refinenet2.resConfUnit1.conv1\",\n",
        "    \"scratch.refinenet2.resConfUnit1.conv2\",\n",
        "    \"scratch.refinenet2.resConfUnit2.conv1\",\n",
        "    \"scratch.refinenet2.resConfUnit2.conv2\",\n",
        "    \"scratch.refinenet1.resConfUnit1.conv1\",\n",
        "    \"scratch.refinenet1.resConfUnit1.conv2\",\n",
        "    \"scratch.refinenet1.resConfUnit2.conv1\",\n",
        "    \"scratch.refinenet1.resConfUnit2.conv2\",\n",
        "    \"scratch.output_conv[0]\",\n",
        "    \"scratch.output_conv[2]\",\n",
        "    \"scratch.output_conv[4]\"]\n",
        "\n",
        "    for lyr in layer_names:\n",
        "        exec(\"new_model.\" + lyr + \".weight.data = orig_model.\" + lyr + \".weight.data\")\n",
        "    \n",
        "    return new_model\n"
      ],
      "execution_count": null,
      "outputs": []
    },
    {
      "cell_type": "code",
      "metadata": {
        "id": "dKZ5Tq71LX-H"
      },
      "source": [
        "new_model = extract_relevant_midas_weights(orig_model, new_model)"
      ],
      "execution_count": null,
      "outputs": []
    },
    {
      "cell_type": "code",
      "metadata": {
        "id": "Cc9A69naLkDL"
      },
      "source": [
        "for k, l in new_model.named_parameters():\n",
        "    print()\n",
        "    print(\"************************************\")\n",
        "    print(k, \"  --  \", l.shape)\n",
        "    print(\"************************************\")"
      ],
      "execution_count": null,
      "outputs": []
    },
    {
      "cell_type": "code",
      "metadata": {
        "id": "zwcxLZGhMUn7"
      },
      "source": [
        "torch.save(new_model.state_dict(), '../drive/My Drive/eva_stored_from_colab/eva5/s15_capstone/midas_scratch_weights.pt')"
      ],
      "execution_count": null,
      "outputs": []
    },
    {
      "cell_type": "code",
      "metadata": {
        "colab": {
          "base_uri": "https://localhost:8080/"
        },
        "id": "2dr60NLnPY5B",
        "outputId": "0e5ff0bb-fea0-4ed0-cb9e-c424b6e2ae59"
      },
      "source": [
        "testmodel = MidasScratch()\n",
        "testmodel.load_state_dict(torch.load('../drive/My Drive/eva_stored_from_colab/eva5/s15_capstone/midas_scratch_weights.pt'))"
      ],
      "execution_count": null,
      "outputs": [
        {
          "output_type": "stream",
          "text": [
            "Loading weights:  None\n"
          ],
          "name": "stdout"
        },
        {
          "output_type": "execute_result",
          "data": {
            "text/plain": [
              "<All keys matched successfully>"
            ]
          },
          "metadata": {
            "tags": []
          },
          "execution_count": 41
        }
      ]
    },
    {
      "cell_type": "code",
      "metadata": {
        "id": "4pQXuB7iPjkc",
        "colab": {
          "base_uri": "https://localhost:8080/"
        },
        "outputId": "88debc14-1612-45f4-a651-b3cf790a803b"
      },
      "source": [
        "for k, l in testmodel.named_parameters():\n",
        "    print()\n",
        "    print(\"************************************\")\n",
        "    print(k, \"  --  \", l.shape)\n",
        "    print(\"************************************\")"
      ],
      "execution_count": null,
      "outputs": [
        {
          "output_type": "stream",
          "text": [
            "\n",
            "************************************\n",
            "scratch.layer1_rn.weight   --   torch.Size([256, 256, 3, 3])\n",
            "************************************\n",
            "\n",
            "************************************\n",
            "scratch.layer2_rn.weight   --   torch.Size([256, 512, 3, 3])\n",
            "************************************\n",
            "\n",
            "************************************\n",
            "scratch.layer3_rn.weight   --   torch.Size([256, 1024, 3, 3])\n",
            "************************************\n",
            "\n",
            "************************************\n",
            "scratch.layer4_rn.weight   --   torch.Size([256, 2048, 3, 3])\n",
            "************************************\n",
            "\n",
            "************************************\n",
            "scratch.refinenet4.resConfUnit1.conv1.weight   --   torch.Size([256, 256, 3, 3])\n",
            "************************************\n",
            "\n",
            "************************************\n",
            "scratch.refinenet4.resConfUnit1.conv1.bias   --   torch.Size([256])\n",
            "************************************\n",
            "\n",
            "************************************\n",
            "scratch.refinenet4.resConfUnit1.conv2.weight   --   torch.Size([256, 256, 3, 3])\n",
            "************************************\n",
            "\n",
            "************************************\n",
            "scratch.refinenet4.resConfUnit1.conv2.bias   --   torch.Size([256])\n",
            "************************************\n",
            "\n",
            "************************************\n",
            "scratch.refinenet4.resConfUnit2.conv1.weight   --   torch.Size([256, 256, 3, 3])\n",
            "************************************\n",
            "\n",
            "************************************\n",
            "scratch.refinenet4.resConfUnit2.conv1.bias   --   torch.Size([256])\n",
            "************************************\n",
            "\n",
            "************************************\n",
            "scratch.refinenet4.resConfUnit2.conv2.weight   --   torch.Size([256, 256, 3, 3])\n",
            "************************************\n",
            "\n",
            "************************************\n",
            "scratch.refinenet4.resConfUnit2.conv2.bias   --   torch.Size([256])\n",
            "************************************\n",
            "\n",
            "************************************\n",
            "scratch.refinenet3.resConfUnit1.conv1.weight   --   torch.Size([256, 256, 3, 3])\n",
            "************************************\n",
            "\n",
            "************************************\n",
            "scratch.refinenet3.resConfUnit1.conv1.bias   --   torch.Size([256])\n",
            "************************************\n",
            "\n",
            "************************************\n",
            "scratch.refinenet3.resConfUnit1.conv2.weight   --   torch.Size([256, 256, 3, 3])\n",
            "************************************\n",
            "\n",
            "************************************\n",
            "scratch.refinenet3.resConfUnit1.conv2.bias   --   torch.Size([256])\n",
            "************************************\n",
            "\n",
            "************************************\n",
            "scratch.refinenet3.resConfUnit2.conv1.weight   --   torch.Size([256, 256, 3, 3])\n",
            "************************************\n",
            "\n",
            "************************************\n",
            "scratch.refinenet3.resConfUnit2.conv1.bias   --   torch.Size([256])\n",
            "************************************\n",
            "\n",
            "************************************\n",
            "scratch.refinenet3.resConfUnit2.conv2.weight   --   torch.Size([256, 256, 3, 3])\n",
            "************************************\n",
            "\n",
            "************************************\n",
            "scratch.refinenet3.resConfUnit2.conv2.bias   --   torch.Size([256])\n",
            "************************************\n",
            "\n",
            "************************************\n",
            "scratch.refinenet2.resConfUnit1.conv1.weight   --   torch.Size([256, 256, 3, 3])\n",
            "************************************\n",
            "\n",
            "************************************\n",
            "scratch.refinenet2.resConfUnit1.conv1.bias   --   torch.Size([256])\n",
            "************************************\n",
            "\n",
            "************************************\n",
            "scratch.refinenet2.resConfUnit1.conv2.weight   --   torch.Size([256, 256, 3, 3])\n",
            "************************************\n",
            "\n",
            "************************************\n",
            "scratch.refinenet2.resConfUnit1.conv2.bias   --   torch.Size([256])\n",
            "************************************\n",
            "\n",
            "************************************\n",
            "scratch.refinenet2.resConfUnit2.conv1.weight   --   torch.Size([256, 256, 3, 3])\n",
            "************************************\n",
            "\n",
            "************************************\n",
            "scratch.refinenet2.resConfUnit2.conv1.bias   --   torch.Size([256])\n",
            "************************************\n",
            "\n",
            "************************************\n",
            "scratch.refinenet2.resConfUnit2.conv2.weight   --   torch.Size([256, 256, 3, 3])\n",
            "************************************\n",
            "\n",
            "************************************\n",
            "scratch.refinenet2.resConfUnit2.conv2.bias   --   torch.Size([256])\n",
            "************************************\n",
            "\n",
            "************************************\n",
            "scratch.refinenet1.resConfUnit1.conv1.weight   --   torch.Size([256, 256, 3, 3])\n",
            "************************************\n",
            "\n",
            "************************************\n",
            "scratch.refinenet1.resConfUnit1.conv1.bias   --   torch.Size([256])\n",
            "************************************\n",
            "\n",
            "************************************\n",
            "scratch.refinenet1.resConfUnit1.conv2.weight   --   torch.Size([256, 256, 3, 3])\n",
            "************************************\n",
            "\n",
            "************************************\n",
            "scratch.refinenet1.resConfUnit1.conv2.bias   --   torch.Size([256])\n",
            "************************************\n",
            "\n",
            "************************************\n",
            "scratch.refinenet1.resConfUnit2.conv1.weight   --   torch.Size([256, 256, 3, 3])\n",
            "************************************\n",
            "\n",
            "************************************\n",
            "scratch.refinenet1.resConfUnit2.conv1.bias   --   torch.Size([256])\n",
            "************************************\n",
            "\n",
            "************************************\n",
            "scratch.refinenet1.resConfUnit2.conv2.weight   --   torch.Size([256, 256, 3, 3])\n",
            "************************************\n",
            "\n",
            "************************************\n",
            "scratch.refinenet1.resConfUnit2.conv2.bias   --   torch.Size([256])\n",
            "************************************\n",
            "\n",
            "************************************\n",
            "scratch.output_conv.0.weight   --   torch.Size([128, 256, 3, 3])\n",
            "************************************\n",
            "\n",
            "************************************\n",
            "scratch.output_conv.0.bias   --   torch.Size([128])\n",
            "************************************\n",
            "\n",
            "************************************\n",
            "scratch.output_conv.2.weight   --   torch.Size([32, 128, 3, 3])\n",
            "************************************\n",
            "\n",
            "************************************\n",
            "scratch.output_conv.2.bias   --   torch.Size([32])\n",
            "************************************\n",
            "\n",
            "************************************\n",
            "scratch.output_conv.4.weight   --   torch.Size([1, 32, 1, 1])\n",
            "************************************\n",
            "\n",
            "************************************\n",
            "scratch.output_conv.4.bias   --   torch.Size([1])\n",
            "************************************\n"
          ],
          "name": "stdout"
        }
      ]
    },
    {
      "cell_type": "markdown",
      "metadata": {
        "id": "PfKNT1-aMe1J"
      },
      "source": [
        "## Storing parameters as list of named tuple"
      ]
    },
    {
      "cell_type": "code",
      "metadata": {
        "id": "9oKvpt88Pm54"
      },
      "source": [
        "def extract_relevant_midas_weights(orig_model, new_model):\n",
        "\n",
        "    layer_names = [\n",
        "    \"scratch.layer1_rn\",\n",
        "    \"scratch.layer2_rn\",\n",
        "    \"scratch.layer3_rn\",\n",
        "    \"scratch.layer4_rn\",\n",
        "    \"scratch.refinenet4.resConfUnit1.conv1\",\n",
        "    \"scratch.refinenet4.resConfUnit1.conv2\",\n",
        "    \"scratch.refinenet4.resConfUnit2.conv1\",\n",
        "    \"scratch.refinenet4.resConfUnit2.conv2\",\n",
        "    \"scratch.refinenet3.resConfUnit1.conv1\",\n",
        "    \"scratch.refinenet3.resConfUnit1.conv2\",\n",
        "    \"scratch.refinenet3.resConfUnit2.conv1\",\n",
        "    \"scratch.refinenet3.resConfUnit2.conv2\",\n",
        "    \"scratch.refinenet2.resConfUnit1.conv1\",\n",
        "    \"scratch.refinenet2.resConfUnit1.conv2\",\n",
        "    \"scratch.refinenet2.resConfUnit2.conv1\",\n",
        "    \"scratch.refinenet2.resConfUnit2.conv2\",\n",
        "    \"scratch.refinenet1.resConfUnit1.conv1\",\n",
        "    \"scratch.refinenet1.resConfUnit1.conv2\",\n",
        "    \"scratch.refinenet1.resConfUnit2.conv1\",\n",
        "    \"scratch.refinenet1.resConfUnit2.conv2\",\n",
        "    \"scratch.output_conv[0]\",\n",
        "    \"scratch.output_conv[2]\",\n",
        "    \"scratch.output_conv[4]\"]\n",
        "\n",
        "    list_of_weights = []\n",
        "    for lyr in layer_names:\n",
        "        tup = ( lyr, eval(\"orig_model.\" + lyr + \".weight.data.numpy()\") )\n",
        "        list_of_weights.append(tup)\n",
        "    \n",
        "    return list_of_weights\n"
      ],
      "execution_count": null,
      "outputs": []
    },
    {
      "cell_type": "code",
      "metadata": {
        "id": "EeRDXuDkOaOG"
      },
      "source": [
        "lots = extract_relevant_midas_weights(orig_model, new_model=None)"
      ],
      "execution_count": null,
      "outputs": []
    },
    {
      "cell_type": "code",
      "metadata": {
        "id": "m-moXyv2SON0"
      },
      "source": [
        "import pickle\n",
        "\n",
        "with open(\"../drive/My Drive/eva_stored_from_colab/eva5/s15_capstone/midas_scratch_list_of_tuples.pkl\", \"wb\") as pklfl:\n",
        "    pickle.dump(lots, pklfl)"
      ],
      "execution_count": null,
      "outputs": []
    },
    {
      "cell_type": "code",
      "metadata": {
        "id": "JH5qHWRpSahg"
      },
      "source": [
        "with open(\"../drive/My Drive/eva_stored_from_colab/eva5/s15_capstone/midas_scratch_list_of_tuples.pkl\", \"rb\") as pklfl:\n",
        "    testmdl = pickle.load(pklfl)"
      ],
      "execution_count": null,
      "outputs": []
    },
    {
      "cell_type": "code",
      "metadata": {
        "id": "xdVrhiD6SvJh"
      },
      "source": [
        "print(type(testmdl))\n",
        "for k in testmdl:\n",
        "    print(type(k[0]), type(k[1]))\n",
        "    print(k)"
      ],
      "execution_count": null,
      "outputs": []
    },
    {
      "cell_type": "code",
      "metadata": {
        "id": "e_AOWd87S9Yd"
      },
      "source": [
        ""
      ],
      "execution_count": null,
      "outputs": []
    }
  ]
}