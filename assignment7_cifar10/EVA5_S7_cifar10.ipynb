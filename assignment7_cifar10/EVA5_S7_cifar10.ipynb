{
  "nbformat": 4,
  "nbformat_minor": 0,
  "metadata": {
    "kernelspec": {
      "name": "python3",
      "display_name": "Python 3"
    },
    "language_info": {
      "codemirror_mode": {
        "name": "ipython",
        "version": 3
      },
      "file_extension": ".py",
      "mimetype": "text/x-python",
      "name": "python",
      "nbconvert_exporter": "python",
      "pygments_lexer": "ipython3",
      "version": "3.6.6"
    },
    "colab": {
      "name": "EVA5_S7_cifar10.ipynb",
      "provenance": []
    },
    "accelerator": "GPU"
  },
  "cells": [
    {
      "cell_type": "markdown",
      "metadata": {
        "id": "jSY0dZuMPgs0",
        "colab_type": "text"
      },
      "source": [
        "# CIFAR10 - Use Dilated & Depthwise Separable Convolutions\n",
        "\n",
        "### The requirements in detail:\n",
        "\n",
        "\n",
        "- change the code such that it uses GPU\n",
        "- change the architecture to C1C2C3C40 (basically 3 MPs)\n",
        "- total RF must be more than 44\n",
        "- one of the layers must use Depthwise Separable Convolution\n",
        "- one of the layers must use Dilated Convolution\n",
        "- use GAP (compulsory):- add FC after GAP to target #of classes (optional)\n",
        "- achieve 80% accuracy, as many epochs as you want. Total Params to be less than 1M. \n",
        "- upload to Github\n",
        "- Attempt S7-Assignment Solution\n"
      ]
    },
    {
      "cell_type": "markdown",
      "metadata": {
        "id": "m1JuZiyeQMxj",
        "colab_type": "text"
      },
      "source": [
        "## Setup google drive for storage & retrieval"
      ]
    },
    {
      "cell_type": "code",
      "metadata": {
        "id": "QVbdg0z4poCc",
        "colab_type": "code",
        "colab": {
          "base_uri": "https://localhost:8080/",
          "height": 34
        },
        "outputId": "3153ab1a-2dfe-459b-e177-908b8047bade"
      },
      "source": [
        "from google.colab import drive\n",
        "drive.mount(\"/content/drive\", force_remount=True)\n",
        "\n",
        "module_folder = 'drive/My Drive/eva_stored_from_colab/eva5/cifar10_convs/'\n",
        "base_folder = module_folder+'trained_weights/'\n",
        "anlt_folder = module_folder+'analysis_materials/'\n",
        "acc_recorder_files = [\"maxAcc_cifar10_convs\"]\n",
        "model_file_names = [\"mdl_cifar10_convs\"]"
      ],
      "execution_count": 1,
      "outputs": [
        {
          "output_type": "stream",
          "text": [
            "Mounted at /content/drive\n"
          ],
          "name": "stdout"
        }
      ]
    },
    {
      "cell_type": "markdown",
      "metadata": {
        "id": "BQ0hA60RQcMp",
        "colab_type": "text"
      },
      "source": [
        "## Get module for github & set it up for use"
      ]
    },
    {
      "cell_type": "code",
      "metadata": {
        "id": "cgheGHS2B5mz",
        "colab_type": "code",
        "colab": {
          "base_uri": "https://localhost:8080/",
          "height": 139
        },
        "outputId": "41928e14-d004-425f-8fd4-86a4142899e6"
      },
      "source": [
        "# import os\n",
        "# from pathlib import Path\n",
        "# import shutil\n",
        "# import time\n",
        "\n",
        "# raw_models_dir = Path(module_folder + \"raw_models/\")\n",
        "# custom_utils_dir = Path(module_folder + \"custom_utils/\")\n",
        "\n",
        "# if raw_models_dir.exists():\n",
        "#     shutil.rmtree(raw_models_dir)\n",
        "\n",
        "# if custom_utils_dir.exists():\n",
        "#     shutil.rmtree(custom_utils_dir)\n",
        "\n",
        "# time.sleep(60)\n",
        "\n",
        "# !git clone  https://github.com/sairamsubramaniam/tsai_projects.git\n",
        "# !mv 'tsai_projects/assignment7_cifar10/raw_models' 'drive/My Drive/eva_stored_from_colab/eva5/cifar10_convs/'\n",
        "# !mv 'tsai_projects/assignment7_cifar10/custom_utils' 'drive/My Drive/eva_stored_from_colab/eva5/cifar10_convs/'\n",
        "\n",
        "# try:\n",
        "#     os.mkdir('drive/My Drive/eva_stored_from_colab/eva5/cifar10_convs/trained_weights')\n",
        "# except:\n",
        "#     pass\n",
        "\n",
        "# !rm -r  'tsai_projects/'"
      ],
      "execution_count": 10,
      "outputs": [
        {
          "output_type": "stream",
          "text": [
            "Cloning into 'tsai_projects'...\n",
            "remote: Enumerating objects: 106, done.\u001b[K\n",
            "remote: Counting objects: 100% (106/106), done.\u001b[K\n",
            "remote: Compressing objects: 100% (64/64), done.\u001b[K\n",
            "remote: Total 106 (delta 58), reused 84 (delta 39), pack-reused 0\u001b[K\n",
            "Receiving objects: 100% (106/106), 601.85 KiB | 21.49 MiB/s, done.\n",
            "Resolving deltas: 100% (58/58), done.\n"
          ],
          "name": "stdout"
        }
      ]
    },
    {
      "cell_type": "markdown",
      "metadata": {
        "id": "HlDlyn_PQvqm",
        "colab_type": "text"
      },
      "source": [
        "## Import all the required modules including the custom ones"
      ]
    },
    {
      "cell_type": "code",
      "metadata": {
        "id": "-yVpodAMpoCi",
        "colab_type": "code",
        "colab": {}
      },
      "source": [
        "from __future__ import print_function\n",
        "from operator import itemgetter\n",
        "import time\n",
        "import sys\n",
        "sys.path.append(module_folder)\n",
        "\n",
        "import torch\n",
        "import torch.nn as nn\n",
        "import torch.nn.functional as F\n",
        "import torch.optim as optim\n",
        "import torchvision\n",
        "from torchvision import datasets, transforms\n",
        "\n",
        "import matplotlib.pyplot as plt\n",
        "%matplotlib inline\n",
        "\n",
        "#import raw_models\n",
        "from raw_models import S7\n",
        "import custom_utils\n",
        "from custom_utils import helpers\n",
        "from custom_utils import analytics\n",
        "\n",
        "use_cuda = torch.cuda.is_available()\n",
        "device = torch.device(\"cuda\" if use_cuda else \"cpu\")"
      ],
      "execution_count": 2,
      "outputs": []
    },
    {
      "cell_type": "markdown",
      "metadata": {
        "id": "qiihsHUOQ3uB",
        "colab_type": "text"
      },
      "source": [
        "## Download Data"
      ]
    },
    {
      "cell_type": "code",
      "metadata": {
        "id": "D8Tjigo2poCl",
        "colab_type": "code",
        "colab": {
          "base_uri": "https://localhost:8080/",
          "height": 52
        },
        "outputId": "7782b977-b894-4b85-dee0-23c21682ba24"
      },
      "source": [
        "torch.manual_seed(1)\n",
        "batch_size = 128\n",
        "\n",
        "transform = transforms.Compose(\n",
        "                          [transforms.RandomRotation(10) ,\n",
        "                           transforms.RandomHorizontalFlip(0.25) ,\n",
        "                           transforms.ToTensor(),\n",
        "                          transforms.Normalize((0.5, 0.5, 0.5), (0.5, 0.5, 0.5))])\n",
        "\n",
        "trainset = torchvision.datasets.CIFAR10(root='./data', train=True,\n",
        "                                        download=True, transform=transform)\n",
        "train_loader = torch.utils.data.DataLoader(trainset, batch_size=batch_size,\n",
        "                                          shuffle=True, num_workers=2)\n",
        "\n",
        "testset = torchvision.datasets.CIFAR10(root='./data', train=False,\n",
        "                                       download=True, transform=transform)\n",
        "test_loader = torch.utils.data.DataLoader(testset, batch_size=batch_size,\n",
        "                                         shuffle=False, num_workers=2)\n",
        "\n",
        "classes = ('plane', 'car', 'bird', 'cat', 'deer', 'dog', 'frog', 'horse', 'ship', 'truck')"
      ],
      "execution_count": 3,
      "outputs": [
        {
          "output_type": "stream",
          "text": [
            "Files already downloaded and verified\n",
            "Files already downloaded and verified\n"
          ],
          "name": "stdout"
        }
      ]
    },
    {
      "cell_type": "markdown",
      "metadata": {
        "id": "2o0LEtp1Q7OY",
        "colab_type": "text"
      },
      "source": [
        "## Check the number of parameters"
      ]
    },
    {
      "cell_type": "code",
      "metadata": {
        "id": "M4xBbDROpoCv",
        "colab_type": "code",
        "colab": {
          "base_uri": "https://localhost:8080/",
          "height": 937
        },
        "outputId": "05c25c30-e3e0-4589-d3be-38bf1e87b89e"
      },
      "source": [
        "!pip install torchsummary\n",
        "from torchsummary import summary\n",
        "summary(S7.S7().to(device), input_size=(3, 32, 32))"
      ],
      "execution_count": 4,
      "outputs": [
        {
          "output_type": "stream",
          "text": [
            "Requirement already satisfied: torchsummary in /usr/local/lib/python3.6/dist-packages (1.5.1)\n",
            "----------------------------------------------------------------\n",
            "        Layer (type)               Output Shape         Param #\n",
            "================================================================\n",
            "            Conv2d-1           [-1, 16, 32, 32]             448\n",
            "       BatchNorm2d-2           [-1, 16, 32, 32]              32\n",
            "              ReLU-3           [-1, 16, 32, 32]               0\n",
            "       BatchNorm2d-4           [-1, 16, 32, 32]              32\n",
            "              ReLU-5           [-1, 16, 32, 32]               0\n",
            "            Conv2d-6           [-1, 32, 32, 32]           4,640\n",
            "       BatchNorm2d-7           [-1, 32, 32, 32]              64\n",
            "              ReLU-8           [-1, 32, 32, 32]               0\n",
            "       BatchNorm2d-9           [-1, 32, 32, 32]              64\n",
            "             ReLU-10           [-1, 32, 32, 32]               0\n",
            "        MaxPool2d-11           [-1, 32, 16, 16]               0\n",
            "           Conv2d-12           [-1, 32, 16, 16]           1,056\n",
            "      BatchNorm2d-13           [-1, 32, 16, 16]              64\n",
            "             ReLU-14           [-1, 32, 16, 16]               0\n",
            "           Conv2d-15           [-1, 64, 16, 16]          18,496\n",
            "      BatchNorm2d-16           [-1, 64, 16, 16]             128\n",
            "             ReLU-17           [-1, 64, 16, 16]               0\n",
            "      BatchNorm2d-18           [-1, 64, 16, 16]             128\n",
            "             ReLU-19           [-1, 64, 16, 16]               0\n",
            "           Conv2d-20           [-1, 64, 16, 16]             640\n",
            "           Conv2d-21          [-1, 128, 18, 18]           8,320\n",
            "      BatchNorm2d-22          [-1, 128, 18, 18]             256\n",
            "             ReLU-23          [-1, 128, 18, 18]               0\n",
            "           Conv2d-24          [-1, 128, 16, 16]          73,856\n",
            "        MaxPool2d-25            [-1, 128, 8, 8]               0\n",
            "           Conv2d-26            [-1, 256, 8, 8]          33,024\n",
            "      BatchNorm2d-27            [-1, 256, 8, 8]             512\n",
            "             ReLU-28            [-1, 256, 8, 8]               0\n",
            "           Conv2d-29            [-1, 256, 8, 8]         590,080\n",
            "      BatchNorm2d-30            [-1, 256, 8, 8]             512\n",
            "             ReLU-31            [-1, 256, 8, 8]               0\n",
            "      BatchNorm2d-32            [-1, 256, 8, 8]             512\n",
            "             ReLU-33            [-1, 256, 8, 8]               0\n",
            "        MaxPool2d-34            [-1, 256, 4, 4]               0\n",
            "           Conv2d-35            [-1, 128, 4, 4]          32,896\n",
            "      BatchNorm2d-36            [-1, 128, 4, 4]             256\n",
            "             ReLU-37            [-1, 128, 4, 4]               0\n",
            "           Conv2d-38             [-1, 10, 4, 4]          11,530\n",
            "        AvgPool2d-39             [-1, 10, 1, 1]               0\n",
            "================================================================\n",
            "Total params: 777,546\n",
            "Trainable params: 777,546\n",
            "Non-trainable params: 0\n",
            "----------------------------------------------------------------\n",
            "Input size (MB): 0.01\n",
            "Forward/backward pass size (MB): 5.22\n",
            "Params size (MB): 2.97\n",
            "Estimated Total Size (MB): 8.19\n",
            "----------------------------------------------------------------\n"
          ],
          "name": "stdout"
        }
      ]
    },
    {
      "cell_type": "markdown",
      "metadata": {
        "id": "Ehc0D3xFREiY",
        "colab_type": "text"
      },
      "source": [
        "## Train - 80% achieved by 8th Epoch"
      ]
    },
    {
      "cell_type": "code",
      "metadata": {
        "id": "0jjLwLLQpoCr",
        "colab_type": "code",
        "colab": {
          "base_uri": "https://localhost:8080/",
          "height": 1000
        },
        "outputId": "0e6553ca-9d94-4934-b5e8-fb26f55c02d5"
      },
      "source": [
        "fn_idx = 0\n",
        "epochs = 26\n",
        "\n",
        "model = S7.S7().to(device)\n",
        "optimizer = optim.SGD(model.parameters(), lr=0.1, weight_decay=0, momentum=0.9)\n",
        "loss_func = F.nll_loss\n",
        "\n",
        "acc_recorder_file = acc_recorder_files[fn_idx]\n",
        "model_file_name = model_file_names[fn_idx]\n",
        "\n",
        "accuracy_store_path = base_folder+acc_recorder_file\n",
        "model_sd_save_path = base_folder+model_file_name+\"_sd.pth\"\n",
        "\n",
        "\n",
        "trial1 = helpers.train_epochs(\n",
        "                    model=model, \n",
        "                    device=device, \n",
        "                    train_loader=train_loader,\n",
        "                    test_loader=test_loader, \n",
        "                    optimizer=optimizer, \n",
        "                    loss_func=loss_func, \n",
        "                    epochs=epochs,\n",
        "                    accuracy_store_path=accuracy_store_path, \n",
        "                    model_sd_save_path=model_sd_save_path,\n",
        "                    save_if_better_acc=True)"
      ],
      "execution_count": 5,
      "outputs": [
        {
          "output_type": "stream",
          "text": [
            "\r  0%|          | 0/391 [00:00<?, ?it/s]"
          ],
          "name": "stderr"
        },
        {
          "output_type": "stream",
          "text": [
            "\n",
            "LAST RECORDED MAX ACCURACY:  0.0\n",
            "\n",
            "EPOCH NUM 1\n"
          ],
          "name": "stdout"
        },
        {
          "output_type": "stream",
          "text": [
            "loss=1.446407437324524 batch_id=390: 100%|██████████| 391/391 [00:19<00:00, 20.52it/s]\n"
          ],
          "name": "stderr"
        },
        {
          "output_type": "stream",
          "text": [
            "\n",
            "Train Data: Average loss: 0.0117, Accuracy: 22504/50000 (45.0080%)\n",
            "\n"
          ],
          "name": "stdout"
        },
        {
          "output_type": "stream",
          "text": [
            "\r  0%|          | 0/391 [00:00<?, ?it/s]"
          ],
          "name": "stderr"
        },
        {
          "output_type": "stream",
          "text": [
            "\n",
            "Test set: Average loss: 1.4006, Accuracy: 4634/10000 (46.3400%)\n",
            "\n",
            "-----------------------------------------------\n",
            "\n",
            "EPOCH NUM 2\n"
          ],
          "name": "stdout"
        },
        {
          "output_type": "stream",
          "text": [
            "loss=0.8564425706863403 batch_id=390: 100%|██████████| 391/391 [00:19<00:00, 20.51it/s]"
          ],
          "name": "stderr"
        },
        {
          "output_type": "stream",
          "text": [
            "\n",
            "Train Data: Average loss: 0.0082, Accuracy: 31094/50000 (62.1880%)\n",
            "\n"
          ],
          "name": "stdout"
        },
        {
          "output_type": "stream",
          "text": [
            "\n",
            "  0%|          | 0/391 [00:00<?, ?it/s]"
          ],
          "name": "stderr"
        },
        {
          "output_type": "stream",
          "text": [
            "\n",
            "Test set: Average loss: 0.9982, Accuracy: 6433/10000 (64.3300%)\n",
            "\n",
            "-----------------------------------------------\n",
            "\n",
            "EPOCH NUM 3\n"
          ],
          "name": "stdout"
        },
        {
          "output_type": "stream",
          "text": [
            "loss=0.9796412587165833 batch_id=390: 100%|██████████| 391/391 [00:18<00:00, 20.91it/s]"
          ],
          "name": "stderr"
        },
        {
          "output_type": "stream",
          "text": [
            "\n",
            "Train Data: Average loss: 0.0067, Accuracy: 34844/50000 (69.6880%)\n",
            "\n"
          ],
          "name": "stdout"
        },
        {
          "output_type": "stream",
          "text": [
            "\n",
            "  0%|          | 0/391 [00:00<?, ?it/s]"
          ],
          "name": "stderr"
        },
        {
          "output_type": "stream",
          "text": [
            "\n",
            "Test set: Average loss: 0.8607, Accuracy: 7027/10000 (70.2700%)\n",
            "\n",
            "-----------------------------------------------\n",
            "\n",
            "EPOCH NUM 4\n"
          ],
          "name": "stdout"
        },
        {
          "output_type": "stream",
          "text": [
            "loss=0.7254946827888489 batch_id=390: 100%|██████████| 391/391 [00:18<00:00, 20.75it/s]"
          ],
          "name": "stderr"
        },
        {
          "output_type": "stream",
          "text": [
            "\n",
            "Train Data: Average loss: 0.0057, Accuracy: 37306/50000 (74.6120%)\n",
            "\n"
          ],
          "name": "stdout"
        },
        {
          "output_type": "stream",
          "text": [
            "\n",
            "  0%|          | 0/391 [00:00<?, ?it/s]"
          ],
          "name": "stderr"
        },
        {
          "output_type": "stream",
          "text": [
            "\n",
            "Test set: Average loss: 0.7466, Accuracy: 7380/10000 (73.8000%)\n",
            "\n",
            "-----------------------------------------------\n",
            "\n",
            "EPOCH NUM 5\n"
          ],
          "name": "stdout"
        },
        {
          "output_type": "stream",
          "text": [
            "loss=0.44828176498413086 batch_id=390: 100%|██████████| 391/391 [00:19<00:00, 20.54it/s]"
          ],
          "name": "stderr"
        },
        {
          "output_type": "stream",
          "text": [
            "\n",
            "Train Data: Average loss: 0.0051, Accuracy: 38686/50000 (77.3720%)\n",
            "\n"
          ],
          "name": "stdout"
        },
        {
          "output_type": "stream",
          "text": [
            "\n",
            "  0%|          | 0/391 [00:00<?, ?it/s]"
          ],
          "name": "stderr"
        },
        {
          "output_type": "stream",
          "text": [
            "\n",
            "Test set: Average loss: 0.6704, Accuracy: 7712/10000 (77.1200%)\n",
            "\n",
            "-----------------------------------------------\n",
            "\n",
            "EPOCH NUM 6\n"
          ],
          "name": "stdout"
        },
        {
          "output_type": "stream",
          "text": [
            "loss=0.4779489040374756 batch_id=390: 100%|██████████| 391/391 [00:18<00:00, 20.69it/s]"
          ],
          "name": "stderr"
        },
        {
          "output_type": "stream",
          "text": [
            "\n",
            "Train Data: Average loss: 0.0046, Accuracy: 39769/50000 (79.5380%)\n",
            "\n"
          ],
          "name": "stdout"
        },
        {
          "output_type": "stream",
          "text": [
            "\n",
            "  0%|          | 0/391 [00:00<?, ?it/s]"
          ],
          "name": "stderr"
        },
        {
          "output_type": "stream",
          "text": [
            "\n",
            "Test set: Average loss: 0.7147, Accuracy: 7488/10000 (74.8800%)\n",
            "\n",
            "-----------------------------------------------\n",
            "\n",
            "EPOCH NUM 7\n"
          ],
          "name": "stdout"
        },
        {
          "output_type": "stream",
          "text": [
            "loss=0.5193246006965637 batch_id=390: 100%|██████████| 391/391 [00:18<00:00, 20.97it/s]"
          ],
          "name": "stderr"
        },
        {
          "output_type": "stream",
          "text": [
            "\n",
            "Train Data: Average loss: 0.0043, Accuracy: 40580/50000 (81.1600%)\n",
            "\n"
          ],
          "name": "stdout"
        },
        {
          "output_type": "stream",
          "text": [
            "\n",
            "  0%|          | 0/391 [00:00<?, ?it/s]"
          ],
          "name": "stderr"
        },
        {
          "output_type": "stream",
          "text": [
            "\n",
            "Test set: Average loss: 0.6320, Accuracy: 7830/10000 (78.3000%)\n",
            "\n",
            "-----------------------------------------------\n",
            "\n",
            "EPOCH NUM 8\n"
          ],
          "name": "stdout"
        },
        {
          "output_type": "stream",
          "text": [
            "loss=0.518511176109314 batch_id=390: 100%|██████████| 391/391 [00:18<00:00, 20.93it/s]"
          ],
          "name": "stderr"
        },
        {
          "output_type": "stream",
          "text": [
            "\n",
            "Train Data: Average loss: 0.0039, Accuracy: 41225/50000 (82.4500%)\n",
            "\n"
          ],
          "name": "stdout"
        },
        {
          "output_type": "stream",
          "text": [
            "\n",
            "  0%|          | 0/391 [00:00<?, ?it/s]"
          ],
          "name": "stderr"
        },
        {
          "output_type": "stream",
          "text": [
            "\n",
            "Test set: Average loss: 0.5638, Accuracy: 8097/10000 (80.9700%)\n",
            "\n",
            "-----------------------------------------------\n",
            "\n",
            "EPOCH NUM 9\n"
          ],
          "name": "stdout"
        },
        {
          "output_type": "stream",
          "text": [
            "loss=0.4571256637573242 batch_id=390: 100%|██████████| 391/391 [00:18<00:00, 20.79it/s]"
          ],
          "name": "stderr"
        },
        {
          "output_type": "stream",
          "text": [
            "\n",
            "Train Data: Average loss: 0.0037, Accuracy: 41816/50000 (83.6320%)\n",
            "\n"
          ],
          "name": "stdout"
        },
        {
          "output_type": "stream",
          "text": [
            "\n",
            "  0%|          | 0/391 [00:00<?, ?it/s]"
          ],
          "name": "stderr"
        },
        {
          "output_type": "stream",
          "text": [
            "\n",
            "Test set: Average loss: 0.6215, Accuracy: 7913/10000 (79.1300%)\n",
            "\n",
            "-----------------------------------------------\n",
            "\n",
            "EPOCH NUM 10\n"
          ],
          "name": "stdout"
        },
        {
          "output_type": "stream",
          "text": [
            "loss=0.43418431282043457 batch_id=390: 100%|██████████| 391/391 [00:18<00:00, 21.16it/s]"
          ],
          "name": "stderr"
        },
        {
          "output_type": "stream",
          "text": [
            "\n",
            "Train Data: Average loss: 0.0035, Accuracy: 42303/50000 (84.6060%)\n",
            "\n"
          ],
          "name": "stdout"
        },
        {
          "output_type": "stream",
          "text": [
            "\n",
            "  0%|          | 0/391 [00:00<?, ?it/s]"
          ],
          "name": "stderr"
        },
        {
          "output_type": "stream",
          "text": [
            "\n",
            "Test set: Average loss: 0.5579, Accuracy: 8113/10000 (81.1300%)\n",
            "\n",
            "-----------------------------------------------\n",
            "\n",
            "EPOCH NUM 11\n"
          ],
          "name": "stdout"
        },
        {
          "output_type": "stream",
          "text": [
            "loss=0.5650150179862976 batch_id=390: 100%|██████████| 391/391 [00:18<00:00, 21.19it/s]"
          ],
          "name": "stderr"
        },
        {
          "output_type": "stream",
          "text": [
            "\n",
            "Train Data: Average loss: 0.0033, Accuracy: 42639/50000 (85.2780%)\n",
            "\n"
          ],
          "name": "stdout"
        },
        {
          "output_type": "stream",
          "text": [
            "\n",
            "  0%|          | 0/391 [00:00<?, ?it/s]"
          ],
          "name": "stderr"
        },
        {
          "output_type": "stream",
          "text": [
            "\n",
            "Test set: Average loss: 0.5431, Accuracy: 8153/10000 (81.5300%)\n",
            "\n",
            "-----------------------------------------------\n",
            "\n",
            "EPOCH NUM 12\n"
          ],
          "name": "stdout"
        },
        {
          "output_type": "stream",
          "text": [
            "loss=0.5522612929344177 batch_id=390: 100%|██████████| 391/391 [00:18<00:00, 21.69it/s]"
          ],
          "name": "stderr"
        },
        {
          "output_type": "stream",
          "text": [
            "\n",
            "Train Data: Average loss: 0.0031, Accuracy: 43140/50000 (86.2800%)\n",
            "\n"
          ],
          "name": "stdout"
        },
        {
          "output_type": "stream",
          "text": [
            "\n",
            "  0%|          | 0/391 [00:00<?, ?it/s]"
          ],
          "name": "stderr"
        },
        {
          "output_type": "stream",
          "text": [
            "\n",
            "Test set: Average loss: 0.5422, Accuracy: 8157/10000 (81.5700%)\n",
            "\n",
            "-----------------------------------------------\n",
            "\n",
            "EPOCH NUM 13\n"
          ],
          "name": "stdout"
        },
        {
          "output_type": "stream",
          "text": [
            "loss=0.3904031217098236 batch_id=390: 100%|██████████| 391/391 [00:17<00:00, 21.76it/s]"
          ],
          "name": "stderr"
        },
        {
          "output_type": "stream",
          "text": [
            "\n",
            "Train Data: Average loss: 0.0030, Accuracy: 43346/50000 (86.6920%)\n",
            "\n"
          ],
          "name": "stdout"
        },
        {
          "output_type": "stream",
          "text": [
            "\n",
            "  0%|          | 0/391 [00:00<?, ?it/s]"
          ],
          "name": "stderr"
        },
        {
          "output_type": "stream",
          "text": [
            "\n",
            "Test set: Average loss: 0.5753, Accuracy: 8072/10000 (80.7200%)\n",
            "\n",
            "-----------------------------------------------\n",
            "\n",
            "EPOCH NUM 14\n"
          ],
          "name": "stdout"
        },
        {
          "output_type": "stream",
          "text": [
            "loss=0.38466766476631165 batch_id=390: 100%|██████████| 391/391 [00:18<00:00, 21.44it/s]"
          ],
          "name": "stderr"
        },
        {
          "output_type": "stream",
          "text": [
            "\n",
            "Train Data: Average loss: 0.0028, Accuracy: 43819/50000 (87.6380%)\n",
            "\n"
          ],
          "name": "stdout"
        },
        {
          "output_type": "stream",
          "text": [
            "\n",
            "  0%|          | 0/391 [00:00<?, ?it/s]"
          ],
          "name": "stderr"
        },
        {
          "output_type": "stream",
          "text": [
            "\n",
            "Test set: Average loss: 0.5701, Accuracy: 8077/10000 (80.7700%)\n",
            "\n",
            "-----------------------------------------------\n",
            "\n",
            "EPOCH NUM 15\n"
          ],
          "name": "stdout"
        },
        {
          "output_type": "stream",
          "text": [
            "loss=0.230425626039505 batch_id=390: 100%|██████████| 391/391 [00:17<00:00, 22.03it/s]"
          ],
          "name": "stderr"
        },
        {
          "output_type": "stream",
          "text": [
            "\n",
            "Train Data: Average loss: 0.0026, Accuracy: 44199/50000 (88.3980%)\n",
            "\n"
          ],
          "name": "stdout"
        },
        {
          "output_type": "stream",
          "text": [
            "\n",
            "  0%|          | 0/391 [00:00<?, ?it/s]"
          ],
          "name": "stderr"
        },
        {
          "output_type": "stream",
          "text": [
            "\n",
            "Test set: Average loss: 0.5857, Accuracy: 8112/10000 (81.1200%)\n",
            "\n",
            "-----------------------------------------------\n",
            "\n",
            "EPOCH NUM 16\n"
          ],
          "name": "stdout"
        },
        {
          "output_type": "stream",
          "text": [
            "loss=0.32609686255455017 batch_id=390: 100%|██████████| 391/391 [00:18<00:00, 21.45it/s]"
          ],
          "name": "stderr"
        },
        {
          "output_type": "stream",
          "text": [
            "\n",
            "Train Data: Average loss: 0.0025, Accuracy: 44317/50000 (88.6340%)\n",
            "\n"
          ],
          "name": "stdout"
        },
        {
          "output_type": "stream",
          "text": [
            "\n",
            "  0%|          | 0/391 [00:00<?, ?it/s]"
          ],
          "name": "stderr"
        },
        {
          "output_type": "stream",
          "text": [
            "\n",
            "Test set: Average loss: 0.5568, Accuracy: 8203/10000 (82.0300%)\n",
            "\n",
            "-----------------------------------------------\n",
            "\n",
            "EPOCH NUM 17\n"
          ],
          "name": "stdout"
        },
        {
          "output_type": "stream",
          "text": [
            "loss=0.34109875559806824 batch_id=390: 100%|██████████| 391/391 [00:18<00:00, 21.55it/s]"
          ],
          "name": "stderr"
        },
        {
          "output_type": "stream",
          "text": [
            "\n",
            "Train Data: Average loss: 0.0024, Accuracy: 44619/50000 (89.2380%)\n",
            "\n"
          ],
          "name": "stdout"
        },
        {
          "output_type": "stream",
          "text": [
            "\n",
            "  0%|          | 0/391 [00:00<?, ?it/s]"
          ],
          "name": "stderr"
        },
        {
          "output_type": "stream",
          "text": [
            "\n",
            "Test set: Average loss: 0.5393, Accuracy: 8232/10000 (82.3200%)\n",
            "\n",
            "-----------------------------------------------\n",
            "\n",
            "EPOCH NUM 18\n"
          ],
          "name": "stdout"
        },
        {
          "output_type": "stream",
          "text": [
            "loss=0.3830395042896271 batch_id=390: 100%|██████████| 391/391 [00:18<00:00, 21.59it/s]"
          ],
          "name": "stderr"
        },
        {
          "output_type": "stream",
          "text": [
            "\n",
            "Train Data: Average loss: 0.0023, Accuracy: 44928/50000 (89.8560%)\n",
            "\n"
          ],
          "name": "stdout"
        },
        {
          "output_type": "stream",
          "text": [
            "\n",
            "  0%|          | 0/391 [00:00<?, ?it/s]"
          ],
          "name": "stderr"
        },
        {
          "output_type": "stream",
          "text": [
            "\n",
            "Test set: Average loss: 0.5282, Accuracy: 8303/10000 (83.0300%)\n",
            "\n",
            "-----------------------------------------------\n",
            "\n",
            "EPOCH NUM 19\n"
          ],
          "name": "stdout"
        },
        {
          "output_type": "stream",
          "text": [
            "loss=0.1476505696773529 batch_id=390: 100%|██████████| 391/391 [00:17<00:00, 21.92it/s]"
          ],
          "name": "stderr"
        },
        {
          "output_type": "stream",
          "text": [
            "\n",
            "Train Data: Average loss: 0.0022, Accuracy: 45055/50000 (90.1100%)\n",
            "\n"
          ],
          "name": "stdout"
        },
        {
          "output_type": "stream",
          "text": [
            "\n",
            "  0%|          | 0/391 [00:00<?, ?it/s]"
          ],
          "name": "stderr"
        },
        {
          "output_type": "stream",
          "text": [
            "\n",
            "Test set: Average loss: 0.5441, Accuracy: 8287/10000 (82.8700%)\n",
            "\n",
            "-----------------------------------------------\n",
            "\n",
            "EPOCH NUM 20\n"
          ],
          "name": "stdout"
        },
        {
          "output_type": "stream",
          "text": [
            "loss=0.3807380497455597 batch_id=390: 100%|██████████| 391/391 [00:17<00:00, 22.07it/s]"
          ],
          "name": "stderr"
        },
        {
          "output_type": "stream",
          "text": [
            "\n",
            "Train Data: Average loss: 0.0021, Accuracy: 45437/50000 (90.8740%)\n",
            "\n"
          ],
          "name": "stdout"
        },
        {
          "output_type": "stream",
          "text": [
            "\n",
            "  0%|          | 0/391 [00:00<?, ?it/s]"
          ],
          "name": "stderr"
        },
        {
          "output_type": "stream",
          "text": [
            "\n",
            "Test set: Average loss: 0.5574, Accuracy: 8267/10000 (82.6700%)\n",
            "\n",
            "-----------------------------------------------\n",
            "\n",
            "EPOCH NUM 21\n"
          ],
          "name": "stdout"
        },
        {
          "output_type": "stream",
          "text": [
            "loss=0.2405308187007904 batch_id=390: 100%|██████████| 391/391 [00:17<00:00, 21.93it/s]"
          ],
          "name": "stderr"
        },
        {
          "output_type": "stream",
          "text": [
            "\n",
            "Train Data: Average loss: 0.0020, Accuracy: 45517/50000 (91.0340%)\n",
            "\n"
          ],
          "name": "stdout"
        },
        {
          "output_type": "stream",
          "text": [
            "\n",
            "  0%|          | 0/391 [00:00<?, ?it/s]"
          ],
          "name": "stderr"
        },
        {
          "output_type": "stream",
          "text": [
            "\n",
            "Test set: Average loss: 0.5079, Accuracy: 8344/10000 (83.4400%)\n",
            "\n",
            "-----------------------------------------------\n",
            "\n",
            "EPOCH NUM 22\n"
          ],
          "name": "stdout"
        },
        {
          "output_type": "stream",
          "text": [
            "loss=0.3921410143375397 batch_id=390: 100%|██████████| 391/391 [00:17<00:00, 21.87it/s]"
          ],
          "name": "stderr"
        },
        {
          "output_type": "stream",
          "text": [
            "\n",
            "Train Data: Average loss: 0.0019, Accuracy: 45795/50000 (91.5900%)\n",
            "\n"
          ],
          "name": "stdout"
        },
        {
          "output_type": "stream",
          "text": [
            "\n",
            "  0%|          | 0/391 [00:00<?, ?it/s]"
          ],
          "name": "stderr"
        },
        {
          "output_type": "stream",
          "text": [
            "\n",
            "Test set: Average loss: 0.5089, Accuracy: 8370/10000 (83.7000%)\n",
            "\n",
            "-----------------------------------------------\n",
            "\n",
            "EPOCH NUM 23\n"
          ],
          "name": "stdout"
        },
        {
          "output_type": "stream",
          "text": [
            "loss=0.27772438526153564 batch_id=390: 100%|██████████| 391/391 [00:17<00:00, 21.97it/s]"
          ],
          "name": "stderr"
        },
        {
          "output_type": "stream",
          "text": [
            "\n",
            "Train Data: Average loss: 0.0018, Accuracy: 45989/50000 (91.9780%)\n",
            "\n"
          ],
          "name": "stdout"
        },
        {
          "output_type": "stream",
          "text": [
            "\n",
            "  0%|          | 0/391 [00:00<?, ?it/s]"
          ],
          "name": "stderr"
        },
        {
          "output_type": "stream",
          "text": [
            "\n",
            "Test set: Average loss: 0.5346, Accuracy: 8358/10000 (83.5800%)\n",
            "\n",
            "-----------------------------------------------\n",
            "\n",
            "EPOCH NUM 24\n"
          ],
          "name": "stdout"
        },
        {
          "output_type": "stream",
          "text": [
            "loss=0.14790979027748108 batch_id=390: 100%|██████████| 391/391 [00:17<00:00, 22.15it/s]"
          ],
          "name": "stderr"
        },
        {
          "output_type": "stream",
          "text": [
            "\n",
            "Train Data: Average loss: 0.0018, Accuracy: 45990/50000 (91.9800%)\n",
            "\n"
          ],
          "name": "stdout"
        },
        {
          "output_type": "stream",
          "text": [
            "\n",
            "  0%|          | 0/391 [00:00<?, ?it/s]"
          ],
          "name": "stderr"
        },
        {
          "output_type": "stream",
          "text": [
            "\n",
            "Test set: Average loss: 0.5224, Accuracy: 8416/10000 (84.1600%)\n",
            "\n",
            "-----------------------------------------------\n",
            "\n",
            "EPOCH NUM 25\n"
          ],
          "name": "stdout"
        },
        {
          "output_type": "stream",
          "text": [
            "loss=0.2167029082775116 batch_id=390: 100%|██████████| 391/391 [00:17<00:00, 21.81it/s]"
          ],
          "name": "stderr"
        },
        {
          "output_type": "stream",
          "text": [
            "\n",
            "Train Data: Average loss: 0.0017, Accuracy: 46239/50000 (92.4780%)\n",
            "\n"
          ],
          "name": "stdout"
        },
        {
          "output_type": "stream",
          "text": [
            "\n"
          ],
          "name": "stderr"
        },
        {
          "output_type": "stream",
          "text": [
            "\n",
            "Test set: Average loss: 0.5578, Accuracy: 8319/10000 (83.1900%)\n",
            "\n",
            "-----------------------------------------------\n",
            "TOTAL TRAINING TIME:  528.2712850570679\n",
            "LAST 10 EPOCH AVG ACC:  0.8309899999999999\n",
            "LAST 5 EPOCH AVG ACC:  0.83614\n",
            "MAX ACCURACY:  0.8416\n"
          ],
          "name": "stdout"
        }
      ]
    }
  ]
}