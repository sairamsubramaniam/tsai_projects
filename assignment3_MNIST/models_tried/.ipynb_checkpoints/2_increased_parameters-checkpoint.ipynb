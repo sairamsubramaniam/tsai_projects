{
 "cells": [
  {
   "cell_type": "markdown",
   "metadata": {
    "colab_type": "text",
    "id": "05tYNHaYYyG1"
   },
   "source": [
    "# Acheiving 99.4% accuracy in MNIST in a HIGHLY resource constrained system\n",
    "---"
   ]
  },
  {
   "cell_type": "markdown",
   "metadata": {
    "colab_type": "text",
    "id": "cTnW5ksXY-ge"
   },
   "source": [
    "## Constraints:\n",
    "- Parameters should be less than 10,000\n",
    "- Accuracy to be achieved in less than 15 epochs"
   ]
  },
  {
   "cell_type": "markdown",
   "metadata": {
    "colab_type": "text",
    "id": "iM6oS7A2ZWda"
   },
   "source": [
    "## Target\n",
    "- The [previous notebook](https://github.com/sairamsubramaniam/tsai_projects/blob/master/assignment3_MNIST/models_tried/1_data_augmentation_added.ipynb) gave an accuracy of 99.30% to 99.39%\n",
    "- The plan this time is to add a few more parameters and see if the model learns better\n",
    "- Increased params by increasing kernels in the second last layer from 8 to 16\n",
    "\n",
    "## Results\n",
    "**Parameters:** 8,142  \n",
    "**Best Train Accuracy:** 99.21%  \n",
    "**Best Test Accuracy:** 99.36% [99.5 in 18th epoch!]  \n",
    "  \n",
    "## Analysis\n",
    "- Since the model is reaching 99.5% in its 18th epoch, it certainly has capacity to learn. We will just need to find a way to make it learn faster (within 15 epochs  \n",
    "- This could be probably be achieved by tweaking the learning rate schedule, which will ne the strategy in the next [notebook](https://github.com/sairamsubramaniam/tsai_projects/blob/master/assignment3_MNIST/models_tried/3_differing_lr_schedule.ipynb).  \n"
   ]
  },
  {
   "cell_type": "markdown",
   "metadata": {
    "colab_type": "text",
    "id": "Flp8d34C5d9h"
   },
   "source": [
    "## The model consists of:\n",
    "- Contains 8 layers with following number of kernels:\n",
    "  - Conv 8 -> Conv 8 -> Bottlenck -> Conv 16 -> Conv 16 -> Conv 16 -> Conv 0 -> GAP\n",
    "  - Bottleneck layer = Maxpool + 1x1 Conv\n",
    "- Only 3x3 convolution used everywhere (except for the bottleneck & GAP layers\n",
    "- Except the bottleneck & last Conv layer, every convolution is followed by \"RELU\" & \"Batch Normalization\"\n",
    "- No padding has been used anywhere"
   ]
  },
  {
   "cell_type": "markdown",
   "metadata": {
    "colab_type": "text",
    "id": "J3PYRDc2svdm"
   },
   "source": [
    "---"
   ]
  },
  {
   "cell_type": "markdown",
   "metadata": {
    "colab_type": "text",
    "id": "a8mf6k9YsyX2"
   },
   "source": [
    "## SCRIPT SECTION\n",
    "---"
   ]
  },
  {
   "cell_type": "markdown",
   "metadata": {
    "colab_type": "text",
    "id": "i0PuvKBsb0PW"
   },
   "source": [
    "### Setup Google Drive for saving / reloading previous saved values"
   ]
  },
  {
   "cell_type": "code",
   "execution_count": null,
   "metadata": {
    "colab": {
     "base_uri": "https://localhost:8080/",
     "height": 124
    },
    "colab_type": "code",
    "id": "XHIdQNJcLNMl",
    "outputId": "4c01a264-e0d5-4b3e-b06d-1a33697d87f8"
   },
   "outputs": [
    {
     "name": "stdout",
     "output_type": "stream",
     "text": [
      "Go to this URL in a browser: https://accounts.google.com/o/oauth2/auth?client_id=947318989803-6bn6qk8qdgf4n4g3pfee6491hc0brc4i.apps.googleusercontent.com&redirect_uri=urn%3aietf%3awg%3aoauth%3a2.0%3aoob&scope=email%20https%3a%2f%2fwww.googleapis.com%2fauth%2fdocs.test%20https%3a%2f%2fwww.googleapis.com%2fauth%2fdrive%20https%3a%2f%2fwww.googleapis.com%2fauth%2fdrive.photos.readonly%20https%3a%2f%2fwww.googleapis.com%2fauth%2fpeopleapi.readonly&response_type=code\n",
      "\n",
      "Enter your authorization code:\n",
      "··········\n",
      "Mounted at /content/drive\n"
     ]
    }
   ],
   "source": [
    "from google.colab import drive\n",
    "drive.mount(\"/content/drive\")\n",
    "\n",
    "base_folder = 'drive/My Drive/eva_stored_from_colab/eva5/mnist_0994_10k/'\n",
    "acc_recorder_file = \"highest_accuracy_achieved\"\n",
    "model_file_name = \"more_params\""
   ]
  },
  {
   "cell_type": "markdown",
   "metadata": {
    "colab_type": "text",
    "id": "zRpuOdFRb6Ui"
   },
   "source": [
    "### Import required modules"
   ]
  },
  {
   "cell_type": "code",
   "execution_count": null,
   "metadata": {
    "colab": {},
    "colab_type": "code",
    "id": "0m2JWFliFfKT"
   },
   "outputs": [],
   "source": [
    "from __future__ import print_function\n",
    "from operator import itemgetter\n",
    "import time\n",
    "import torch\n",
    "import torch.nn as nn\n",
    "import torch.nn.functional as F\n",
    "import torch.optim as optim\n",
    "import torchvision\n",
    "from torchvision import datasets, transforms\n",
    "\n",
    "import matplotlib.pyplot as plt\n",
    "%matplotlib inline"
   ]
  },
  {
   "cell_type": "markdown",
   "metadata": {
    "colab_type": "text",
    "id": "8ah2VdBfb_uB"
   },
   "source": [
    "### The Network Architecture"
   ]
  },
  {
   "cell_type": "code",
   "execution_count": null,
   "metadata": {
    "colab": {},
    "colab_type": "code",
    "id": "h_Cx9q2QFgM7"
   },
   "outputs": [],
   "source": [
    "class Net(nn.Module):\n",
    "    def __init__(self):\n",
    "        super(Net, self).__init__()\n",
    "        self.conv1 = nn.Conv2d(1, 8, 3)\n",
    "        self.bn1 = nn.BatchNorm2d(8)\n",
    "        self.conv2 = nn.Conv2d(8, 8, 3)\n",
    "        self.bn2 = nn.BatchNorm2d(8)\n",
    "        self.pool1 = nn.MaxPool2d(2, 2)\n",
    "        self.antman = nn.Conv2d(8, 8, 1)\n",
    "        self.conv3 = nn.Conv2d(8, 16, 3)\n",
    "        self.bn3 = nn.BatchNorm2d(16)\n",
    "        self.conv4 = nn.Conv2d(16, 16, 3)\n",
    "        self.bn4 = nn.BatchNorm2d(16)\n",
    "        self.conv5 = nn.Conv2d(16, 16, 3)\n",
    "        self.bn5 = nn.BatchNorm2d(16)\n",
    "        self.conv6 = nn.Conv2d(16, 10, 3)\n",
    "        self.bn6 = nn.BatchNorm2d(10)\n",
    "        self.gap = nn.AvgPool2d(4)\n",
    "\n",
    "    def forward(self, x):\n",
    "        x = self.bn1(F.relu(self.conv1(x)))\n",
    "        x = self.bn2(F.relu(self.conv2(x)))\n",
    "        x = self.antman(self.pool1(x))\n",
    "        x = self.bn3(F.relu(self.conv3(x)))\n",
    "        x = self.bn4(F.relu(self.conv4(x)))\n",
    "        x = self.bn5(F.relu(self.conv5(x)))\n",
    "        x = self.gap(self.bn6(self.conv6(x)))\n",
    "        x = x.view(-1, 10)\n",
    "        return F.log_softmax(x, dim=1)"
   ]
  },
  {
   "cell_type": "markdown",
   "metadata": {
    "colab_type": "text",
    "id": "qRZ5RIlUcC-W"
   },
   "source": [
    "### Calculating total parameters"
   ]
  },
  {
   "cell_type": "code",
   "execution_count": null,
   "metadata": {
    "colab": {
     "base_uri": "https://localhost:8080/",
     "height": 521
    },
    "colab_type": "code",
    "id": "xdydjYTZFyi3",
    "outputId": "6c31aeca-6e28-4455-c670-6714bb0d57e3"
   },
   "outputs": [
    {
     "name": "stdout",
     "output_type": "stream",
     "text": [
      "Requirement already satisfied: torchsummary in /usr/local/lib/python3.6/dist-packages (1.5.1)\n",
      "----------------------------------------------------------------\n",
      "        Layer (type)               Output Shape         Param #\n",
      "================================================================\n",
      "            Conv2d-1            [-1, 8, 26, 26]              80\n",
      "       BatchNorm2d-2            [-1, 8, 26, 26]              16\n",
      "            Conv2d-3            [-1, 8, 24, 24]             584\n",
      "       BatchNorm2d-4            [-1, 8, 24, 24]              16\n",
      "         MaxPool2d-5            [-1, 8, 12, 12]               0\n",
      "            Conv2d-6            [-1, 8, 12, 12]              72\n",
      "            Conv2d-7           [-1, 16, 10, 10]           1,168\n",
      "       BatchNorm2d-8           [-1, 16, 10, 10]              32\n",
      "            Conv2d-9             [-1, 16, 8, 8]           2,320\n",
      "      BatchNorm2d-10             [-1, 16, 8, 8]              32\n",
      "           Conv2d-11             [-1, 16, 6, 6]           2,320\n",
      "      BatchNorm2d-12             [-1, 16, 6, 6]              32\n",
      "           Conv2d-13             [-1, 10, 4, 4]           1,450\n",
      "      BatchNorm2d-14             [-1, 10, 4, 4]              20\n",
      "        AvgPool2d-15             [-1, 10, 1, 1]               0\n",
      "================================================================\n",
      "Total params: 8,142\n",
      "Trainable params: 8,142\n",
      "Non-trainable params: 0\n",
      "----------------------------------------------------------------\n",
      "Input size (MB): 0.00\n",
      "Forward/backward pass size (MB): 0.22\n",
      "Params size (MB): 0.03\n",
      "Estimated Total Size (MB): 0.26\n",
      "----------------------------------------------------------------\n"
     ]
    }
   ],
   "source": [
    "!pip install torchsummary\n",
    "from torchsummary import summary\n",
    "use_cuda = torch.cuda.is_available()\n",
    "device = torch.device(\"cuda\" if use_cuda else \"cpu\")\n",
    "model = Net().to(device)\n",
    "summary(model, input_size=(1, 28, 28))"
   ]
  },
  {
   "cell_type": "markdown",
   "metadata": {
    "colab_type": "text",
    "id": "55bTzCw6cKrx"
   },
   "source": [
    "### Downloading the MNIST dataset"
   ]
  },
  {
   "cell_type": "code",
   "execution_count": null,
   "metadata": {
    "colab": {},
    "colab_type": "code",
    "id": "DqTWLaM5GHgH"
   },
   "outputs": [],
   "source": [
    "torch.manual_seed(1)\n",
    "batch_size = 128\n",
    "\n",
    "train_ds = datasets.MNIST('../data', train=True, download=True,\n",
    "                    transform=transforms.Compose([\n",
    "                        torchvision.transforms.RandomRotation(degrees=7),\n",
    "                        transforms.ToTensor(),\n",
    "                        transforms.Normalize((0.1307,), (0.3081,))\n",
    "                    ]))\n",
    "\n",
    "test_ds = datasets.MNIST('../data', train=False, transform=transforms.Compose([\n",
    "                        transforms.ToTensor(),\n",
    "                        transforms.Normalize((0.1307,), (0.3081,))\n",
    "                    ]))\n",
    "\n",
    "kwargs = {'num_workers': 1, 'pin_memory': True} if use_cuda else {}\n",
    "train_loader = torch.utils.data.DataLoader(\n",
    "    train_ds,\n",
    "    batch_size=batch_size, shuffle=True, **kwargs)\n",
    "test_loader = torch.utils.data.DataLoader(\n",
    "    test_ds,\n",
    "    batch_size=batch_size, shuffle=True, **kwargs)\n"
   ]
  },
  {
   "cell_type": "markdown",
   "metadata": {
    "colab_type": "text",
    "id": "Vhs0Kd9EcOC4"
   },
   "source": [
    "### Defining train & test functions"
   ]
  },
  {
   "cell_type": "code",
   "execution_count": null,
   "metadata": {
    "colab": {},
    "colab_type": "code",
    "id": "8fDefDhaFlwH"
   },
   "outputs": [],
   "source": [
    "from tqdm import tqdm\n",
    "def train(model, device, train_loader, optimizer, epoch):\n",
    "    model.train()\n",
    "    train_loss = 0\n",
    "    correct = 0\n",
    "    pbar = tqdm(train_loader)\n",
    "    for batch_idx, (data, target) in enumerate(pbar):\n",
    "        data, target = data.to(device), target.to(device)\n",
    "        optimizer.zero_grad()\n",
    "        output = model(data)\n",
    "        loss = F.nll_loss(output, target)\n",
    "        train_loss += loss.item()\n",
    "        pred = output.argmax(dim=1, keepdim=True)\n",
    "        correct += pred.eq(target.view_as(pred)).sum().item()\n",
    "\n",
    "        loss.backward()\n",
    "        optimizer.step()\n",
    "        pbar.set_description(desc= f'loss={loss.item()} batch_id={batch_idx}')\n",
    "    \n",
    "    total_imgs = len(train_loader.dataset)\n",
    "    train_loss /= total_imgs\n",
    "    accuracy = 100. * correct / total_imgs\n",
    "\n",
    "    print('\\nTrain Data: Average loss: {:.4f}, Accuracy: {}/{} ({:.4f}%)\\n'.format(\n",
    "        train_loss, correct, total_imgs, accuracy)\n",
    "    )\n",
    "    \n",
    "    return train_loss, accuracy\n",
    "\n",
    "\n",
    "def test(model, device, test_loader):\n",
    "    model.eval()\n",
    "    test_loss = 0\n",
    "    correct = 0\n",
    "    with torch.no_grad():\n",
    "        for data, target in test_loader:\n",
    "            data, target = data.to(device), target.to(device)\n",
    "            output = model(data)\n",
    "            test_loss += F.nll_loss(output, target, reduction='sum').item()  # sum up batch loss\n",
    "            pred = output.argmax(dim=1, keepdim=True)  # get the index of the max log-probability\n",
    "            correct += pred.eq(target.view_as(pred)).sum().item()\n",
    "\n",
    "    test_loss /= len(test_loader.dataset)\n",
    "\n",
    "    print('\\nTest set: Average loss: {:.4f}, Accuracy: {}/{} ({:.4f}%)\\n'.format(\n",
    "        test_loss, correct, len(test_loader.dataset),\n",
    "        100. * correct / len(test_loader.dataset)))\n",
    "    \n",
    "    return test_loss, correct / len(test_loader.dataset)\n",
    "\n",
    "def record_max_acc(max_acc):\n",
    "    f = open(base_folder+acc_recorder_file, \"w\")\n",
    "    f.write(str(max_acc))\n",
    "    f.close()"
   ]
  },
  {
   "cell_type": "markdown",
   "metadata": {
    "colab_type": "text",
    "id": "XapwtFVccSgm"
   },
   "source": [
    "### Training for 20 epochs"
   ]
  },
  {
   "cell_type": "code",
   "execution_count": null,
   "metadata": {
    "colab": {
     "base_uri": "https://localhost:8080/",
     "height": 1000
    },
    "colab_type": "code",
    "id": "MMWbLWO6FuHb",
    "outputId": "b3f975fc-afeb-44cd-d27f-8023b6cfe3e4"
   },
   "outputs": [
    {
     "name": "stderr",
     "output_type": "stream",
     "text": [
      "  0%|          | 0/469 [00:00<?, ?it/s]"
     ]
    },
    {
     "name": "stdout",
     "output_type": "stream",
     "text": [
      "\n",
      "LAST RECORDED MAX ACCURACY:  0.994\n",
      "\n",
      "EPOCH NUM 1\n"
     ]
    },
    {
     "name": "stderr",
     "output_type": "stream",
     "text": [
      "loss=0.11090727895498276 batch_id=468: 100%|██████████| 469/469 [00:14<00:00, 32.57it/s]"
     ]
    },
    {
     "name": "stdout",
     "output_type": "stream",
     "text": [
      "\n",
      "Train Data: Average loss: 0.0026, Accuracy: 56418/60000 (94.0300%)\n",
      "\n"
     ]
    },
    {
     "name": "stderr",
     "output_type": "stream",
     "text": [
      "\n",
      "  0%|          | 0/469 [00:00<?, ?it/s]"
     ]
    },
    {
     "name": "stdout",
     "output_type": "stream",
     "text": [
      "\n",
      "Test set: Average loss: 0.0890, Accuracy: 9817/10000 (98.1700%)\n",
      "\n",
      "-----------------------------------------------\n",
      "\n",
      "EPOCH NUM 2\n"
     ]
    },
    {
     "name": "stderr",
     "output_type": "stream",
     "text": [
      "loss=0.07070796936750412 batch_id=468: 100%|██████████| 469/469 [00:14<00:00, 32.65it/s]"
     ]
    },
    {
     "name": "stdout",
     "output_type": "stream",
     "text": [
      "\n",
      "Train Data: Average loss: 0.0007, Accuracy: 58819/60000 (98.0317%)\n",
      "\n"
     ]
    },
    {
     "name": "stderr",
     "output_type": "stream",
     "text": [
      "\n",
      "  0%|          | 0/469 [00:00<?, ?it/s]"
     ]
    },
    {
     "name": "stdout",
     "output_type": "stream",
     "text": [
      "\n",
      "Test set: Average loss: 0.0576, Accuracy: 9877/10000 (98.7700%)\n",
      "\n",
      "-----------------------------------------------\n",
      "\n",
      "EPOCH NUM 3\n"
     ]
    },
    {
     "name": "stderr",
     "output_type": "stream",
     "text": [
      "loss=0.09907902032136917 batch_id=468: 100%|██████████| 469/469 [00:14<00:00, 32.47it/s]"
     ]
    },
    {
     "name": "stdout",
     "output_type": "stream",
     "text": [
      "\n",
      "Train Data: Average loss: 0.0005, Accuracy: 59061/60000 (98.4350%)\n",
      "\n"
     ]
    },
    {
     "name": "stderr",
     "output_type": "stream",
     "text": [
      "\n",
      "  0%|          | 0/469 [00:00<?, ?it/s]"
     ]
    },
    {
     "name": "stdout",
     "output_type": "stream",
     "text": [
      "\n",
      "Test set: Average loss: 0.0422, Accuracy: 9903/10000 (99.0300%)\n",
      "\n",
      "-----------------------------------------------\n",
      "\n",
      "EPOCH NUM 4\n"
     ]
    },
    {
     "name": "stderr",
     "output_type": "stream",
     "text": [
      "loss=0.056305643171072006 batch_id=468: 100%|██████████| 469/469 [00:14<00:00, 33.16it/s]"
     ]
    },
    {
     "name": "stdout",
     "output_type": "stream",
     "text": [
      "\n",
      "Train Data: Average loss: 0.0005, Accuracy: 59176/60000 (98.6267%)\n",
      "\n"
     ]
    },
    {
     "name": "stderr",
     "output_type": "stream",
     "text": [
      "\n",
      "  0%|          | 0/469 [00:00<?, ?it/s]"
     ]
    },
    {
     "name": "stdout",
     "output_type": "stream",
     "text": [
      "\n",
      "Test set: Average loss: 0.0432, Accuracy: 9887/10000 (98.8700%)\n",
      "\n",
      "-----------------------------------------------\n",
      "\n",
      "EPOCH NUM 5\n"
     ]
    },
    {
     "name": "stderr",
     "output_type": "stream",
     "text": [
      "loss=0.019443729892373085 batch_id=468: 100%|██████████| 469/469 [00:14<00:00, 32.17it/s]"
     ]
    },
    {
     "name": "stdout",
     "output_type": "stream",
     "text": [
      "\n",
      "Train Data: Average loss: 0.0004, Accuracy: 59289/60000 (98.8150%)\n",
      "\n"
     ]
    },
    {
     "name": "stderr",
     "output_type": "stream",
     "text": [
      "\n",
      "  0%|          | 0/469 [00:00<?, ?it/s]"
     ]
    },
    {
     "name": "stdout",
     "output_type": "stream",
     "text": [
      "\n",
      "Test set: Average loss: 0.0354, Accuracy: 9912/10000 (99.1200%)\n",
      "\n",
      "-----------------------------------------------\n",
      "\n",
      "EPOCH NUM 6\n"
     ]
    },
    {
     "name": "stderr",
     "output_type": "stream",
     "text": [
      "loss=0.06525106728076935 batch_id=468: 100%|██████████| 469/469 [00:14<00:00, 31.31it/s]"
     ]
    },
    {
     "name": "stdout",
     "output_type": "stream",
     "text": [
      "\n",
      "Train Data: Average loss: 0.0004, Accuracy: 59307/60000 (98.8450%)\n",
      "\n"
     ]
    },
    {
     "name": "stderr",
     "output_type": "stream",
     "text": [
      "\n",
      "  0%|          | 0/469 [00:00<?, ?it/s]"
     ]
    },
    {
     "name": "stdout",
     "output_type": "stream",
     "text": [
      "\n",
      "Test set: Average loss: 0.0297, Accuracy: 9925/10000 (99.2500%)\n",
      "\n",
      "-----------------------------------------------\n",
      "\n",
      "EPOCH NUM 7\n"
     ]
    },
    {
     "name": "stderr",
     "output_type": "stream",
     "text": [
      "loss=0.05513458326458931 batch_id=468: 100%|██████████| 469/469 [00:14<00:00, 32.71it/s]"
     ]
    },
    {
     "name": "stdout",
     "output_type": "stream",
     "text": [
      "\n",
      "Train Data: Average loss: 0.0003, Accuracy: 59355/60000 (98.9250%)\n",
      "\n"
     ]
    },
    {
     "name": "stderr",
     "output_type": "stream",
     "text": [
      "\n",
      "  0%|          | 0/469 [00:00<?, ?it/s]"
     ]
    },
    {
     "name": "stdout",
     "output_type": "stream",
     "text": [
      "\n",
      "Test set: Average loss: 0.0292, Accuracy: 9927/10000 (99.2700%)\n",
      "\n",
      "-----------------------------------------------\n",
      "\n",
      "EPOCH NUM 8\n"
     ]
    },
    {
     "name": "stderr",
     "output_type": "stream",
     "text": [
      "loss=0.03153103590011597 batch_id=468: 100%|██████████| 469/469 [00:13<00:00, 33.73it/s]"
     ]
    },
    {
     "name": "stdout",
     "output_type": "stream",
     "text": [
      "\n",
      "Train Data: Average loss: 0.0003, Accuracy: 59385/60000 (98.9750%)\n",
      "\n"
     ]
    },
    {
     "name": "stderr",
     "output_type": "stream",
     "text": [
      "\n",
      "  0%|          | 0/469 [00:00<?, ?it/s]"
     ]
    },
    {
     "name": "stdout",
     "output_type": "stream",
     "text": [
      "\n",
      "Test set: Average loss: 0.0305, Accuracy: 9908/10000 (99.0800%)\n",
      "\n",
      "-----------------------------------------------\n",
      "\n",
      "EPOCH NUM 9\n"
     ]
    },
    {
     "name": "stderr",
     "output_type": "stream",
     "text": [
      "loss=0.012233865447342396 batch_id=468: 100%|██████████| 469/469 [00:14<00:00, 32.10it/s]"
     ]
    },
    {
     "name": "stdout",
     "output_type": "stream",
     "text": [
      "\n",
      "Train Data: Average loss: 0.0003, Accuracy: 59450/60000 (99.0833%)\n",
      "\n"
     ]
    },
    {
     "name": "stderr",
     "output_type": "stream",
     "text": [
      "\n",
      "  0%|          | 0/469 [00:00<?, ?it/s]"
     ]
    },
    {
     "name": "stdout",
     "output_type": "stream",
     "text": [
      "\n",
      "Test set: Average loss: 0.0266, Accuracy: 9927/10000 (99.2700%)\n",
      "\n",
      "-----------------------------------------------\n",
      "\n",
      "EPOCH NUM 10\n"
     ]
    },
    {
     "name": "stderr",
     "output_type": "stream",
     "text": [
      "loss=0.022547559812664986 batch_id=468: 100%|██████████| 469/469 [00:14<00:00, 32.24it/s]"
     ]
    },
    {
     "name": "stdout",
     "output_type": "stream",
     "text": [
      "\n",
      "Train Data: Average loss: 0.0003, Accuracy: 59468/60000 (99.1133%)\n",
      "\n"
     ]
    },
    {
     "name": "stderr",
     "output_type": "stream",
     "text": [
      "\n",
      "  0%|          | 0/469 [00:00<?, ?it/s]"
     ]
    },
    {
     "name": "stdout",
     "output_type": "stream",
     "text": [
      "\n",
      "Test set: Average loss: 0.0262, Accuracy: 9925/10000 (99.2500%)\n",
      "\n",
      "-----------------------------------------------\n",
      "\n",
      "EPOCH NUM 11\n"
     ]
    },
    {
     "name": "stderr",
     "output_type": "stream",
     "text": [
      "loss=0.022842897102236748 batch_id=468: 100%|██████████| 469/469 [00:14<00:00, 31.78it/s]"
     ]
    },
    {
     "name": "stdout",
     "output_type": "stream",
     "text": [
      "\n",
      "Train Data: Average loss: 0.0003, Accuracy: 59429/60000 (99.0483%)\n",
      "\n"
     ]
    },
    {
     "name": "stderr",
     "output_type": "stream",
     "text": [
      "\n",
      "  0%|          | 0/469 [00:00<?, ?it/s]"
     ]
    },
    {
     "name": "stdout",
     "output_type": "stream",
     "text": [
      "\n",
      "Test set: Average loss: 0.0234, Accuracy: 9936/10000 (99.3600%)\n",
      "\n",
      "-----------------------------------------------\n",
      "\n",
      "EPOCH NUM 12\n"
     ]
    },
    {
     "name": "stderr",
     "output_type": "stream",
     "text": [
      "loss=0.01925175078213215 batch_id=468: 100%|██████████| 469/469 [00:14<00:00, 32.70it/s]"
     ]
    },
    {
     "name": "stdout",
     "output_type": "stream",
     "text": [
      "\n",
      "Train Data: Average loss: 0.0003, Accuracy: 59452/60000 (99.0867%)\n",
      "\n"
     ]
    },
    {
     "name": "stderr",
     "output_type": "stream",
     "text": [
      "\n",
      "  0%|          | 0/469 [00:00<?, ?it/s]"
     ]
    },
    {
     "name": "stdout",
     "output_type": "stream",
     "text": [
      "\n",
      "Test set: Average loss: 0.0255, Accuracy: 9931/10000 (99.3100%)\n",
      "\n",
      "-----------------------------------------------\n",
      "\n",
      "EPOCH NUM 13\n"
     ]
    },
    {
     "name": "stderr",
     "output_type": "stream",
     "text": [
      "loss=0.05297469720244408 batch_id=468: 100%|██████████| 469/469 [00:14<00:00, 32.00it/s]\n"
     ]
    },
    {
     "name": "stdout",
     "output_type": "stream",
     "text": [
      "\n",
      "Train Data: Average loss: 0.0002, Accuracy: 59528/60000 (99.2133%)\n",
      "\n"
     ]
    },
    {
     "name": "stderr",
     "output_type": "stream",
     "text": [
      "  0%|          | 0/469 [00:00<?, ?it/s]"
     ]
    },
    {
     "name": "stdout",
     "output_type": "stream",
     "text": [
      "\n",
      "Test set: Average loss: 0.0245, Accuracy: 9934/10000 (99.3400%)\n",
      "\n",
      "-----------------------------------------------\n",
      "\n",
      "EPOCH NUM 14\n"
     ]
    },
    {
     "name": "stderr",
     "output_type": "stream",
     "text": [
      "loss=0.015364828519523144 batch_id=468: 100%|██████████| 469/469 [00:14<00:00, 32.40it/s]"
     ]
    },
    {
     "name": "stdout",
     "output_type": "stream",
     "text": [
      "\n",
      "Train Data: Average loss: 0.0002, Accuracy: 59528/60000 (99.2133%)\n",
      "\n"
     ]
    },
    {
     "name": "stderr",
     "output_type": "stream",
     "text": [
      "\n",
      "  0%|          | 0/469 [00:00<?, ?it/s]"
     ]
    },
    {
     "name": "stdout",
     "output_type": "stream",
     "text": [
      "\n",
      "Test set: Average loss: 0.0232, Accuracy: 9936/10000 (99.3600%)\n",
      "\n",
      "-----------------------------------------------\n",
      "\n",
      "EPOCH NUM 15\n"
     ]
    },
    {
     "name": "stderr",
     "output_type": "stream",
     "text": [
      "loss=0.017689473927021027 batch_id=468: 100%|██████████| 469/469 [00:14<00:00, 31.99it/s]"
     ]
    },
    {
     "name": "stdout",
     "output_type": "stream",
     "text": [
      "\n",
      "Train Data: Average loss: 0.0002, Accuracy: 59507/60000 (99.1783%)\n",
      "\n"
     ]
    },
    {
     "name": "stderr",
     "output_type": "stream",
     "text": [
      "\n",
      "  0%|          | 0/469 [00:00<?, ?it/s]"
     ]
    },
    {
     "name": "stdout",
     "output_type": "stream",
     "text": [
      "\n",
      "Test set: Average loss: 0.0219, Accuracy: 9933/10000 (99.3300%)\n",
      "\n",
      "-----------------------------------------------\n",
      "\n",
      "EPOCH NUM 16\n"
     ]
    },
    {
     "name": "stderr",
     "output_type": "stream",
     "text": [
      "loss=0.07322105020284653 batch_id=468: 100%|██████████| 469/469 [00:14<00:00, 32.13it/s]"
     ]
    },
    {
     "name": "stdout",
     "output_type": "stream",
     "text": [
      "\n",
      "Train Data: Average loss: 0.0002, Accuracy: 59538/60000 (99.2300%)\n",
      "\n"
     ]
    },
    {
     "name": "stderr",
     "output_type": "stream",
     "text": [
      "\n",
      "  0%|          | 0/469 [00:00<?, ?it/s]"
     ]
    },
    {
     "name": "stdout",
     "output_type": "stream",
     "text": [
      "\n",
      "Test set: Average loss: 0.0242, Accuracy: 9934/10000 (99.3400%)\n",
      "\n",
      "-----------------------------------------------\n",
      "\n",
      "EPOCH NUM 17\n"
     ]
    },
    {
     "name": "stderr",
     "output_type": "stream",
     "text": [
      "loss=0.06055830419063568 batch_id=468: 100%|██████████| 469/469 [00:14<00:00, 33.16it/s]"
     ]
    },
    {
     "name": "stdout",
     "output_type": "stream",
     "text": [
      "\n",
      "Train Data: Average loss: 0.0002, Accuracy: 59559/60000 (99.2650%)\n",
      "\n"
     ]
    },
    {
     "name": "stderr",
     "output_type": "stream",
     "text": [
      "\n",
      "  0%|          | 0/469 [00:00<?, ?it/s]"
     ]
    },
    {
     "name": "stdout",
     "output_type": "stream",
     "text": [
      "\n",
      "Test set: Average loss: 0.0245, Accuracy: 9931/10000 (99.3100%)\n",
      "\n",
      "-----------------------------------------------\n",
      "\n",
      "EPOCH NUM 18\n"
     ]
    },
    {
     "name": "stderr",
     "output_type": "stream",
     "text": [
      "loss=0.04072270169854164 batch_id=468: 100%|██████████| 469/469 [00:14<00:00, 32.86it/s]"
     ]
    },
    {
     "name": "stdout",
     "output_type": "stream",
     "text": [
      "\n",
      "Train Data: Average loss: 0.0002, Accuracy: 59561/60000 (99.2683%)\n",
      "\n"
     ]
    },
    {
     "name": "stderr",
     "output_type": "stream",
     "text": [
      "\n",
      "  0%|          | 0/469 [00:00<?, ?it/s]"
     ]
    },
    {
     "name": "stdout",
     "output_type": "stream",
     "text": [
      "\n",
      "Test set: Average loss: 0.0204, Accuracy: 9950/10000 (99.5000%)\n",
      "\n",
      "-----------------------------------------------\n",
      "\n",
      "EPOCH NUM 19\n"
     ]
    },
    {
     "name": "stderr",
     "output_type": "stream",
     "text": [
      "loss=0.05402940511703491 batch_id=468: 100%|██████████| 469/469 [00:14<00:00, 31.73it/s]"
     ]
    },
    {
     "name": "stdout",
     "output_type": "stream",
     "text": [
      "\n",
      "Train Data: Average loss: 0.0002, Accuracy: 59585/60000 (99.3083%)\n",
      "\n"
     ]
    },
    {
     "name": "stderr",
     "output_type": "stream",
     "text": [
      "\n",
      "  0%|          | 0/469 [00:00<?, ?it/s]"
     ]
    },
    {
     "name": "stdout",
     "output_type": "stream",
     "text": [
      "\n",
      "Test set: Average loss: 0.0214, Accuracy: 9942/10000 (99.4200%)\n",
      "\n",
      "-----------------------------------------------\n",
      "\n",
      "EPOCH NUM 20\n"
     ]
    },
    {
     "name": "stderr",
     "output_type": "stream",
     "text": [
      "loss=0.02825596183538437 batch_id=468: 100%|██████████| 469/469 [00:14<00:00, 31.64it/s]"
     ]
    },
    {
     "name": "stdout",
     "output_type": "stream",
     "text": [
      "\n",
      "Train Data: Average loss: 0.0002, Accuracy: 59563/60000 (99.2717%)\n",
      "\n"
     ]
    },
    {
     "name": "stderr",
     "output_type": "stream",
     "text": [
      "\n"
     ]
    },
    {
     "name": "stdout",
     "output_type": "stream",
     "text": [
      "\n",
      "Test set: Average loss: 0.0234, Accuracy: 9936/10000 (99.3600%)\n",
      "\n",
      "-----------------------------------------------\n",
      "TOTAL TRAINING TIME:  320.55663323402405\n",
      "LAST 10 EPOCH AVG ACC:  0.9936300000000001\n",
      "LAST 5 EPOCH AVG ACC:  0.99386\n",
      "MAX ACCURACY:  0.995\n"
     ]
    }
   ],
   "source": [
    "model = Net().to(device)\n",
    "optimizer = optim.SGD(model.parameters(), lr=0.01, momentum=0.9)\n",
    "\n",
    "start = time.time()\n",
    "test_acc = []\n",
    "train_acc = []\n",
    "\n",
    "try:\n",
    "    with open(base_folder+acc_recorder_file, \"r\") as infl:\n",
    "        max_acc = float(infl.read().strip())\n",
    "except:\n",
    "    max_acc = 0.0\n",
    "\n",
    "print(\"\\nLAST RECORDED MAX ACCURACY: \", max_acc)\n",
    "for epoch in range(1, 21):\n",
    "    ep_start = time.time()\n",
    "    print()\n",
    "    print(\"EPOCH NUM {}\".format(epoch))\n",
    "    trl, tra = train(model, device, train_loader, optimizer, epoch)\n",
    "    tsl, tsa = test(model, device, test_loader)\n",
    "    test_acc.append(tsa)\n",
    "    train_acc.append(tra)\n",
    "    if tsa > max_acc:\n",
    "        max_acc = tsa\n",
    "        torch.save(model.state_dict(), base_folder+model_file_name+\"_sd.pth\")\n",
    "        record_max_acc(max_acc)\n",
    "    print(\"-----------------------------------------------\")\n",
    "print(\"TOTAL TRAINING TIME: \", time.time() - start)\n",
    "print(\"LAST 10 EPOCH AVG ACC: \", sum(test_acc[-10:]) / len(test_acc[-10:]) )\n",
    "print(\"LAST 5 EPOCH AVG ACC: \", sum(test_acc[-5:]) / len(test_acc[-5:]) )\n",
    "print(\"MAX ACCURACY: \", max(test_acc))"
   ]
  },
  {
   "cell_type": "markdown",
   "metadata": {
    "colab_type": "text",
    "id": "PCkixyNLcXeV"
   },
   "source": [
    "### Chart - Train vs Test accuracy for each epoch"
   ]
  },
  {
   "cell_type": "code",
   "execution_count": null,
   "metadata": {
    "colab": {
     "base_uri": "https://localhost:8080/",
     "height": 265
    },
    "colab_type": "code",
    "id": "E8afQ22StDYo",
    "outputId": "cea01fbf-f803-4f24-a09f-febdc0b3cdfe"
   },
   "outputs": [
    {
     "data": {
      "image/png": "[encoded data removed]",
      "text/plain": [
       "<Figure size 432x288 with 1 Axes>"
      ]
     },
     "metadata": {
      "needs_background": "light",
      "tags": []
     },
     "output_type": "display_data"
    }
   ],
   "source": [
    "from matplotlib import pyplot as plt\n",
    "%matplotlib inline\n",
    "\n",
    "xaxis = list(range(len(test_acc)))\n",
    "new_test_acc = [x*100.0 for x in test_acc]\n",
    "\n",
    "plt.plot(xaxis, new_test_acc, label=\"Test Accuracy\")\n",
    "plt.plot(xaxis, train_acc, label=\"Train Accuracy\")\n",
    "plt.legend()\n",
    "plt.show()"
   ]
  }
 ],
 "metadata": {
  "accelerator": "GPU",
  "colab": {
   "collapsed_sections": [],
   "name": "EVA5 - MNIST 99.4 - Part2 - B2.ipynb",
   "provenance": []
  },
  "kernelspec": {
   "display_name": "Python 3",
   "language": "python",
   "name": "python3"
  },
  "language_info": {
   "codemirror_mode": {
    "name": "ipython",
    "version": 3
   },
   "file_extension": ".py",
   "mimetype": "text/x-python",
   "name": "python",
   "nbconvert_exporter": "python",
   "pygments_lexer": "ipython3",
   "version": "3.8.2"
  }
 },
 "nbformat": 4,
 "nbformat_minor": 4
}
