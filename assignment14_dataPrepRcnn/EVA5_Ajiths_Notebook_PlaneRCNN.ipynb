{
  "nbformat": 4,
  "nbformat_minor": 0,
  "metadata": {
    "accelerator": "GPU",
    "colab": {
      "name": "EVA5 - Ajiths Notebook PlaneRCNN.ipynb",
      "provenance": [],
      "collapsed_sections": [],
      "toc_visible": true
    },
    "kernelspec": {
      "display_name": "Python 3",
      "language": "python",
      "name": "python3"
    },
    "language_info": {
      "codemirror_mode": {
        "name": "ipython",
        "version": 3
      },
      "file_extension": ".py",
      "mimetype": "text/x-python",
      "name": "python",
      "nbconvert_exporter": "python",
      "pygments_lexer": "ipython3",
      "version": "3.8.5"
    }
  },
  "cells": [
    {
      "cell_type": "markdown",
      "metadata": {
        "id": "0n6063gBpKV8"
      },
      "source": [
        "# Colab notebook or tutorial\n",
        "### [How to run PyTorch with GPU and CUDA 8.0 support on Google Colab](https://www.dlology.com/blog/how-to-run-pytorch-with-gpu-and-cuda-92-support-on-google-colab/)"
      ]
    },
    {
      "cell_type": "markdown",
      "metadata": {
        "id": "9bg7Z6b-5jT5"
      },
      "source": [
        "## Clone PlaneRCNN Repo"
      ]
    },
    {
      "cell_type": "code",
      "metadata": {
        "id": "oabQmV215mP5",
        "outputId": "42afffc9-e068-40e2-d7cf-ff63b65cb1f1",
        "colab": {
          "base_uri": "https://localhost:8080/"
        }
      },
      "source": [
        "!git clone https://github.com/NVlabs/planercnn.git"
      ],
      "execution_count": 1,
      "outputs": [
        {
          "output_type": "stream",
          "text": [
            "Cloning into 'planercnn'...\n",
            "remote: Enumerating objects: 150, done.\u001b[K\n",
            "remote: Total 150 (delta 0), reused 0 (delta 0), pack-reused 150\u001b[K\n",
            "Receiving objects: 100% (150/150), 1.33 MiB | 23.40 MiB/s, done.\n",
            "Resolving deltas: 100% (51/51), done.\n"
          ],
          "name": "stdout"
        }
      ]
    },
    {
      "cell_type": "markdown",
      "metadata": {
        "id": "_9OL94AUvpzM"
      },
      "source": [
        "## Download and dpkg Cuda 8.0\n",
        "](https://developer.nvidia.com/cuda-downloads?target_os=Linux&target_arch=x86_64&target_distro=Ubuntu&target_version=1710&target_type=deblocal)"
      ]
    },
    {
      "cell_type": "code",
      "metadata": {
        "id": "_fuF-Bx5sjY7",
        "outputId": "af184667-bd49-4f1d-8e44-da62bc7720ae",
        "colab": {
          "base_uri": "https://localhost:8080/"
        }
      },
      "source": [
        "!wget https://developer.nvidia.com/compute/cuda/8.0/Prod2/local_installers/cuda-repo-ubuntu1604-8-0-local-ga2_8.0.61-1_amd64-deb"
      ],
      "execution_count": 2,
      "outputs": [
        {
          "output_type": "stream",
          "text": [
            "--2020-10-31 06:58:16--  https://developer.nvidia.com/compute/cuda/8.0/Prod2/local_installers/cuda-repo-ubuntu1604-8-0-local-ga2_8.0.61-1_amd64-deb\n",
            "Resolving developer.nvidia.com (developer.nvidia.com)... 152.199.0.24\n",
            "Connecting to developer.nvidia.com (developer.nvidia.com)|152.199.0.24|:443... connected.\n",
            "HTTP request sent, awaiting response... 302 Found\n",
            "Location: https://developer.download.nvidia.com/compute/cuda/8.0/secure/Prod2/local_installers/cuda-repo-ubuntu1604-8-0-local-ga2_8.0.61-1_amd64.deb?KBWEnWhG5bk6_T33lPMAXbqAB_7qg6BGLOBuUEGfKM8uw5zcy8NpTXp8aaZ__b3XeouhsXj5R2rfBUIi5cDo-4cSM3eBzypLj6zf-QA6GR--ltFItSAnWw1E94KIs10M5EhNhPEAo_gEy8SePy6YsLVAYkA2ezoF--AkK1Z1odUTPFPdOuE1PzwHzuQ3pCY4-_TiC3Qd86TfUjv3K13bkj-y0w [following]\n",
            "--2020-10-31 06:58:16--  https://developer.download.nvidia.com/compute/cuda/8.0/secure/Prod2/local_installers/cuda-repo-ubuntu1604-8-0-local-ga2_8.0.61-1_amd64.deb?KBWEnWhG5bk6_T33lPMAXbqAB_7qg6BGLOBuUEGfKM8uw5zcy8NpTXp8aaZ__b3XeouhsXj5R2rfBUIi5cDo-4cSM3eBzypLj6zf-QA6GR--ltFItSAnWw1E94KIs10M5EhNhPEAo_gEy8SePy6YsLVAYkA2ezoF--AkK1Z1odUTPFPdOuE1PzwHzuQ3pCY4-_TiC3Qd86TfUjv3K13bkj-y0w\n",
            "Resolving developer.download.nvidia.com (developer.download.nvidia.com)... 152.195.19.142\n",
            "Connecting to developer.download.nvidia.com (developer.download.nvidia.com)|152.195.19.142|:443... connected.\n",
            "HTTP request sent, awaiting response... 200 OK\n",
            "Length: 1913589814 (1.8G) [application/x-deb]\n",
            "Saving to: ‘cuda-repo-ubuntu1604-8-0-local-ga2_8.0.61-1_amd64-deb’\n",
            "\n",
            "cuda-repo-ubuntu160 100%[===================>]   1.78G  40.6MB/s    in 14s     \n",
            "\n",
            "2020-10-31 06:58:30 (130 MB/s) - ‘cuda-repo-ubuntu1604-8-0-local-ga2_8.0.61-1_amd64-deb’ saved [1913589814/1913589814]\n",
            "\n"
          ],
          "name": "stdout"
        }
      ]
    },
    {
      "cell_type": "code",
      "metadata": {
        "id": "CCwhyhUsunI6",
        "outputId": "b64200a7-9ca6-4f37-c268-27057fd8730e",
        "colab": {
          "base_uri": "https://localhost:8080/"
        }
      },
      "source": [
        "!dpkg -i cuda-repo-ubuntu1604-8-0-local-ga2_8.0.61-1_amd64-deb"
      ],
      "execution_count": 3,
      "outputs": [
        {
          "output_type": "stream",
          "text": [
            "Selecting previously unselected package cuda-repo-ubuntu1604-8-0-local-ga2.\n",
            "(Reading database ... 144628 files and directories currently installed.)\n",
            "Preparing to unpack cuda-repo-ubuntu1604-8-0-local-ga2_8.0.61-1_amd64-deb ...\n",
            "Unpacking cuda-repo-ubuntu1604-8-0-local-ga2 (8.0.61-1) ...\n",
            "Setting up cuda-repo-ubuntu1604-8-0-local-ga2 (8.0.61-1) ...\n",
            "Warning: The postinst maintainerscript of the package cuda-repo-ubuntu1604-8-0-local-ga2\n",
            "Warning: seems to use apt-key (provided by apt) without depending on gnupg or gnupg2.\n",
            "Warning: This will BREAK in the future and should be fixed by the package maintainer(s).\n",
            "Note: Check first if apt-key functionality is needed at all - it probably isn't!\n",
            "Warning: apt-key should not be used in scripts (called from postinst maintainerscript of the package cuda-repo-ubuntu1604-8-0-local-ga2)\n",
            "OK\n"
          ],
          "name": "stdout"
        }
      ]
    },
    {
      "cell_type": "markdown",
      "metadata": {
        "id": "jVFA77nd37rI"
      },
      "source": [
        "### Add Cuda package key for installation"
      ]
    },
    {
      "cell_type": "code",
      "metadata": {
        "id": "Sqr0_kCztKoe",
        "outputId": "53fcbe96-0499-47a6-d882-7947d84f8519",
        "colab": {
          "base_uri": "https://localhost:8080/"
        }
      },
      "source": [
        "  !ls /var/"
      ],
      "execution_count": 4,
      "outputs": [
        {
          "output_type": "stream",
          "text": [
            "backups  colab\t\t\t  lib\t lock  mail  run    tmp\n",
            "cache\t cuda-repo-8-0-local-ga2  local  log   opt   spool\n"
          ],
          "name": "stdout"
        }
      ]
    },
    {
      "cell_type": "code",
      "metadata": {
        "id": "-pMYiP3fu2wV",
        "outputId": "7f3521d8-9d7f-4209-c525-9b909807a3e3",
        "colab": {
          "base_uri": "https://localhost:8080/"
        }
      },
      "source": [
        "!ls /var/cuda-repo-8-0-local-ga2 | grep .pub"
      ],
      "execution_count": 5,
      "outputs": [
        {
          "output_type": "stream",
          "text": [
            "7fa2af80.pub\n"
          ],
          "name": "stdout"
        }
      ]
    },
    {
      "cell_type": "code",
      "metadata": {
        "id": "z8rgbF5SurNK",
        "outputId": "106a2045-0e09-4461-c657-977b89d51ffd",
        "colab": {
          "base_uri": "https://localhost:8080/"
        }
      },
      "source": [
        "!apt-key add /var/cuda-repo-8-0-local-ga2/7fa2af80.pub"
      ],
      "execution_count": 6,
      "outputs": [
        {
          "output_type": "stream",
          "text": [
            "OK\n"
          ],
          "name": "stdout"
        }
      ]
    },
    {
      "cell_type": "code",
      "metadata": {
        "id": "QJyNe2USu-u5",
        "outputId": "b1a5045a-ef79-459c-f0a9-4ae8c04ad790",
        "colab": {
          "base_uri": "https://localhost:8080/"
        }
      },
      "source": [
        "!apt-get update"
      ],
      "execution_count": 7,
      "outputs": [
        {
          "output_type": "stream",
          "text": [
            "\r0% [Working]\r            \rGet:1 file:/var/cuda-repo-8-0-local-ga2  InRelease\n",
            "\r            \rIgn:1 file:/var/cuda-repo-8-0-local-ga2  InRelease\n",
            "\r0% [Connecting to cloud.r-project.org] [Connecting to developer.download.nvidia\r                                                                               \rGet:2 file:/var/cuda-repo-8-0-local-ga2  Release [574 B]\n",
            "\r0% [Connecting to security.ubuntu.com] [Connecting to cloud.r-project.org] [Con\r                                                                               \rGet:2 file:/var/cuda-repo-8-0-local-ga2  Release [574 B]\n",
            "\r0% [2 Release 0 B/574 B 0%] [Connecting to archive.ubuntu.com (91.189.88.142)] \r0% [Connecting to archive.ubuntu.com (91.189.88.142)] [Waiting for headers] [Co\r                                                                               \rGet:3 file:/var/cuda-repo-8-0-local-ga2  Release.gpg [819 B]\n",
            "\r0% [Connecting to archive.ubuntu.com (91.189.88.142)] [Waiting for headers] [Co\r                                                                               \rGet:3 file:/var/cuda-repo-8-0-local-ga2  Release.gpg [819 B]\n",
            "\r0% [3 Release.gpg 0 B/819 B 0%] [Connecting to archive.ubuntu.com (91.189.88.14\r0% [Connecting to archive.ubuntu.com (91.189.88.142)] [Waiting for headers] [Co\r                                                                               \rGet:4 http://security.ubuntu.com/ubuntu bionic-security InRelease [88.7 kB]\n",
            "\r                                                                               \rGet:5 https://cloud.r-project.org/bin/linux/ubuntu bionic-cran40/ InRelease [3,626 B]\n",
            "\r0% [Connecting to archive.ubuntu.com (91.189.88.142)] [4 InRelease 14.2 kB/88.7\r0% [3 Release.gpg gpgv 574 B] [Connecting to archive.ubuntu.com (91.189.88.142)\r0% [3 Release.gpg gpgv 574 B] [Connecting to archive.ubuntu.com (91.189.88.142)\r                                                                               \rIgn:6 https://developer.download.nvidia.com/compute/cuda/repos/ubuntu1804/x86_64  InRelease\n",
            "\r0% [3 Release.gpg gpgv 574 B] [Waiting for headers] [Waiting for headers] [Wait\r                                                                               \rHit:7 http://archive.ubuntu.com/ubuntu bionic InRelease\n",
            "\r                                                                               \rHit:8 http://ppa.launchpad.net/c2d4u.team/c2d4u4.0+/ubuntu bionic InRelease\n",
            "\r0% [3 Release.gpg gpgv 574 B] [Waiting for headers] [Connecting to ppa.launchpa\r                                                                               \rIgn:9 https://developer.download.nvidia.com/compute/machine-learning/repos/ubuntu1804/x86_64  InRelease\n",
            "\r0% [3 Release.gpg gpgv 574 B] [Waiting for headers] [Connecting to ppa.launchpa\r0% [Waiting for headers] [Connecting to ppa.launchpad.net (91.189.95.83)] [Wait\r                                                                               \rGet:10 file:/var/cuda-repo-8-0-local-ga2  Packages [22.7 kB]\n",
            "\r0% [Waiting for headers] [Connecting to ppa.launchpad.net (91.189.95.83)] [10 P\r0% [Waiting for headers] [Connecting to ppa.launchpad.net (91.189.95.83)] [Wait\r                                                                               \rGet:11 https://developer.download.nvidia.com/compute/cuda/repos/ubuntu1804/x86_64  Release [697 B]\n",
            "\r0% [5 InRelease gpgv 3,626 B] [Waiting for headers] [Connecting to ppa.launchpa\r0% [10 Packages store 0 B] [5 InRelease gpgv 3,626 B] [Waiting for headers] [Co\r0% [5 InRelease gpgv 3,626 B] [Waiting for headers] [Connecting to ppa.launchpa\r                                                                               \rHit:12 https://developer.download.nvidia.com/compute/machine-learning/repos/ubuntu1804/x86_64  Release\n",
            "\r0% [5 InRelease gpgv 3,626 B] [Waiting for headers] [Connecting to ppa.launchpa\r                                                                               \rGet:13 https://developer.download.nvidia.com/compute/cuda/repos/ubuntu1804/x86_64  Release.gpg [836 B]\n",
            "Get:14 http://archive.ubuntu.com/ubuntu bionic-updates InRelease [88.7 kB]\n",
            "Hit:15 http://ppa.launchpad.net/graphics-drivers/ppa/ubuntu bionic InRelease\n",
            "Get:16 http://archive.ubuntu.com/ubuntu bionic-backports InRelease [74.6 kB]\n",
            "Get:17 http://security.ubuntu.com/ubuntu bionic-security/universe amd64 Packages [1,353 kB]\n",
            "Get:18 http://security.ubuntu.com/ubuntu bionic-security/main amd64 Packages [1,748 kB]\n",
            "Ign:20 https://developer.download.nvidia.com/compute/cuda/repos/ubuntu1804/x86_64  Packages\n",
            "Get:20 https://developer.download.nvidia.com/compute/cuda/repos/ubuntu1804/x86_64  Packages [405 kB]\n",
            "Get:21 http://archive.ubuntu.com/ubuntu bionic-updates/universe amd64 Packages [2,118 kB]\n",
            "Get:22 http://archive.ubuntu.com/ubuntu bionic-updates/main amd64 Packages [2,165 kB]\n",
            "Fetched 8,046 kB in 2s (3,407 kB/s)\n",
            "Reading package lists... Done\n"
          ],
          "name": "stdout"
        }
      ]
    },
    {
      "cell_type": "markdown",
      "metadata": {
        "id": "IcKF4rdN5H7-"
      },
      "source": [
        "## Install Cuda 8.0"
      ]
    },
    {
      "cell_type": "code",
      "metadata": {
        "id": "Z4_R2QZbvAwx",
        "outputId": "63fb843e-cbcf-4627-b971-15a1d9d4a831",
        "colab": {
          "base_uri": "https://localhost:8080/"
        }
      },
      "source": [
        "!apt-get install cuda-8-0"
      ],
      "execution_count": 8,
      "outputs": [
        {
          "output_type": "stream",
          "text": [
            "Reading package lists... Done\n",
            "Building dependency tree       \n",
            "Reading state information... Done\n",
            "The following additional packages will be installed:\n",
            "  cuda-command-line-tools-8-0 cuda-core-8-0 cuda-cublas-8-0\n",
            "  cuda-cublas-dev-8-0 cuda-cudart-8-0 cuda-cudart-dev-8-0 cuda-cufft-8-0\n",
            "  cuda-cufft-dev-8-0 cuda-curand-8-0 cuda-curand-dev-8-0 cuda-cusolver-8-0\n",
            "  cuda-cusolver-dev-8-0 cuda-cusparse-8-0 cuda-cusparse-dev-8-0\n",
            "  cuda-demo-suite-8-0 cuda-documentation-8-0 cuda-driver-dev-8-0\n",
            "  cuda-license-8-0 cuda-misc-headers-8-0 cuda-npp-8-0 cuda-npp-dev-8-0\n",
            "  cuda-nvgraph-8-0 cuda-nvgraph-dev-8-0 cuda-nvml-dev-8-0 cuda-nvrtc-8-0\n",
            "  cuda-nvrtc-dev-8-0 cuda-runtime-8-0 cuda-samples-8-0 cuda-toolkit-8-0\n",
            "  cuda-visual-tools-8-0\n",
            "The following NEW packages will be installed:\n",
            "  cuda-8-0 cuda-command-line-tools-8-0 cuda-core-8-0 cuda-cublas-8-0\n",
            "  cuda-cublas-dev-8-0 cuda-cudart-8-0 cuda-cudart-dev-8-0 cuda-cufft-8-0\n",
            "  cuda-cufft-dev-8-0 cuda-curand-8-0 cuda-curand-dev-8-0 cuda-cusolver-8-0\n",
            "  cuda-cusolver-dev-8-0 cuda-cusparse-8-0 cuda-cusparse-dev-8-0\n",
            "  cuda-demo-suite-8-0 cuda-documentation-8-0 cuda-driver-dev-8-0\n",
            "  cuda-license-8-0 cuda-misc-headers-8-0 cuda-npp-8-0 cuda-npp-dev-8-0\n",
            "  cuda-nvgraph-8-0 cuda-nvgraph-dev-8-0 cuda-nvml-dev-8-0 cuda-nvrtc-8-0\n",
            "  cuda-nvrtc-dev-8-0 cuda-runtime-8-0 cuda-samples-8-0 cuda-toolkit-8-0\n",
            "  cuda-visual-tools-8-0\n",
            "0 upgraded, 31 newly installed, 0 to remove and 13 not upgraded.\n",
            "Need to get 0 B/1,312 MB of archives.\n",
            "After this operation, 2,079 MB of additional disk space will be used.\n",
            "Get:1 file:/var/cuda-repo-8-0-local-ga2  cuda-license-8-0 8.0.61-1 [27.6 kB]\n",
            "Get:2 file:/var/cuda-repo-8-0-local-ga2  cuda-misc-headers-8-0 8.0.61-1 [1,077 kB]\n",
            "Get:3 file:/var/cuda-repo-8-0-local-ga2  cuda-core-8-0 8.0.61-1 [20.0 MB]\n",
            "Get:4 file:/var/cuda-repo-8-0-local-ga2  cuda-cudart-8-0 8.0.61-1 [135 kB]\n",
            "Get:5 file:/var/cuda-repo-8-0-local-ga2  cuda-driver-dev-8-0 8.0.61-1 [14.1 kB]\n",
            "Get:6 file:/var/cuda-repo-8-0-local-ga2  cuda-cudart-dev-8-0 8.0.61-1 [1,071 kB]\n",
            "Get:7 file:/var/cuda-repo-8-0-local-ga2  cuda-command-line-tools-8-0 8.0.61-1 [26.1 MB]\n",
            "Get:8 file:/var/cuda-repo-8-0-local-ga2  cuda-nvrtc-8-0 8.0.61-1 [9,585 kB]\n",
            "Get:9 file:/var/cuda-repo-8-0-local-ga2  cuda-nvrtc-dev-8-0 8.0.61-1 [10.8 kB]\n",
            "Get:10 file:/var/cuda-repo-8-0-local-ga2  cuda-cusolver-8-0 8.0.61-1 [29.3 MB]\n",
            "Get:11 file:/var/cuda-repo-8-0-local-ga2  cuda-cusolver-dev-8-0 8.0.61-1 [6,816 kB]\n",
            "Get:12 file:/var/cuda-repo-8-0-local-ga2  cuda-cublas-8-0 8.0.61-1 [27.2 MB]\n",
            "Get:13 file:/var/cuda-repo-8-0-local-ga2  cuda-cublas-dev-8-0 8.0.61-1 [57.4 MB]\n",
            "Get:14 file:/var/cuda-repo-8-0-local-ga2  cuda-cufft-8-0 8.0.61-1 [117 MB]\n",
            "Get:15 file:/var/cuda-repo-8-0-local-ga2  cuda-cufft-dev-8-0 8.0.61-1 [94.8 MB]\n",
            "Get:16 file:/var/cuda-repo-8-0-local-ga2  cuda-curand-8-0 8.0.61-1 [43.7 MB]\n",
            "Get:17 file:/var/cuda-repo-8-0-local-ga2  cuda-curand-dev-8-0 8.0.61-1 [67.7 MB]\n",
            "Get:18 file:/var/cuda-repo-8-0-local-ga2  cuda-cusparse-8-0 8.0.61-1 [28.8 MB]\n",
            "Get:19 file:/var/cuda-repo-8-0-local-ga2  cuda-cusparse-dev-8-0 8.0.61-1 [29.6 MB]\n",
            "Get:20 file:/var/cuda-repo-8-0-local-ga2  cuda-npp-8-0 8.0.61-1 [157 MB]\n",
            "Get:21 file:/var/cuda-repo-8-0-local-ga2  cuda-npp-dev-8-0 8.0.61-1 [82.3 MB]\n",
            "Get:22 file:/var/cuda-repo-8-0-local-ga2  cuda-samples-8-0 8.0.61-1 [101 MB]\n",
            "Get:23 file:/var/cuda-repo-8-0-local-ga2  cuda-documentation-8-0 8.0.61-1 [113 MB]\n",
            "Get:24 file:/var/cuda-repo-8-0-local-ga2  cuda-nvml-dev-8-0 8.0.61-1 [48.4 kB]\n",
            "Get:25 file:/var/cuda-repo-8-0-local-ga2  cuda-nvgraph-8-0 8.0.61-1 [2,948 kB]\n",
            "Get:26 file:/var/cuda-repo-8-0-local-ga2  cuda-nvgraph-dev-8-0 8.0.61-1 [3,028 kB]\n",
            "Get:27 file:/var/cuda-repo-8-0-local-ga2  cuda-visual-tools-8-0 8.0.61-1 [286 MB]\n",
            "Get:28 file:/var/cuda-repo-8-0-local-ga2  cuda-toolkit-8-0 8.0.61-1 [2,892 B]\n",
            "Get:29 file:/var/cuda-repo-8-0-local-ga2  cuda-runtime-8-0 8.0.61-1 [2,574 B]\n",
            "Get:30 file:/var/cuda-repo-8-0-local-ga2  cuda-demo-suite-8-0 8.0.61-1 [4,988 kB]\n",
            "Get:31 file:/var/cuda-repo-8-0-local-ga2  cuda-8-0 8.0.61-1 [2,556 B]\n",
            "Extracting templates from packages: 100%\n",
            "Selecting previously unselected package cuda-license-8-0.\n",
            "(Reading database ... 144722 files and directories currently installed.)\n",
            "Preparing to unpack .../00-cuda-license-8-0_8.0.61-1_amd64.deb ...\n",
            "Unpacking cuda-license-8-0 (8.0.61-1) ...\n",
            "Selecting previously unselected package cuda-misc-headers-8-0.\n",
            "Preparing to unpack .../01-cuda-misc-headers-8-0_8.0.61-1_amd64.deb ...\n",
            "Unpacking cuda-misc-headers-8-0 (8.0.61-1) ...\n",
            "Selecting previously unselected package cuda-core-8-0.\n",
            "Preparing to unpack .../02-cuda-core-8-0_8.0.61-1_amd64.deb ...\n",
            "Unpacking cuda-core-8-0 (8.0.61-1) ...\n",
            "Selecting previously unselected package cuda-cudart-8-0.\n",
            "Preparing to unpack .../03-cuda-cudart-8-0_8.0.61-1_amd64.deb ...\n",
            "Unpacking cuda-cudart-8-0 (8.0.61-1) ...\n",
            "Selecting previously unselected package cuda-driver-dev-8-0.\n",
            "Preparing to unpack .../04-cuda-driver-dev-8-0_8.0.61-1_amd64.deb ...\n",
            "Unpacking cuda-driver-dev-8-0 (8.0.61-1) ...\n",
            "Selecting previously unselected package cuda-cudart-dev-8-0.\n",
            "Preparing to unpack .../05-cuda-cudart-dev-8-0_8.0.61-1_amd64.deb ...\n",
            "Unpacking cuda-cudart-dev-8-0 (8.0.61-1) ...\n",
            "Selecting previously unselected package cuda-command-line-tools-8-0.\n",
            "Preparing to unpack .../06-cuda-command-line-tools-8-0_8.0.61-1_amd64.deb ...\n",
            "Unpacking cuda-command-line-tools-8-0 (8.0.61-1) ...\n",
            "Selecting previously unselected package cuda-nvrtc-8-0.\n",
            "Preparing to unpack .../07-cuda-nvrtc-8-0_8.0.61-1_amd64.deb ...\n",
            "Unpacking cuda-nvrtc-8-0 (8.0.61-1) ...\n",
            "Selecting previously unselected package cuda-nvrtc-dev-8-0.\n",
            "Preparing to unpack .../08-cuda-nvrtc-dev-8-0_8.0.61-1_amd64.deb ...\n",
            "Unpacking cuda-nvrtc-dev-8-0 (8.0.61-1) ...\n",
            "Selecting previously unselected package cuda-cusolver-8-0.\n",
            "Preparing to unpack .../09-cuda-cusolver-8-0_8.0.61-1_amd64.deb ...\n",
            "Unpacking cuda-cusolver-8-0 (8.0.61-1) ...\n",
            "Selecting previously unselected package cuda-cusolver-dev-8-0.\n",
            "Preparing to unpack .../10-cuda-cusolver-dev-8-0_8.0.61-1_amd64.deb ...\n",
            "Unpacking cuda-cusolver-dev-8-0 (8.0.61-1) ...\n",
            "Selecting previously unselected package cuda-cublas-8-0.\n",
            "Preparing to unpack .../11-cuda-cublas-8-0_8.0.61-1_amd64.deb ...\n",
            "Unpacking cuda-cublas-8-0 (8.0.61-1) ...\n",
            "Selecting previously unselected package cuda-cublas-dev-8-0.\n",
            "Preparing to unpack .../12-cuda-cublas-dev-8-0_8.0.61-1_amd64.deb ...\n",
            "Unpacking cuda-cublas-dev-8-0 (8.0.61-1) ...\n",
            "Selecting previously unselected package cuda-cufft-8-0.\n",
            "Preparing to unpack .../13-cuda-cufft-8-0_8.0.61-1_amd64.deb ...\n",
            "Unpacking cuda-cufft-8-0 (8.0.61-1) ...\n",
            "Selecting previously unselected package cuda-cufft-dev-8-0.\n",
            "Preparing to unpack .../14-cuda-cufft-dev-8-0_8.0.61-1_amd64.deb ...\n",
            "Unpacking cuda-cufft-dev-8-0 (8.0.61-1) ...\n",
            "Selecting previously unselected package cuda-curand-8-0.\n",
            "Preparing to unpack .../15-cuda-curand-8-0_8.0.61-1_amd64.deb ...\n",
            "Unpacking cuda-curand-8-0 (8.0.61-1) ...\n",
            "Selecting previously unselected package cuda-curand-dev-8-0.\n",
            "Preparing to unpack .../16-cuda-curand-dev-8-0_8.0.61-1_amd64.deb ...\n",
            "Unpacking cuda-curand-dev-8-0 (8.0.61-1) ...\n",
            "Selecting previously unselected package cuda-cusparse-8-0.\n",
            "Preparing to unpack .../17-cuda-cusparse-8-0_8.0.61-1_amd64.deb ...\n",
            "Unpacking cuda-cusparse-8-0 (8.0.61-1) ...\n",
            "Selecting previously unselected package cuda-cusparse-dev-8-0.\n",
            "Preparing to unpack .../18-cuda-cusparse-dev-8-0_8.0.61-1_amd64.deb ...\n",
            "Unpacking cuda-cusparse-dev-8-0 (8.0.61-1) ...\n",
            "Selecting previously unselected package cuda-npp-8-0.\n",
            "Preparing to unpack .../19-cuda-npp-8-0_8.0.61-1_amd64.deb ...\n",
            "Unpacking cuda-npp-8-0 (8.0.61-1) ...\n",
            "Selecting previously unselected package cuda-npp-dev-8-0.\n",
            "Preparing to unpack .../20-cuda-npp-dev-8-0_8.0.61-1_amd64.deb ...\n",
            "Unpacking cuda-npp-dev-8-0 (8.0.61-1) ...\n",
            "Selecting previously unselected package cuda-samples-8-0.\n",
            "Preparing to unpack .../21-cuda-samples-8-0_8.0.61-1_amd64.deb ...\n",
            "Unpacking cuda-samples-8-0 (8.0.61-1) ...\n",
            "Selecting previously unselected package cuda-documentation-8-0.\n",
            "Preparing to unpack .../22-cuda-documentation-8-0_8.0.61-1_amd64.deb ...\n",
            "Unpacking cuda-documentation-8-0 (8.0.61-1) ...\n",
            "Selecting previously unselected package cuda-nvml-dev-8-0.\n",
            "Preparing to unpack .../23-cuda-nvml-dev-8-0_8.0.61-1_amd64.deb ...\n",
            "Unpacking cuda-nvml-dev-8-0 (8.0.61-1) ...\n",
            "Selecting previously unselected package cuda-nvgraph-8-0.\n",
            "Preparing to unpack .../24-cuda-nvgraph-8-0_8.0.61-1_amd64.deb ...\n",
            "Unpacking cuda-nvgraph-8-0 (8.0.61-1) ...\n",
            "Selecting previously unselected package cuda-nvgraph-dev-8-0.\n",
            "Preparing to unpack .../25-cuda-nvgraph-dev-8-0_8.0.61-1_amd64.deb ...\n",
            "Unpacking cuda-nvgraph-dev-8-0 (8.0.61-1) ...\n",
            "Selecting previously unselected package cuda-visual-tools-8-0.\n",
            "Preparing to unpack .../26-cuda-visual-tools-8-0_8.0.61-1_amd64.deb ...\n",
            "Unpacking cuda-visual-tools-8-0 (8.0.61-1) ...\n",
            "Selecting previously unselected package cuda-toolkit-8-0.\n",
            "Preparing to unpack .../27-cuda-toolkit-8-0_8.0.61-1_amd64.deb ...\n",
            "Unpacking cuda-toolkit-8-0 (8.0.61-1) ...\n",
            "Selecting previously unselected package cuda-runtime-8-0.\n",
            "Preparing to unpack .../28-cuda-runtime-8-0_8.0.61-1_amd64.deb ...\n",
            "Unpacking cuda-runtime-8-0 (8.0.61-1) ...\n",
            "Selecting previously unselected package cuda-demo-suite-8-0.\n",
            "Preparing to unpack .../29-cuda-demo-suite-8-0_8.0.61-1_amd64.deb ...\n",
            "Unpacking cuda-demo-suite-8-0 (8.0.61-1) ...\n",
            "Selecting previously unselected package cuda-8-0.\n",
            "Preparing to unpack .../30-cuda-8-0_8.0.61-1_amd64.deb ...\n",
            "Unpacking cuda-8-0 (8.0.61-1) ...\n",
            "Setting up cuda-license-8-0 (8.0.61-1) ...\n",
            "*** LICENSE AGREEMENT ***\n",
            "By using this software you agree to fully comply with the terms and \n",
            "conditions of the EULA (End User License Agreement). The EULA is located\n",
            "at /usr/local/cuda-8.0/doc/EULA.txt. The EULA can also be found at\n",
            "http://docs.nvidia.com/cuda/eula/index.html. If you do not agree to the\n",
            "terms and conditions of the EULA, do not use the software.\n",
            "\n",
            "Setting up cuda-nvgraph-8-0 (8.0.61-1) ...\n",
            "Setting up cuda-cufft-8-0 (8.0.61-1) ...\n",
            "Setting up cuda-npp-8-0 (8.0.61-1) ...\n",
            "Setting up cuda-nvgraph-dev-8-0 (8.0.61-1) ...\n",
            "Setting up cuda-cudart-8-0 (8.0.61-1) ...\n",
            "Setting up cuda-driver-dev-8-0 (8.0.61-1) ...\n",
            "Setting up cuda-cusolver-8-0 (8.0.61-1) ...\n",
            "Setting up cuda-nvml-dev-8-0 (8.0.61-1) ...\n",
            "Setting up cuda-cufft-dev-8-0 (8.0.61-1) ...\n",
            "Setting up cuda-misc-headers-8-0 (8.0.61-1) ...\n",
            "Setting up cuda-cusparse-8-0 (8.0.61-1) ...\n",
            "Setting up cuda-nvrtc-8-0 (8.0.61-1) ...\n",
            "Setting up cuda-nvrtc-dev-8-0 (8.0.61-1) ...\n",
            "Setting up cuda-curand-8-0 (8.0.61-1) ...\n",
            "Setting up cuda-cublas-8-0 (8.0.61-1) ...\n",
            "Setting up cuda-cusolver-dev-8-0 (8.0.61-1) ...\n",
            "Setting up cuda-core-8-0 (8.0.61-1) ...\n",
            "Setting up cuda-curand-dev-8-0 (8.0.61-1) ...\n",
            "Setting up cuda-npp-dev-8-0 (8.0.61-1) ...\n",
            "Setting up cuda-cudart-dev-8-0 (8.0.61-1) ...\n",
            "Setting up cuda-cublas-dev-8-0 (8.0.61-1) ...\n",
            "Setting up cuda-runtime-8-0 (8.0.61-1) ...\n",
            "Setting up cuda-cusparse-dev-8-0 (8.0.61-1) ...\n",
            "Setting up cuda-command-line-tools-8-0 (8.0.61-1) ...\n",
            "Setting up cuda-demo-suite-8-0 (8.0.61-1) ...\n",
            "Setting up cuda-samples-8-0 (8.0.61-1) ...\n",
            "Setting up cuda-visual-tools-8-0 (8.0.61-1) ...\n",
            "Setting up cuda-documentation-8-0 (8.0.61-1) ...\n",
            "Setting up cuda-toolkit-8-0 (8.0.61-1) ...\n",
            "Setting up cuda-8-0 (8.0.61-1) ...\n",
            "Processing triggers for libc-bin (2.27-3ubuntu1.2) ...\n",
            "/sbin/ldconfig.real: /usr/local/lib/python3.6/dist-packages/ideep4py/lib/libmkldnn.so.0 is not a symbolic link\n",
            "\n"
          ],
          "name": "stdout"
        }
      ]
    },
    {
      "cell_type": "code",
      "metadata": {
        "id": "qxAlR-u4tkMb",
        "outputId": "058bb75f-fcbd-47f1-900e-239471547540",
        "colab": {
          "base_uri": "https://localhost:8080/"
        }
      },
      "source": [
        "!nvcc --version"
      ],
      "execution_count": 9,
      "outputs": [
        {
          "output_type": "stream",
          "text": [
            "nvcc: NVIDIA (R) Cuda compiler driver\n",
            "Copyright (c) 2005-2016 NVIDIA Corporation\n",
            "Built on Tue_Jan_10_13:22:03_CST_2017\n",
            "Cuda compilation tools, release 8.0, V8.0.61\n"
          ],
          "name": "stdout"
        }
      ]
    },
    {
      "cell_type": "markdown",
      "metadata": {
        "id": "MyEyVPQcvTyU"
      },
      "source": [
        "## Install Requirements"
      ]
    },
    {
      "cell_type": "code",
      "metadata": {
        "id": "ebr8WDkXvGQD",
        "outputId": "5f22b0c2-fa0a-45f8-ea76-15eed37da779",
        "colab": {
          "base_uri": "https://localhost:8080/",
          "height": 1000
        }
      },
      "source": [
        "%cd planercnn/\n",
        "!pip install -r requirements.txt"
      ],
      "execution_count": 10,
      "outputs": [
        {
          "output_type": "stream",
          "text": [
            "/content/planercnn\n",
            "Collecting cffi==1.11.5\n",
            "\u001b[?25l  Downloading https://files.pythonhosted.org/packages/6d/c0/47db8f624f3e4e2f3f27be03a93379d1ba16a1450a7b1aacfa0366e2c0dd/cffi-1.11.5-cp36-cp36m-manylinux1_x86_64.whl (421kB)\n",
            "\u001b[K     |████████████████████████████████| 430kB 11.9MB/s \n",
            "\u001b[?25hCollecting numpy==1.15.4\n",
            "\u001b[?25l  Downloading https://files.pythonhosted.org/packages/ff/7f/9d804d2348471c67a7d8b5f84f9bc59fd1cefa148986f2b74552f8573555/numpy-1.15.4-cp36-cp36m-manylinux1_x86_64.whl (13.9MB)\n",
            "\u001b[K     |████████████████████████████████| 13.9MB 238kB/s \n",
            "\u001b[?25hCollecting opencv-python==3.4.4.19\n",
            "\u001b[?25l  Downloading https://files.pythonhosted.org/packages/85/16/446110984e7a814a9e12862bd6da8d09501d274867b55223e48ee10cd752/opencv_python-3.4.4.19-cp36-cp36m-manylinux1_x86_64.whl (25.4MB)\n",
            "\u001b[K     |████████████████████████████████| 25.4MB 120kB/s \n",
            "\u001b[?25hCollecting scikit-image==0.14.1\n",
            "\u001b[?25l  Downloading https://files.pythonhosted.org/packages/9c/90/553120309c53bdfca25c9c50769ae40a538a90c24db8c082468aec898d00/scikit_image-0.14.1-cp36-cp36m-manylinux1_x86_64.whl (25.3MB)\n",
            "\u001b[K     |████████████████████████████████| 25.3MB 131kB/s \n",
            "\u001b[?25hCollecting torch==0.4.1\n",
            "\u001b[?25l  Downloading https://files.pythonhosted.org/packages/49/0e/e382bcf1a6ae8225f50b99cc26effa2d4cc6d66975ccf3fa9590efcbedce/torch-0.4.1-cp36-cp36m-manylinux1_x86_64.whl (519.5MB)\n",
            "\u001b[K     |████████████████████████████████| 519.5MB 33kB/s \n",
            "\u001b[?25hCollecting tqdm==4.28.1\n",
            "\u001b[?25l  Downloading https://files.pythonhosted.org/packages/91/55/8cb23a97301b177e9c8e3226dba45bb454411de2cbd25746763267f226c2/tqdm-4.28.1-py2.py3-none-any.whl (45kB)\n",
            "\u001b[K     |████████████████████████████████| 51kB 8.0MB/s \n",
            "\u001b[?25hRequirement already satisfied: pycparser in /usr/local/lib/python3.6/dist-packages (from cffi==1.11.5->-r requirements.txt (line 1)) (2.20)\n",
            "Requirement already satisfied: pillow>=4.3.0 in /usr/local/lib/python3.6/dist-packages (from scikit-image==0.14.1->-r requirements.txt (line 4)) (7.0.0)\n",
            "Requirement already satisfied: dask[array]>=0.9.0 in /usr/local/lib/python3.6/dist-packages (from scikit-image==0.14.1->-r requirements.txt (line 4)) (2.12.0)\n",
            "Requirement already satisfied: six>=1.10.0 in /usr/local/lib/python3.6/dist-packages (from scikit-image==0.14.1->-r requirements.txt (line 4)) (1.15.0)\n",
            "Requirement already satisfied: PyWavelets>=0.4.0 in /usr/local/lib/python3.6/dist-packages (from scikit-image==0.14.1->-r requirements.txt (line 4)) (1.1.1)\n",
            "Requirement already satisfied: cloudpickle>=0.2.1 in /usr/local/lib/python3.6/dist-packages (from scikit-image==0.14.1->-r requirements.txt (line 4)) (1.3.0)\n",
            "Requirement already satisfied: networkx>=1.8 in /usr/local/lib/python3.6/dist-packages (from scikit-image==0.14.1->-r requirements.txt (line 4)) (2.5)\n",
            "Requirement already satisfied: matplotlib>=2.0.0 in /usr/local/lib/python3.6/dist-packages (from scikit-image==0.14.1->-r requirements.txt (line 4)) (3.2.2)\n",
            "Requirement already satisfied: scipy>=0.17.0 in /usr/local/lib/python3.6/dist-packages (from scikit-image==0.14.1->-r requirements.txt (line 4)) (1.4.1)\n",
            "Requirement already satisfied: toolz>=0.7.3; extra == \"array\" in /usr/local/lib/python3.6/dist-packages (from dask[array]>=0.9.0->scikit-image==0.14.1->-r requirements.txt (line 4)) (0.11.1)\n",
            "Requirement already satisfied: decorator>=4.3.0 in /usr/local/lib/python3.6/dist-packages (from networkx>=1.8->scikit-image==0.14.1->-r requirements.txt (line 4)) (4.4.2)\n",
            "Requirement already satisfied: python-dateutil>=2.1 in /usr/local/lib/python3.6/dist-packages (from matplotlib>=2.0.0->scikit-image==0.14.1->-r requirements.txt (line 4)) (2.8.1)\n",
            "Requirement already satisfied: cycler>=0.10 in /usr/local/lib/python3.6/dist-packages (from matplotlib>=2.0.0->scikit-image==0.14.1->-r requirements.txt (line 4)) (0.10.0)\n",
            "Requirement already satisfied: kiwisolver>=1.0.1 in /usr/local/lib/python3.6/dist-packages (from matplotlib>=2.0.0->scikit-image==0.14.1->-r requirements.txt (line 4)) (1.2.0)\n",
            "Requirement already satisfied: pyparsing!=2.0.4,!=2.1.2,!=2.1.6,>=2.0.1 in /usr/local/lib/python3.6/dist-packages (from matplotlib>=2.0.0->scikit-image==0.14.1->-r requirements.txt (line 4)) (2.4.7)\n",
            "\u001b[31mERROR: umap-learn 0.4.6 has requirement numpy>=1.17, but you'll have numpy 1.15.4 which is incompatible.\u001b[0m\n",
            "\u001b[31mERROR: torchvision 0.7.0+cu101 has requirement torch==1.6.0, but you'll have torch 0.4.1 which is incompatible.\u001b[0m\n",
            "\u001b[31mERROR: tensorflow 2.3.0 has requirement numpy<1.19.0,>=1.16.0, but you'll have numpy 1.15.4 which is incompatible.\u001b[0m\n",
            "\u001b[31mERROR: spacy 2.2.4 has requirement tqdm<5.0.0,>=4.38.0, but you'll have tqdm 4.28.1 which is incompatible.\u001b[0m\n",
            "\u001b[31mERROR: rpy2 3.2.7 has requirement cffi>=1.13.1, but you'll have cffi 1.11.5 which is incompatible.\u001b[0m\n",
            "\u001b[31mERROR: plotnine 0.6.0 has requirement numpy>=1.16.0, but you'll have numpy 1.15.4 which is incompatible.\u001b[0m\n",
            "\u001b[31mERROR: fbprophet 0.7.1 has requirement tqdm>=4.36.1, but you'll have tqdm 4.28.1 which is incompatible.\u001b[0m\n",
            "\u001b[31mERROR: fastai 1.0.61 has requirement torch>=1.0.0, but you'll have torch 0.4.1 which is incompatible.\u001b[0m\n",
            "\u001b[31mERROR: datascience 0.10.6 has requirement folium==0.2.1, but you'll have folium 0.8.3 which is incompatible.\u001b[0m\n",
            "\u001b[31mERROR: astropy 4.1 has requirement numpy>=1.16, but you'll have numpy 1.15.4 which is incompatible.\u001b[0m\n",
            "\u001b[31mERROR: albumentations 0.1.12 has requirement imgaug<0.2.7,>=0.2.5, but you'll have imgaug 0.2.9 which is incompatible.\u001b[0m\n",
            "Installing collected packages: cffi, numpy, opencv-python, scikit-image, torch, tqdm\n",
            "  Found existing installation: cffi 1.14.3\n",
            "    Uninstalling cffi-1.14.3:\n",
            "      Successfully uninstalled cffi-1.14.3\n",
            "  Found existing installation: numpy 1.18.5\n",
            "    Uninstalling numpy-1.18.5:\n",
            "      Successfully uninstalled numpy-1.18.5\n",
            "  Found existing installation: opencv-python 4.1.2.30\n",
            "    Uninstalling opencv-python-4.1.2.30:\n",
            "      Successfully uninstalled opencv-python-4.1.2.30\n",
            "  Found existing installation: scikit-image 0.16.2\n",
            "    Uninstalling scikit-image-0.16.2:\n",
            "      Successfully uninstalled scikit-image-0.16.2\n",
            "  Found existing installation: torch 1.6.0+cu101\n",
            "    Uninstalling torch-1.6.0+cu101:\n",
            "      Successfully uninstalled torch-1.6.0+cu101\n",
            "  Found existing installation: tqdm 4.41.1\n",
            "    Uninstalling tqdm-4.41.1:\n",
            "      Successfully uninstalled tqdm-4.41.1\n",
            "Successfully installed cffi-1.11.5 numpy-1.15.4 opencv-python-3.4.4.19 scikit-image-0.14.1 torch-0.4.1 tqdm-4.28.1\n"
          ],
          "name": "stdout"
        },
        {
          "output_type": "display_data",
          "data": {
            "application/vnd.colab-display-data+json": {
              "pip_warning": {
                "packages": [
                  "cffi",
                  "numpy"
                ]
              }
            }
          },
          "metadata": {
            "tags": []
          }
        }
      ]
    },
    {
      "cell_type": "markdown",
      "metadata": {
        "id": "xmPYBH7p6YJf"
      },
      "source": [
        "## Create the CUDA_PATH env variable"
      ]
    },
    {
      "cell_type": "code",
      "metadata": {
        "id": "Z6zRomC7Cq_N"
      },
      "source": [
        "!export CUDA_PATH=/usr/local/cuda-8.0/"
      ],
      "execution_count": 1,
      "outputs": []
    },
    {
      "cell_type": "markdown",
      "metadata": {
        "id": "EzDMDCjy6G0F"
      },
      "source": [
        "## Install GCC 5"
      ]
    },
    {
      "cell_type": "code",
      "metadata": {
        "id": "GHizYH1IDqPE",
        "outputId": "708f85a6-44ff-4ca9-dfaf-b195fbb2b650",
        "colab": {
          "base_uri": "https://localhost:8080/"
        }
      },
      "source": [
        "!sudo apt-get update && \\\n",
        "sudo apt-get install build-essential software-properties-common -y && \\\n",
        "sudo add-apt-repository ppa:ubuntu-toolchain-r/test -y && \\\n",
        "sudo apt-get update && \\\n",
        "sudo apt-get install gcc-5 g++-5 -y && \\\n",
        "sudo update-alternatives --install /usr/bin/gcc gcc /usr/bin/gcc-5 50 --slave /usr/bin/g++ g++ /usr/bin/g++-5 && \\\n",
        "gcc -v"
      ],
      "execution_count": 2,
      "outputs": [
        {
          "output_type": "stream",
          "text": [
            "\r0% [Working]\r            \rGet:1 file:/var/cuda-repo-8-0-local-ga2  InRelease\n",
            "\r            \rIgn:1 file:/var/cuda-repo-8-0-local-ga2  InRelease\n",
            "\r0% [Connecting to ppa.launchpad.net] [Connecting to developer.download.nvidia.c\r                                                                               \rGet:2 file:/var/cuda-repo-8-0-local-ga2  Release [574 B]\n",
            "\r0% [Connecting to security.ubuntu.com] [Connecting to cloud.r-project.org] [Con\r                                                                               \rGet:2 file:/var/cuda-repo-8-0-local-ga2  Release [574 B]\n",
            "\r0% [2 Release 0 B/574 B 0%] [Connecting to archive.ubuntu.com] [Connecting to s\r0% [Connecting to archive.ubuntu.com] [Connecting to security.ubuntu.com (91.18\r0% [Release.gpg gpgv 574 B] [Connecting to archive.ubuntu.com (91.189.88.152)] \r                                                                               \rHit:3 https://cloud.r-project.org/bin/linux/ubuntu bionic-cran40/ InRelease\n",
            "\r0% [Release.gpg gpgv 574 B] [Connecting to archive.ubuntu.com (91.189.88.152)] \r                                                                               \rIgn:4 https://developer.download.nvidia.com/compute/cuda/repos/ubuntu1804/x86_64  InRelease\n",
            "\r0% [Release.gpg gpgv 574 B] [Waiting for headers] [Waiting for headers] [Waitin\r                                                                               \rGet:5 http://security.ubuntu.com/ubuntu bionic-security InRelease [88.7 kB]\n",
            "\r0% [Release.gpg gpgv 574 B] [Waiting for headers] [5 InRelease 14.2 kB/88.7 kB \r                                                                               \rHit:6 http://ppa.launchpad.net/c2d4u.team/c2d4u4.0+/ubuntu bionic InRelease\n",
            "Hit:7 http://archive.ubuntu.com/ubuntu bionic InRelease\n",
            "Ign:9 https://developer.download.nvidia.com/compute/machine-learning/repos/ubuntu1804/x86_64  InRelease\n",
            "Hit:10 https://developer.download.nvidia.com/compute/cuda/repos/ubuntu1804/x86_64  Release\n",
            "Hit:11 https://developer.download.nvidia.com/compute/machine-learning/repos/ubuntu1804/x86_64  Release\n",
            "Get:12 http://archive.ubuntu.com/ubuntu bionic-updates InRelease [88.7 kB]\n",
            "Hit:13 http://ppa.launchpad.net/graphics-drivers/ppa/ubuntu bionic InRelease\n",
            "Get:15 http://archive.ubuntu.com/ubuntu bionic-backports InRelease [74.6 kB]\n",
            "Fetched 252 kB in 1s (297 kB/s)\n",
            "Reading package lists... Done\n",
            "Reading package lists... Done\n",
            "Building dependency tree       \n",
            "Reading state information... Done\n",
            "build-essential is already the newest version (12.4ubuntu1).\n",
            "software-properties-common is already the newest version (0.96.24.32.14).\n",
            "0 upgraded, 0 newly installed, 0 to remove and 13 not upgraded.\n",
            "Get:1 file:/var/cuda-repo-8-0-local-ga2  InRelease\n",
            "Ign:1 file:/var/cuda-repo-8-0-local-ga2  InRelease\n",
            "Get:2 file:/var/cuda-repo-8-0-local-ga2  Release [574 B]\n",
            "Get:2 file:/var/cuda-repo-8-0-local-ga2  Release [574 B]\n",
            "Hit:3 https://cloud.r-project.org/bin/linux/ubuntu bionic-cran40/ InRelease\n",
            "Ign:5 https://developer.download.nvidia.com/compute/cuda/repos/ubuntu1804/x86_64  InRelease\n",
            "Hit:6 http://ppa.launchpad.net/c2d4u.team/c2d4u4.0+/ubuntu bionic InRelease\n",
            "Hit:7 http://security.ubuntu.com/ubuntu bionic-security InRelease\n",
            "Hit:8 http://archive.ubuntu.com/ubuntu bionic InRelease\n",
            "Ign:9 https://developer.download.nvidia.com/compute/machine-learning/repos/ubuntu1804/x86_64  InRelease\n",
            "Hit:10 https://developer.download.nvidia.com/compute/cuda/repos/ubuntu1804/x86_64  Release\n",
            "Hit:11 https://developer.download.nvidia.com/compute/machine-learning/repos/ubuntu1804/x86_64  Release\n",
            "Hit:12 http://archive.ubuntu.com/ubuntu bionic-updates InRelease\n",
            "Hit:13 http://ppa.launchpad.net/graphics-drivers/ppa/ubuntu bionic InRelease\n",
            "Get:14 http://archive.ubuntu.com/ubuntu bionic-backports InRelease [74.6 kB]\n",
            "Get:15 http://ppa.launchpad.net/ubuntu-toolchain-r/test/ubuntu bionic InRelease [15.4 kB]\n",
            "Get:18 http://ppa.launchpad.net/ubuntu-toolchain-r/test/ubuntu bionic/main amd64 Packages [39.9 kB]\n",
            "Fetched 130 kB in 1s (119 kB/s)\n",
            "Reading package lists... Done\n",
            "Get:1 file:/var/cuda-repo-8-0-local-ga2  InRelease\n",
            "Ign:1 file:/var/cuda-repo-8-0-local-ga2  InRelease\n",
            "Get:2 file:/var/cuda-repo-8-0-local-ga2  Release [574 B]\n",
            "Get:2 file:/var/cuda-repo-8-0-local-ga2  Release [574 B]\n",
            "Hit:3 https://cloud.r-project.org/bin/linux/ubuntu bionic-cran40/ InRelease\n",
            "Ign:5 https://developer.download.nvidia.com/compute/cuda/repos/ubuntu1804/x86_64  InRelease\n",
            "Hit:6 http://ppa.launchpad.net/c2d4u.team/c2d4u4.0+/ubuntu bionic InRelease\n",
            "Hit:7 http://archive.ubuntu.com/ubuntu bionic InRelease\n",
            "Hit:8 http://security.ubuntu.com/ubuntu bionic-security InRelease\n",
            "Ign:9 https://developer.download.nvidia.com/compute/machine-learning/repos/ubuntu1804/x86_64  InRelease\n",
            "Hit:10 https://developer.download.nvidia.com/compute/cuda/repos/ubuntu1804/x86_64  Release\n",
            "Hit:11 https://developer.download.nvidia.com/compute/machine-learning/repos/ubuntu1804/x86_64  Release\n",
            "Hit:12 http://archive.ubuntu.com/ubuntu bionic-updates InRelease\n",
            "Hit:13 http://ppa.launchpad.net/graphics-drivers/ppa/ubuntu bionic InRelease\n",
            "Get:14 http://archive.ubuntu.com/ubuntu bionic-backports InRelease [74.6 kB]\n",
            "Hit:15 http://ppa.launchpad.net/ubuntu-toolchain-r/test/ubuntu bionic InRelease\n",
            "Fetched 74.6 kB in 1s (86.6 kB/s)\n",
            "Reading package lists... Done\n",
            "Reading package lists... Done\n",
            "Building dependency tree       \n",
            "Reading state information... Done\n",
            "The following additional packages will be installed:\n",
            "  cpp-5 gcc-5-base libasan2 libgcc-5-dev libisl15 libmpx0 libstdc++-5-dev\n",
            "Suggested packages:\n",
            "  gcc-5-locales g++-5-multilib gcc-5-doc libstdc++6-5-dbg gcc-5-multilib\n",
            "  libgcc1-dbg libgomp1-dbg libitm1-dbg libatomic1-dbg libasan2-dbg\n",
            "  liblsan0-dbg libtsan0-dbg libubsan0-dbg libcilkrts5-dbg libmpx0-dbg\n",
            "  libquadmath0-dbg libstdc++-5-doc\n",
            "The following NEW packages will be installed:\n",
            "  cpp-5 g++-5 gcc-5 gcc-5-base libasan2 libgcc-5-dev libisl15 libmpx0\n",
            "  libstdc++-5-dev\n",
            "0 upgraded, 9 newly installed, 0 to remove and 25 not upgraded.\n",
            "Need to get 29.1 MB of archives.\n",
            "After this operation, 100 MB of additional disk space will be used.\n",
            "Get:1 http://archive.ubuntu.com/ubuntu bionic/universe amd64 gcc-5-base amd64 5.5.0-12ubuntu1 [17.1 kB]\n",
            "Get:2 http://archive.ubuntu.com/ubuntu bionic/universe amd64 libisl15 amd64 0.18-4 [548 kB]\n",
            "Get:3 http://archive.ubuntu.com/ubuntu bionic/universe amd64 cpp-5 amd64 5.5.0-12ubuntu1 [7,785 kB]\n",
            "Get:4 http://archive.ubuntu.com/ubuntu bionic/universe amd64 libasan2 amd64 5.5.0-12ubuntu1 [264 kB]\n",
            "Get:5 http://archive.ubuntu.com/ubuntu bionic/universe amd64 libmpx0 amd64 5.5.0-12ubuntu1 [9,888 B]\n",
            "Get:6 http://archive.ubuntu.com/ubuntu bionic/universe amd64 libgcc-5-dev amd64 5.5.0-12ubuntu1 [2,224 kB]\n",
            "Get:7 http://archive.ubuntu.com/ubuntu bionic/universe amd64 gcc-5 amd64 5.5.0-12ubuntu1 [8,357 kB]\n",
            "Get:8 http://archive.ubuntu.com/ubuntu bionic/universe amd64 libstdc++-5-dev amd64 5.5.0-12ubuntu1 [1,415 kB]\n",
            "Get:9 http://archive.ubuntu.com/ubuntu bionic/universe amd64 g++-5 amd64 5.5.0-12ubuntu1 [8,450 kB]\n",
            "Fetched 29.1 MB in 2s (19.1 MB/s)\n",
            "debconf: unable to initialize frontend: Dialog\n",
            "debconf: (No usable dialog-like program is installed, so the dialog based frontend cannot be used. at /usr/share/perl5/Debconf/FrontEnd/Dialog.pm line 76, <> line 9.)\n",
            "debconf: falling back to frontend: Readline\n",
            "debconf: unable to initialize frontend: Readline\n",
            "debconf: (This frontend requires a controlling tty.)\n",
            "debconf: falling back to frontend: Teletype\n",
            "dpkg-preconfigure: unable to re-open stdin: \n",
            "Selecting previously unselected package gcc-5-base:amd64.\n",
            "(Reading database ... 153720 files and directories currently installed.)\n",
            "Preparing to unpack .../0-gcc-5-base_5.5.0-12ubuntu1_amd64.deb ...\n",
            "Unpacking gcc-5-base:amd64 (5.5.0-12ubuntu1) ...\n",
            "Selecting previously unselected package libisl15:amd64.\n",
            "Preparing to unpack .../1-libisl15_0.18-4_amd64.deb ...\n",
            "Unpacking libisl15:amd64 (0.18-4) ...\n",
            "Selecting previously unselected package cpp-5.\n",
            "Preparing to unpack .../2-cpp-5_5.5.0-12ubuntu1_amd64.deb ...\n",
            "Unpacking cpp-5 (5.5.0-12ubuntu1) ...\n",
            "Selecting previously unselected package libasan2:amd64.\n",
            "Preparing to unpack .../3-libasan2_5.5.0-12ubuntu1_amd64.deb ...\n",
            "Unpacking libasan2:amd64 (5.5.0-12ubuntu1) ...\n",
            "Selecting previously unselected package libmpx0:amd64.\n",
            "Preparing to unpack .../4-libmpx0_5.5.0-12ubuntu1_amd64.deb ...\n",
            "Unpacking libmpx0:amd64 (5.5.0-12ubuntu1) ...\n",
            "Selecting previously unselected package libgcc-5-dev:amd64.\n",
            "Preparing to unpack .../5-libgcc-5-dev_5.5.0-12ubuntu1_amd64.deb ...\n",
            "Unpacking libgcc-5-dev:amd64 (5.5.0-12ubuntu1) ...\n",
            "Selecting previously unselected package gcc-5.\n",
            "Preparing to unpack .../6-gcc-5_5.5.0-12ubuntu1_amd64.deb ...\n",
            "Unpacking gcc-5 (5.5.0-12ubuntu1) ...\n",
            "Selecting previously unselected package libstdc++-5-dev:amd64.\n",
            "Preparing to unpack .../7-libstdc++-5-dev_5.5.0-12ubuntu1_amd64.deb ...\n",
            "Unpacking libstdc++-5-dev:amd64 (5.5.0-12ubuntu1) ...\n",
            "Selecting previously unselected package g++-5.\n",
            "Preparing to unpack .../8-g++-5_5.5.0-12ubuntu1_amd64.deb ...\n",
            "Unpacking g++-5 (5.5.0-12ubuntu1) ...\n",
            "Setting up libisl15:amd64 (0.18-4) ...\n",
            "Setting up gcc-5-base:amd64 (5.5.0-12ubuntu1) ...\n",
            "Setting up libmpx0:amd64 (5.5.0-12ubuntu1) ...\n",
            "Setting up libasan2:amd64 (5.5.0-12ubuntu1) ...\n",
            "Setting up libgcc-5-dev:amd64 (5.5.0-12ubuntu1) ...\n",
            "Setting up cpp-5 (5.5.0-12ubuntu1) ...\n",
            "Setting up libstdc++-5-dev:amd64 (5.5.0-12ubuntu1) ...\n",
            "Setting up gcc-5 (5.5.0-12ubuntu1) ...\n",
            "Setting up g++-5 (5.5.0-12ubuntu1) ...\n",
            "Processing triggers for man-db (2.8.3-2ubuntu0.1) ...\n",
            "Processing triggers for libc-bin (2.27-3ubuntu1.2) ...\n",
            "/sbin/ldconfig.real: /usr/local/lib/python3.6/dist-packages/ideep4py/lib/libmkldnn.so.0 is not a symbolic link\n",
            "\n",
            "update-alternatives: using /usr/bin/gcc-5 to provide /usr/bin/gcc (gcc) in auto mode\n",
            "Using built-in specs.\n",
            "COLLECT_GCC=gcc\n",
            "COLLECT_LTO_WRAPPER=/usr/lib/gcc/x86_64-linux-gnu/5/lto-wrapper\n",
            "Target: x86_64-linux-gnu\n",
            "Configured with: ../src/configure -v --with-pkgversion='Ubuntu 5.5.0-12ubuntu1' --with-bugurl=file:///usr/share/doc/gcc-5/README.Bugs --enable-languages=c,ada,c++,go,d,fortran,objc,obj-c++ --prefix=/usr --program-suffix=-5 --enable-shared --enable-linker-build-id --libexecdir=/usr/lib --without-included-gettext --enable-threads=posix --libdir=/usr/lib --enable-nls --with-sysroot=/ --enable-clocale=gnu --enable-libstdcxx-debug --enable-libstdcxx-time=yes --with-default-libstdcxx-abi=new --enable-gnu-unique-object --disable-vtable-verify --enable-libmpx --enable-plugin --enable-default-pie --with-system-zlib --enable-objc-gc --enable-multiarch --disable-werror --with-arch-32=i686 --with-abi=m64 --with-multilib-list=m32,m64,mx32 --enable-multilib --with-tune=generic --enable-checking=release --build=x86_64-linux-gnu --host=x86_64-linux-gnu --target=x86_64-linux-gnu\n",
            "Thread model: posix\n",
            "gcc version 5.5.0 20171010 (Ubuntu 5.5.0-12ubuntu1) \n"
          ],
          "name": "stdout"
        }
      ]
    },
    {
      "cell_type": "code",
      "metadata": {
        "id": "LovTfFY3Fgxe",
        "outputId": "dc4bd05c-3dc8-4638-c29a-fc9e5b4eedd7",
        "colab": {
          "base_uri": "https://localhost:8080/"
        }
      },
      "source": [
        "!sudo apt-get install gcc-5 g++-5 g++-5-multilib gfortran-5"
      ],
      "execution_count": 3,
      "outputs": [
        {
          "output_type": "stream",
          "text": [
            "Reading package lists... Done\n",
            "Building dependency tree       \n",
            "Reading state information... Done\n",
            "g++-5 is already the newest version (5.5.0-12ubuntu1).\n",
            "gcc-5 is already the newest version (5.5.0-12ubuntu1).\n",
            "The following additional packages will be installed:\n",
            "  gcc-10-base gcc-5-multilib gcc-6-base gcc-7-multilib gcc-multilib lib32asan2\n",
            "  lib32asan4 lib32atomic1 lib32cilkrts5 lib32gcc-5-dev lib32gcc-7-dev\n",
            "  lib32gomp1 lib32itm1 lib32mpx0 lib32mpx2 lib32quadmath0 lib32stdc++-5-dev\n",
            "  lib32ubsan0 libc6-dev-i386 libc6-dev-x32 libc6-x32 libgfortran-5-dev\n",
            "  libgfortran3 libx32asan2 libx32asan4 libx32atomic1 libx32cilkrts5\n",
            "  libx32gcc-5-dev libx32gcc-7-dev libx32gcc-s1 libx32gcc1 libx32gomp1\n",
            "  libx32itm1 libx32quadmath0 libx32stdc++-5-dev libx32stdc++6 libx32ubsan0\n",
            "Suggested packages:\n",
            "  lib32stdc++6-5-dbg libx32stdc++6-5-dbg gfortran-5-multilib gfortran-5-doc\n",
            "  libgfortran3-dbg\n",
            "The following NEW packages will be installed:\n",
            "  g++-5-multilib gcc-10-base gcc-5-multilib gcc-6-base gcc-7-multilib\n",
            "  gcc-multilib gfortran-5 lib32asan2 lib32asan4 lib32atomic1 lib32cilkrts5\n",
            "  lib32gcc-5-dev lib32gcc-7-dev lib32gomp1 lib32itm1 lib32mpx0 lib32mpx2\n",
            "  lib32quadmath0 lib32stdc++-5-dev lib32ubsan0 libc6-dev-i386 libc6-dev-x32\n",
            "  libc6-x32 libgfortran-5-dev libgfortran3 libx32asan2 libx32asan4\n",
            "  libx32atomic1 libx32cilkrts5 libx32gcc-5-dev libx32gcc-7-dev libx32gcc-s1\n",
            "  libx32gcc1 libx32gomp1 libx32itm1 libx32quadmath0 libx32stdc++-5-dev\n",
            "  libx32stdc++6 libx32ubsan0\n",
            "0 upgraded, 39 newly installed, 0 to remove and 25 not upgraded.\n",
            "Need to get 27.7 MB of archives.\n",
            "After this operation, 123 MB of additional disk space will be used.\n",
            "Get:1 http://ppa.launchpad.net/ubuntu-toolchain-r/test/ubuntu bionic/main amd64 gcc-10-base amd64 10.1.0-2ubuntu1~18.04 [20.1 kB]\n",
            "Get:2 http://archive.ubuntu.com/ubuntu bionic-updates/main amd64 libc6-dev-i386 amd64 2.27-3ubuntu1.2 [1,817 kB]\n",
            "Get:3 http://ppa.launchpad.net/ubuntu-toolchain-r/test/ubuntu bionic/main amd64 libx32gcc-s1 amd64 10.1.0-2ubuntu1~18.04 [41.2 kB]\n",
            "Get:4 http://ppa.launchpad.net/ubuntu-toolchain-r/test/ubuntu bionic/main amd64 libx32gcc1 amd64 1:10.1.0-2ubuntu1~18.04 [980 B]\n",
            "Get:5 http://archive.ubuntu.com/ubuntu bionic-updates/main amd64 libc6-x32 amd64 2.27-3ubuntu1.2 [2,847 kB]\n",
            "Get:6 http://ppa.launchpad.net/ubuntu-toolchain-r/test/ubuntu bionic/main amd64 lib32gomp1 amd64 10.1.0-2ubuntu1~18.04 [109 kB]\n",
            "Get:7 http://archive.ubuntu.com/ubuntu bionic-updates/main amd64 libc6-dev-x32 amd64 2.27-3ubuntu1.2 [2,018 kB]\n",
            "Get:8 http://archive.ubuntu.com/ubuntu bionic/universe amd64 lib32asan2 amd64 5.5.0-12ubuntu1 [260 kB]\n",
            "Get:9 http://archive.ubuntu.com/ubuntu bionic/universe amd64 libx32asan2 amd64 5.5.0-12ubuntu1 [252 kB]\n",
            "Get:10 http://archive.ubuntu.com/ubuntu bionic-updates/main amd64 lib32ubsan0 amd64 7.5.0-3ubuntu1~18.04 [140 kB]\n",
            "Get:11 http://archive.ubuntu.com/ubuntu bionic-updates/main amd64 libx32ubsan0 amd64 7.5.0-3ubuntu1~18.04 [127 kB]\n",
            "Get:12 http://archive.ubuntu.com/ubuntu bionic-updates/main amd64 lib32cilkrts5 amd64 7.5.0-3ubuntu1~18.04 [47.2 kB]\n",
            "Get:13 http://archive.ubuntu.com/ubuntu bionic-updates/main amd64 libx32cilkrts5 amd64 7.5.0-3ubuntu1~18.04 [43.0 kB]\n",
            "Get:14 http://archive.ubuntu.com/ubuntu bionic/universe amd64 lib32mpx0 amd64 5.5.0-12ubuntu1 [11.2 kB]\n",
            "Get:15 http://archive.ubuntu.com/ubuntu bionic/universe amd64 lib32gcc-5-dev amd64 5.5.0-12ubuntu1 [2,077 kB]\n",
            "Get:16 http://archive.ubuntu.com/ubuntu bionic/universe amd64 libx32gcc-5-dev amd64 5.5.0-12ubuntu1 [1,870 kB]\n",
            "Get:17 http://archive.ubuntu.com/ubuntu bionic/universe amd64 gcc-5-multilib amd64 5.5.0-12ubuntu1 [1,040 B]\n",
            "Get:18 http://archive.ubuntu.com/ubuntu bionic/universe amd64 lib32stdc++-5-dev amd64 5.5.0-12ubuntu1 [640 kB]\n",
            "Get:19 http://archive.ubuntu.com/ubuntu bionic/universe amd64 libx32stdc++-5-dev amd64 5.5.0-12ubuntu1 [609 kB]\n",
            "Get:20 http://archive.ubuntu.com/ubuntu bionic/universe amd64 g++-5-multilib amd64 5.5.0-12ubuntu1 [1,064 B]\n",
            "Get:21 http://archive.ubuntu.com/ubuntu bionic-updates/universe amd64 gcc-6-base amd64 6.5.0-2ubuntu1~18.04 [16.7 kB]\n",
            "Get:22 http://archive.ubuntu.com/ubuntu bionic-updates/main amd64 lib32asan4 amd64 7.5.0-3ubuntu1~18.04 [362 kB]\n",
            "Get:23 http://archive.ubuntu.com/ubuntu bionic-updates/main amd64 libx32asan4 amd64 7.5.0-3ubuntu1~18.04 [351 kB]\n",
            "Get:24 http://archive.ubuntu.com/ubuntu bionic-updates/main amd64 lib32mpx2 amd64 8.4.0-1ubuntu1~18.04 [12.9 kB]\n",
            "Get:25 http://archive.ubuntu.com/ubuntu bionic-updates/main amd64 lib32gcc-7-dev amd64 7.5.0-3ubuntu1~18.04 [2,211 kB]\n",
            "Get:26 http://ppa.launchpad.net/ubuntu-toolchain-r/test/ubuntu bionic/main amd64 libx32gomp1 amd64 10.1.0-2ubuntu1~18.04 [102 kB]\n",
            "Get:27 http://archive.ubuntu.com/ubuntu bionic-updates/main amd64 libx32gcc-7-dev amd64 7.5.0-3ubuntu1~18.04 [1,999 kB]\n",
            "Get:28 http://archive.ubuntu.com/ubuntu bionic-updates/main amd64 gcc-7-multilib amd64 7.5.0-3ubuntu1~18.04 [1,048 B]\n",
            "Get:29 http://archive.ubuntu.com/ubuntu bionic-updates/main amd64 gcc-multilib amd64 4:7.4.0-1ubuntu2.3 [1,428 B]\n",
            "Get:30 http://archive.ubuntu.com/ubuntu bionic-updates/universe amd64 libgfortran3 amd64 6.5.0-2ubuntu1~18.04 [270 kB]\n",
            "Get:31 http://archive.ubuntu.com/ubuntu bionic/universe amd64 libgfortran-5-dev amd64 5.5.0-12ubuntu1 [296 kB]\n",
            "Get:32 http://archive.ubuntu.com/ubuntu bionic/universe amd64 gfortran-5 amd64 5.5.0-12ubuntu1 [8,166 kB]\n",
            "Get:33 http://ppa.launchpad.net/ubuntu-toolchain-r/test/ubuntu bionic/main amd64 lib32itm1 amd64 10.1.0-2ubuntu1~18.04 [28.1 kB]\n",
            "Get:34 http://ppa.launchpad.net/ubuntu-toolchain-r/test/ubuntu bionic/main amd64 libx32itm1 amd64 10.1.0-2ubuntu1~18.04 [26.4 kB]\n",
            "Get:35 http://ppa.launchpad.net/ubuntu-toolchain-r/test/ubuntu bionic/main amd64 lib32atomic1 amd64 10.1.0-2ubuntu1~18.04 [8,748 B]\n",
            "Get:36 http://ppa.launchpad.net/ubuntu-toolchain-r/test/ubuntu bionic/main amd64 libx32atomic1 amd64 10.1.0-2ubuntu1~18.04 [9,140 B]\n",
            "Get:37 http://ppa.launchpad.net/ubuntu-toolchain-r/test/ubuntu bionic/main amd64 libx32stdc++6 amd64 10.1.0-2ubuntu1~18.04 [483 kB]\n",
            "Get:38 http://ppa.launchpad.net/ubuntu-toolchain-r/test/ubuntu bionic/main amd64 lib32quadmath0 amd64 10.1.0-2ubuntu1~18.04 [230 kB]\n",
            "Get:39 http://ppa.launchpad.net/ubuntu-toolchain-r/test/ubuntu bionic/main amd64 libx32quadmath0 amd64 10.1.0-2ubuntu1~18.04 [148 kB]\n",
            "Fetched 27.7 MB in 4s (7,407 kB/s)\n",
            "debconf: unable to initialize frontend: Dialog\n",
            "debconf: (No usable dialog-like program is installed, so the dialog based frontend cannot be used. at /usr/share/perl5/Debconf/FrontEnd/Dialog.pm line 76, <> line 39.)\n",
            "debconf: falling back to frontend: Readline\n",
            "debconf: unable to initialize frontend: Readline\n",
            "debconf: (This frontend requires a controlling tty.)\n",
            "debconf: falling back to frontend: Teletype\n",
            "dpkg-preconfigure: unable to re-open stdin: \n",
            "Selecting previously unselected package gcc-10-base:amd64.\n",
            "(Reading database ... 154720 files and directories currently installed.)\n",
            "Preparing to unpack .../00-gcc-10-base_10.1.0-2ubuntu1~18.04_amd64.deb ...\n",
            "Unpacking gcc-10-base:amd64 (10.1.0-2ubuntu1~18.04) ...\n",
            "Selecting previously unselected package libc6-dev-i386.\n",
            "Preparing to unpack .../01-libc6-dev-i386_2.27-3ubuntu1.2_amd64.deb ...\n",
            "Unpacking libc6-dev-i386 (2.27-3ubuntu1.2) ...\n",
            "Selecting previously unselected package libc6-x32.\n",
            "Preparing to unpack .../02-libc6-x32_2.27-3ubuntu1.2_amd64.deb ...\n",
            "Unpacking libc6-x32 (2.27-3ubuntu1.2) ...\n",
            "Selecting previously unselected package libc6-dev-x32.\n",
            "Preparing to unpack .../03-libc6-dev-x32_2.27-3ubuntu1.2_amd64.deb ...\n",
            "Unpacking libc6-dev-x32 (2.27-3ubuntu1.2) ...\n",
            "Selecting previously unselected package libx32gcc-s1.\n",
            "Preparing to unpack .../04-libx32gcc-s1_10.1.0-2ubuntu1~18.04_amd64.deb ...\n",
            "Unpacking libx32gcc-s1 (10.1.0-2ubuntu1~18.04) ...\n",
            "Selecting previously unselected package libx32gcc1.\n",
            "Preparing to unpack .../05-libx32gcc1_1%3a10.1.0-2ubuntu1~18.04_amd64.deb ...\n",
            "Unpacking libx32gcc1 (1:10.1.0-2ubuntu1~18.04) ...\n",
            "Selecting previously unselected package lib32gomp1.\n",
            "Preparing to unpack .../06-lib32gomp1_10.1.0-2ubuntu1~18.04_amd64.deb ...\n",
            "Unpacking lib32gomp1 (10.1.0-2ubuntu1~18.04) ...\n",
            "Selecting previously unselected package libx32gomp1.\n",
            "Preparing to unpack .../07-libx32gomp1_10.1.0-2ubuntu1~18.04_amd64.deb ...\n",
            "Unpacking libx32gomp1 (10.1.0-2ubuntu1~18.04) ...\n",
            "Selecting previously unselected package lib32itm1.\n",
            "Preparing to unpack .../08-lib32itm1_10.1.0-2ubuntu1~18.04_amd64.deb ...\n",
            "Unpacking lib32itm1 (10.1.0-2ubuntu1~18.04) ...\n",
            "Selecting previously unselected package libx32itm1.\n",
            "Preparing to unpack .../09-libx32itm1_10.1.0-2ubuntu1~18.04_amd64.deb ...\n",
            "Unpacking libx32itm1 (10.1.0-2ubuntu1~18.04) ...\n",
            "Selecting previously unselected package lib32atomic1.\n",
            "Preparing to unpack .../10-lib32atomic1_10.1.0-2ubuntu1~18.04_amd64.deb ...\n",
            "Unpacking lib32atomic1 (10.1.0-2ubuntu1~18.04) ...\n",
            "Selecting previously unselected package libx32atomic1.\n",
            "Preparing to unpack .../11-libx32atomic1_10.1.0-2ubuntu1~18.04_amd64.deb ...\n",
            "Unpacking libx32atomic1 (10.1.0-2ubuntu1~18.04) ...\n",
            "Selecting previously unselected package lib32asan2.\n",
            "Preparing to unpack .../12-lib32asan2_5.5.0-12ubuntu1_amd64.deb ...\n",
            "Unpacking lib32asan2 (5.5.0-12ubuntu1) ...\n",
            "Selecting previously unselected package libx32asan2.\n",
            "Preparing to unpack .../13-libx32asan2_5.5.0-12ubuntu1_amd64.deb ...\n",
            "Unpacking libx32asan2 (5.5.0-12ubuntu1) ...\n",
            "Selecting previously unselected package lib32ubsan0.\n",
            "Preparing to unpack .../14-lib32ubsan0_7.5.0-3ubuntu1~18.04_amd64.deb ...\n",
            "Unpacking lib32ubsan0 (7.5.0-3ubuntu1~18.04) ...\n",
            "Selecting previously unselected package libx32stdc++6.\n",
            "Preparing to unpack .../15-libx32stdc++6_10.1.0-2ubuntu1~18.04_amd64.deb ...\n",
            "Unpacking libx32stdc++6 (10.1.0-2ubuntu1~18.04) ...\n",
            "Selecting previously unselected package libx32ubsan0.\n",
            "Preparing to unpack .../16-libx32ubsan0_7.5.0-3ubuntu1~18.04_amd64.deb ...\n",
            "Unpacking libx32ubsan0 (7.5.0-3ubuntu1~18.04) ...\n",
            "Selecting previously unselected package lib32cilkrts5.\n",
            "Preparing to unpack .../17-lib32cilkrts5_7.5.0-3ubuntu1~18.04_amd64.deb ...\n",
            "Unpacking lib32cilkrts5 (7.5.0-3ubuntu1~18.04) ...\n",
            "Selecting previously unselected package libx32cilkrts5.\n",
            "Preparing to unpack .../18-libx32cilkrts5_7.5.0-3ubuntu1~18.04_amd64.deb ...\n",
            "Unpacking libx32cilkrts5 (7.5.0-3ubuntu1~18.04) ...\n",
            "Selecting previously unselected package lib32mpx0.\n",
            "Preparing to unpack .../19-lib32mpx0_5.5.0-12ubuntu1_amd64.deb ...\n",
            "Unpacking lib32mpx0 (5.5.0-12ubuntu1) ...\n",
            "Selecting previously unselected package lib32quadmath0.\n",
            "Preparing to unpack .../20-lib32quadmath0_10.1.0-2ubuntu1~18.04_amd64.deb ...\n",
            "Unpacking lib32quadmath0 (10.1.0-2ubuntu1~18.04) ...\n",
            "Selecting previously unselected package libx32quadmath0.\n",
            "Preparing to unpack .../21-libx32quadmath0_10.1.0-2ubuntu1~18.04_amd64.deb ...\n",
            "Unpacking libx32quadmath0 (10.1.0-2ubuntu1~18.04) ...\n",
            "Selecting previously unselected package lib32gcc-5-dev.\n",
            "Preparing to unpack .../22-lib32gcc-5-dev_5.5.0-12ubuntu1_amd64.deb ...\n",
            "Unpacking lib32gcc-5-dev (5.5.0-12ubuntu1) ...\n",
            "Selecting previously unselected package libx32gcc-5-dev.\n",
            "Preparing to unpack .../23-libx32gcc-5-dev_5.5.0-12ubuntu1_amd64.deb ...\n",
            "Unpacking libx32gcc-5-dev (5.5.0-12ubuntu1) ...\n",
            "Selecting previously unselected package gcc-5-multilib.\n",
            "Preparing to unpack .../24-gcc-5-multilib_5.5.0-12ubuntu1_amd64.deb ...\n",
            "Unpacking gcc-5-multilib (5.5.0-12ubuntu1) ...\n",
            "Selecting previously unselected package lib32stdc++-5-dev.\n",
            "Preparing to unpack .../25-lib32stdc++-5-dev_5.5.0-12ubuntu1_amd64.deb ...\n",
            "Unpacking lib32stdc++-5-dev (5.5.0-12ubuntu1) ...\n",
            "Selecting previously unselected package libx32stdc++-5-dev.\n",
            "Preparing to unpack .../26-libx32stdc++-5-dev_5.5.0-12ubuntu1_amd64.deb ...\n",
            "Unpacking libx32stdc++-5-dev (5.5.0-12ubuntu1) ...\n",
            "Selecting previously unselected package g++-5-multilib.\n",
            "Preparing to unpack .../27-g++-5-multilib_5.5.0-12ubuntu1_amd64.deb ...\n",
            "Unpacking g++-5-multilib (5.5.0-12ubuntu1) ...\n",
            "Selecting previously unselected package gcc-6-base:amd64.\n",
            "Preparing to unpack .../28-gcc-6-base_6.5.0-2ubuntu1~18.04_amd64.deb ...\n",
            "Unpacking gcc-6-base:amd64 (6.5.0-2ubuntu1~18.04) ...\n",
            "Selecting previously unselected package lib32asan4.\n",
            "Preparing to unpack .../29-lib32asan4_7.5.0-3ubuntu1~18.04_amd64.deb ...\n",
            "Unpacking lib32asan4 (7.5.0-3ubuntu1~18.04) ...\n",
            "Selecting previously unselected package libx32asan4.\n",
            "Preparing to unpack .../30-libx32asan4_7.5.0-3ubuntu1~18.04_amd64.deb ...\n",
            "Unpacking libx32asan4 (7.5.0-3ubuntu1~18.04) ...\n",
            "Selecting previously unselected package lib32mpx2.\n",
            "Preparing to unpack .../31-lib32mpx2_8.4.0-1ubuntu1~18.04_amd64.deb ...\n",
            "Unpacking lib32mpx2 (8.4.0-1ubuntu1~18.04) ...\n",
            "Selecting previously unselected package lib32gcc-7-dev.\n",
            "Preparing to unpack .../32-lib32gcc-7-dev_7.5.0-3ubuntu1~18.04_amd64.deb ...\n",
            "Unpacking lib32gcc-7-dev (7.5.0-3ubuntu1~18.04) ...\n",
            "Selecting previously unselected package libx32gcc-7-dev.\n",
            "Preparing to unpack .../33-libx32gcc-7-dev_7.5.0-3ubuntu1~18.04_amd64.deb ...\n",
            "Unpacking libx32gcc-7-dev (7.5.0-3ubuntu1~18.04) ...\n",
            "Selecting previously unselected package gcc-7-multilib.\n",
            "Preparing to unpack .../34-gcc-7-multilib_7.5.0-3ubuntu1~18.04_amd64.deb ...\n",
            "Unpacking gcc-7-multilib (7.5.0-3ubuntu1~18.04) ...\n",
            "Selecting previously unselected package gcc-multilib.\n",
            "Preparing to unpack .../35-gcc-multilib_4%3a7.4.0-1ubuntu2.3_amd64.deb ...\n",
            "Unpacking gcc-multilib (4:7.4.0-1ubuntu2.3) ...\n",
            "Selecting previously unselected package libgfortran3:amd64.\n",
            "Preparing to unpack .../36-libgfortran3_6.5.0-2ubuntu1~18.04_amd64.deb ...\n",
            "Unpacking libgfortran3:amd64 (6.5.0-2ubuntu1~18.04) ...\n",
            "Selecting previously unselected package libgfortran-5-dev:amd64.\n",
            "Preparing to unpack .../37-libgfortran-5-dev_5.5.0-12ubuntu1_amd64.deb ...\n",
            "Unpacking libgfortran-5-dev:amd64 (5.5.0-12ubuntu1) ...\n",
            "Selecting previously unselected package gfortran-5.\n",
            "Preparing to unpack .../38-gfortran-5_5.5.0-12ubuntu1_amd64.deb ...\n",
            "Unpacking gfortran-5 (5.5.0-12ubuntu1) ...\n",
            "Setting up libc6-x32 (2.27-3ubuntu1.2) ...\n",
            "Setting up lib32asan4 (7.5.0-3ubuntu1~18.04) ...\n",
            "Setting up lib32mpx2 (8.4.0-1ubuntu1~18.04) ...\n",
            "Setting up gcc-6-base:amd64 (6.5.0-2ubuntu1~18.04) ...\n",
            "Setting up gcc-10-base:amd64 (10.1.0-2ubuntu1~18.04) ...\n",
            "Setting up libx32gomp1 (10.1.0-2ubuntu1~18.04) ...\n",
            "Setting up libx32itm1 (10.1.0-2ubuntu1~18.04) ...\n",
            "Setting up lib32mpx0 (5.5.0-12ubuntu1) ...\n",
            "Setting up libx32gcc-s1 (10.1.0-2ubuntu1~18.04) ...\n",
            "Setting up lib32ubsan0 (7.5.0-3ubuntu1~18.04) ...\n",
            "Setting up lib32quadmath0 (10.1.0-2ubuntu1~18.04) ...\n",
            "Setting up lib32cilkrts5 (7.5.0-3ubuntu1~18.04) ...\n",
            "Setting up libc6-dev-i386 (2.27-3ubuntu1.2) ...\n",
            "Setting up libc6-dev-x32 (2.27-3ubuntu1.2) ...\n",
            "Setting up lib32asan2 (5.5.0-12ubuntu1) ...\n",
            "Setting up lib32itm1 (10.1.0-2ubuntu1~18.04) ...\n",
            "Setting up libx32quadmath0 (10.1.0-2ubuntu1~18.04) ...\n",
            "Setting up libx32gcc1 (1:10.1.0-2ubuntu1~18.04) ...\n",
            "Setting up lib32gomp1 (10.1.0-2ubuntu1~18.04) ...\n",
            "Setting up libgfortran3:amd64 (6.5.0-2ubuntu1~18.04) ...\n",
            "Setting up libx32stdc++6 (10.1.0-2ubuntu1~18.04) ...\n",
            "Setting up lib32atomic1 (10.1.0-2ubuntu1~18.04) ...\n",
            "Setting up libx32atomic1 (10.1.0-2ubuntu1~18.04) ...\n",
            "Setting up libgfortran-5-dev:amd64 (5.5.0-12ubuntu1) ...\n",
            "Setting up libx32asan2 (5.5.0-12ubuntu1) ...\n",
            "Setting up libx32asan4 (7.5.0-3ubuntu1~18.04) ...\n",
            "Setting up libx32cilkrts5 (7.5.0-3ubuntu1~18.04) ...\n",
            "Setting up libx32ubsan0 (7.5.0-3ubuntu1~18.04) ...\n",
            "Setting up gfortran-5 (5.5.0-12ubuntu1) ...\n",
            "Setting up libx32gcc-7-dev (7.5.0-3ubuntu1~18.04) ...\n",
            "Setting up lib32gcc-7-dev (7.5.0-3ubuntu1~18.04) ...\n",
            "Setting up lib32gcc-5-dev (5.5.0-12ubuntu1) ...\n",
            "Setting up libx32gcc-5-dev (5.5.0-12ubuntu1) ...\n",
            "Setting up gcc-7-multilib (7.5.0-3ubuntu1~18.04) ...\n",
            "Setting up lib32stdc++-5-dev (5.5.0-12ubuntu1) ...\n",
            "Setting up libx32stdc++-5-dev (5.5.0-12ubuntu1) ...\n",
            "Setting up gcc-5-multilib (5.5.0-12ubuntu1) ...\n",
            "Setting up gcc-multilib (4:7.4.0-1ubuntu2.3) ...\n",
            "Setting up g++-5-multilib (5.5.0-12ubuntu1) ...\n",
            "Processing triggers for man-db (2.8.3-2ubuntu0.1) ...\n",
            "Processing triggers for libc-bin (2.27-3ubuntu1.2) ...\n",
            "/sbin/ldconfig.real: /usr/local/lib/python3.6/dist-packages/ideep4py/lib/libmkldnn.so.0 is not a symbolic link\n",
            "\n"
          ],
          "name": "stdout"
        }
      ]
    },
    {
      "cell_type": "code",
      "metadata": {
        "id": "2X3lR73QGg-X"
      },
      "source": [
        "!sudo update-alternatives --install /usr/bin/gcc gcc /usr/bin/gcc-5 50 --slave /usr/bin/g++ g++ /usr/bin/g++-5"
      ],
      "execution_count": 4,
      "outputs": []
    },
    {
      "cell_type": "code",
      "metadata": {
        "id": "rNPXsAS8GhMF",
        "outputId": "5a0d808d-d4df-4a6b-a3f3-e2bd33bb94c1",
        "colab": {
          "base_uri": "https://localhost:8080/"
        }
      },
      "source": [
        "!sudo update-alternatives --config gcc"
      ],
      "execution_count": 5,
      "outputs": [
        {
          "output_type": "stream",
          "text": [
            "There is only one alternative in link group gcc (providing /usr/bin/gcc): /usr/bin/gcc-5\n",
            "Nothing to configure.\n"
          ],
          "name": "stdout"
        }
      ]
    },
    {
      "cell_type": "markdown",
      "metadata": {
        "id": "QbNEroyV61Wk"
      },
      "source": [
        "## Compile NMS"
      ]
    },
    {
      "cell_type": "code",
      "metadata": {
        "id": "Q2mBc6Sy7HNE",
        "outputId": "c3d820c0-4bbc-46a5-fcd3-eac52a7ad221",
        "colab": {
          "base_uri": "https://localhost:8080/"
        }
      },
      "source": [
        "%cd planercnn/"
      ],
      "execution_count": 6,
      "outputs": [
        {
          "output_type": "stream",
          "text": [
            "/content/planercnn\n"
          ],
          "name": "stdout"
        }
      ]
    },
    {
      "cell_type": "code",
      "metadata": {
        "id": "H0OHUIhvzNpN",
        "outputId": "3e373d81-43d0-437e-e7e5-6d56b2702601",
        "colab": {
          "base_uri": "https://localhost:8080/"
        }
      },
      "source": [
        "%cd nms/src/cuda/\n",
        "!nvcc -c -o nms_kernel.cu.o nms_kernel.cu -x cu -Xcompiler -fPIC -arch=sm_60\n",
        "%cd ../../\n",
        "!python build.py\n",
        "%cd ../"
      ],
      "execution_count": 7,
      "outputs": [
        {
          "output_type": "stream",
          "text": [
            "/content/planercnn/nms/src/cuda\n",
            "/content/planercnn/nms\n",
            "Including CUDA code.\n",
            "/content/planercnn/nms\n",
            "generating /tmp/tmpec16de6i/_nms.c\n",
            "setting the current directory to '/tmp/tmpec16de6i'\n",
            "running build_ext\n",
            "building '_nms' extension\n",
            "creating content\n",
            "creating content/planercnn\n",
            "creating content/planercnn/nms\n",
            "creating content/planercnn/nms/src\n",
            "x86_64-linux-gnu-gcc -pthread -DNDEBUG -g -fwrapv -O2 -Wall -g -fstack-protector-strong -Wformat -Werror=format-security -Wdate-time -D_FORTIFY_SOURCE=2 -fPIC -DWITH_CUDA -I/usr/local/lib/python3.6/dist-packages/torch/utils/ffi/../../lib/include -I/usr/local/lib/python3.6/dist-packages/torch/utils/ffi/../../lib/include/TH -I/usr/local/lib/python3.6/dist-packages/torch/utils/ffi/../../lib/include/THC -I/usr/local/cuda/include -I/usr/include/python3.6m -c _nms.c -o ./_nms.o -std=c99\n",
            "x86_64-linux-gnu-gcc -pthread -DNDEBUG -g -fwrapv -O2 -Wall -g -fstack-protector-strong -Wformat -Werror=format-security -Wdate-time -D_FORTIFY_SOURCE=2 -fPIC -DWITH_CUDA -I/usr/local/lib/python3.6/dist-packages/torch/utils/ffi/../../lib/include -I/usr/local/lib/python3.6/dist-packages/torch/utils/ffi/../../lib/include/TH -I/usr/local/lib/python3.6/dist-packages/torch/utils/ffi/../../lib/include/THC -I/usr/local/cuda/include -I/usr/include/python3.6m -c /content/planercnn/nms/src/nms.c -o ./content/planercnn/nms/src/nms.o -std=c99\n",
            "x86_64-linux-gnu-gcc -pthread -DNDEBUG -g -fwrapv -O2 -Wall -g -fstack-protector-strong -Wformat -Werror=format-security -Wdate-time -D_FORTIFY_SOURCE=2 -fPIC -DWITH_CUDA -I/usr/local/lib/python3.6/dist-packages/torch/utils/ffi/../../lib/include -I/usr/local/lib/python3.6/dist-packages/torch/utils/ffi/../../lib/include/TH -I/usr/local/lib/python3.6/dist-packages/torch/utils/ffi/../../lib/include/THC -I/usr/local/cuda/include -I/usr/include/python3.6m -c /content/planercnn/nms/src/nms_cuda.c -o ./content/planercnn/nms/src/nms_cuda.o -std=c99\n",
            "\u001b[01m\u001b[K/content/planercnn/nms/src/nms_cuda.c:\u001b[m\u001b[K In function ‘\u001b[01m\u001b[Kgpu_nms\u001b[m\u001b[K’:\n",
            "\u001b[01m\u001b[K/content/planercnn/nms/src/nms_cuda.c:29:35:\u001b[m\u001b[K \u001b[01;35m\u001b[Kwarning: \u001b[m\u001b[Kinitialization from incompatible pointer type [\u001b[01;35m\u001b[K-Wincompatible-pointer-types\u001b[m\u001b[K]\n",
            "   unsigned long long* mask_flat = \u001b[01;35m\u001b[KTHCudaLongTensor_data\u001b[m\u001b[K(state, mask);\n",
            "                                   \u001b[01;35m\u001b[K^~~~~~~~~~~~~~~~~~~~~\u001b[m\u001b[K\n",
            "\u001b[01m\u001b[K/content/planercnn/nms/src/nms_cuda.c:37:40:\u001b[m\u001b[K \u001b[01;35m\u001b[Kwarning: \u001b[m\u001b[Kinitialization from incompatible pointer type [\u001b[01;35m\u001b[K-Wincompatible-pointer-types\u001b[m\u001b[K]\n",
            "   unsigned long long * mask_cpu_flat = \u001b[01;35m\u001b[KTHLongTensor_data\u001b[m\u001b[K(mask_cpu);\n",
            "                                        \u001b[01;35m\u001b[K^~~~~~~~~~~~~~~~~\u001b[m\u001b[K\n",
            "\u001b[01m\u001b[K/content/planercnn/nms/src/nms_cuda.c:40:39:\u001b[m\u001b[K \u001b[01;35m\u001b[Kwarning: \u001b[m\u001b[Kinitialization from incompatible pointer type [\u001b[01;35m\u001b[K-Wincompatible-pointer-types\u001b[m\u001b[K]\n",
            "   unsigned long long* remv_cpu_flat = \u001b[01;35m\u001b[KTHLongTensor_data\u001b[m\u001b[K(remv_cpu);\n",
            "                                       \u001b[01;35m\u001b[K^~~~~~~~~~~~~~~~~\u001b[m\u001b[K\n",
            "\u001b[01m\u001b[K/content/planercnn/nms/src/nms_cuda.c:23:7:\u001b[m\u001b[K \u001b[01;35m\u001b[Kwarning: \u001b[m\u001b[Kunused variable ‘\u001b[01m\u001b[Kboxes_dim\u001b[m\u001b[K’ [\u001b[01;35m\u001b[K-Wunused-variable\u001b[m\u001b[K]\n",
            "   int \u001b[01;35m\u001b[Kboxes_dim\u001b[m\u001b[K = THCudaTensor_size(state, boxes, 1);\n",
            "       \u001b[01;35m\u001b[K^~~~~~~~~\u001b[m\u001b[K\n",
            "x86_64-linux-gnu-gcc -pthread -shared -Wl,-O1 -Wl,-Bsymbolic-functions -Wl,-Bsymbolic-functions -Wl,-z,relro -Wl,-Bsymbolic-functions -Wl,-z,relro -g -fstack-protector-strong -Wformat -Werror=format-security -Wdate-time -D_FORTIFY_SOURCE=2 ./_nms.o ./content/planercnn/nms/src/nms.o ./content/planercnn/nms/src/nms_cuda.o /content/planercnn/nms/src/cuda/nms_kernel.cu.o -o ./_nms.so\n",
            "/content/planercnn\n"
          ],
          "name": "stdout"
        }
      ]
    },
    {
      "cell_type": "markdown",
      "metadata": {
        "id": "5pFls8lp71VR"
      },
      "source": [
        "## Build ROIAlign"
      ]
    },
    {
      "cell_type": "code",
      "metadata": {
        "id": "7VVwwkKcHf9B",
        "outputId": "1727afab-b258-44e0-e288-e413eb6ed37a",
        "colab": {
          "base_uri": "https://localhost:8080/"
        }
      },
      "source": [
        "%cd roialign/roi_align/src/cuda/\n",
        "!nvcc -c -o crop_and_resize_kernel.cu.o crop_and_resize_kernel.cu -x cu -Xcompiler -fPIC -arch=sm_60\n",
        "%cd ../../\n",
        "!python build.py\n",
        "%cd ../../"
      ],
      "execution_count": 8,
      "outputs": [
        {
          "output_type": "stream",
          "text": [
            "/content/planercnn/roialign/roi_align/src/cuda\n",
            "/content/planercnn/roialign/roi_align\n",
            "Including CUDA code.\n",
            "/content/planercnn/roialign/roi_align\n",
            "generating /tmp/tmplw7dqb88/_crop_and_resize.c\n",
            "setting the current directory to '/tmp/tmplw7dqb88'\n",
            "running build_ext\n",
            "building '_crop_and_resize' extension\n",
            "creating content\n",
            "creating content/planercnn\n",
            "creating content/planercnn/roialign\n",
            "creating content/planercnn/roialign/roi_align\n",
            "creating content/planercnn/roialign/roi_align/src\n",
            "x86_64-linux-gnu-gcc -pthread -DNDEBUG -g -fwrapv -O2 -Wall -g -fstack-protector-strong -Wformat -Werror=format-security -Wdate-time -D_FORTIFY_SOURCE=2 -fPIC -DWITH_CUDA -I/usr/local/lib/python3.6/dist-packages/torch/utils/ffi/../../lib/include -I/usr/local/lib/python3.6/dist-packages/torch/utils/ffi/../../lib/include/TH -I/usr/local/lib/python3.6/dist-packages/torch/utils/ffi/../../lib/include/THC -I/usr/local/cuda/include -I/usr/include/python3.6m -c _crop_and_resize.c -o ./_crop_and_resize.o -std=c99 -fopenmp -std=c99\n",
            "x86_64-linux-gnu-gcc -pthread -DNDEBUG -g -fwrapv -O2 -Wall -g -fstack-protector-strong -Wformat -Werror=format-security -Wdate-time -D_FORTIFY_SOURCE=2 -fPIC -DWITH_CUDA -I/usr/local/lib/python3.6/dist-packages/torch/utils/ffi/../../lib/include -I/usr/local/lib/python3.6/dist-packages/torch/utils/ffi/../../lib/include/TH -I/usr/local/lib/python3.6/dist-packages/torch/utils/ffi/../../lib/include/THC -I/usr/local/cuda/include -I/usr/include/python3.6m -c /content/planercnn/roialign/roi_align/src/crop_and_resize.c -o ./content/planercnn/roialign/roi_align/src/crop_and_resize.o -std=c99 -fopenmp -std=c99\n",
            "x86_64-linux-gnu-gcc -pthread -DNDEBUG -g -fwrapv -O2 -Wall -g -fstack-protector-strong -Wformat -Werror=format-security -Wdate-time -D_FORTIFY_SOURCE=2 -fPIC -DWITH_CUDA -I/usr/local/lib/python3.6/dist-packages/torch/utils/ffi/../../lib/include -I/usr/local/lib/python3.6/dist-packages/torch/utils/ffi/../../lib/include/TH -I/usr/local/lib/python3.6/dist-packages/torch/utils/ffi/../../lib/include/THC -I/usr/local/cuda/include -I/usr/include/python3.6m -c /content/planercnn/roialign/roi_align/src/crop_and_resize_gpu.c -o ./content/planercnn/roialign/roi_align/src/crop_and_resize_gpu.o -std=c99 -fopenmp -std=c99\n",
            "x86_64-linux-gnu-gcc -pthread -shared -Wl,-O1 -Wl,-Bsymbolic-functions -Wl,-Bsymbolic-functions -Wl,-z,relro -Wl,-Bsymbolic-functions -Wl,-z,relro -g -fstack-protector-strong -Wformat -Werror=format-security -Wdate-time -D_FORTIFY_SOURCE=2 ./_crop_and_resize.o ./content/planercnn/roialign/roi_align/src/crop_and_resize.o ./content/planercnn/roialign/roi_align/src/crop_and_resize_gpu.o /content/planercnn/roialign/roi_align/src/cuda/crop_and_resize_kernel.cu.o -o ./_crop_and_resize.so\n",
            "/content/planercnn\n"
          ],
          "name": "stdout"
        }
      ]
    },
    {
      "cell_type": "markdown",
      "metadata": {
        "id": "wGzVNkOZ8A65"
      },
      "source": [
        "## Download Weights File"
      ]
    },
    {
      "cell_type": "code",
      "metadata": {
        "id": "qDTlUayIdAA9",
        "outputId": "6698bdab-7512-47df-ac48-ef600d257423",
        "colab": {
          "base_uri": "https://localhost:8080/"
        }
      },
      "source": [
        "!wget https://www.dropbox.com/s/yjcg6s57n581sk0/checkpoint.zip"
      ],
      "execution_count": 9,
      "outputs": [
        {
          "output_type": "stream",
          "text": [
            "--2020-10-31 07:03:28--  https://www.dropbox.com/s/yjcg6s57n581sk0/checkpoint.zip\n",
            "Resolving www.dropbox.com (www.dropbox.com)... 162.125.6.1, 2620:100:601c:1::a27d:601\n",
            "Connecting to www.dropbox.com (www.dropbox.com)|162.125.6.1|:443... connected.\n",
            "HTTP request sent, awaiting response... 301 Moved Permanently\n",
            "Location: /s/raw/yjcg6s57n581sk0/checkpoint.zip [following]\n",
            "--2020-10-31 07:03:28--  https://www.dropbox.com/s/raw/yjcg6s57n581sk0/checkpoint.zip\n",
            "Reusing existing connection to www.dropbox.com:443.\n",
            "HTTP request sent, awaiting response... 302 Found\n",
            "Location: https://uc7d845d71b5dc8e019f83c255a5.dl.dropboxusercontent.com/cd/0/inline/BCQ22r1rpXz9dftFI45TxPMCyGW0gaQVmkIWkLz8VH8e4U0QfO48koTKYMzRS8pDGF4Xael8w46GPieaKUosBqBJOlmmle36V7kk8iUEQO28EQ/file# [following]\n",
            "--2020-10-31 07:03:29--  https://uc7d845d71b5dc8e019f83c255a5.dl.dropboxusercontent.com/cd/0/inline/BCQ22r1rpXz9dftFI45TxPMCyGW0gaQVmkIWkLz8VH8e4U0QfO48koTKYMzRS8pDGF4Xael8w46GPieaKUosBqBJOlmmle36V7kk8iUEQO28EQ/file\n",
            "Resolving uc7d845d71b5dc8e019f83c255a5.dl.dropboxusercontent.com (uc7d845d71b5dc8e019f83c255a5.dl.dropboxusercontent.com)... 162.125.6.15, 2620:100:601c:15::a27d:60f\n",
            "Connecting to uc7d845d71b5dc8e019f83c255a5.dl.dropboxusercontent.com (uc7d845d71b5dc8e019f83c255a5.dl.dropboxusercontent.com)|162.125.6.15|:443... connected.\n",
            "HTTP request sent, awaiting response... 302 Found\n",
            "Location: /cd/0/inline2/BCQVVbDIFbGjOtrBzL_4P3PSxCeCg6Aqv_PFN9H-HlgQ-Gfx2zsbtAI4rgzSZht9XTDduIUwwaudLFli5wZRxk5i3E45zP7jmC-MSy-UASniuyJTQkJSFA2FAK2UrkPneIW0qGutlaD04IWO-RLKObmBsX65DdtAVKjg-xDICee9fmi6pOy8o5ec87xDBtfxMvkOIctDI3PeE0sejRtbAiBT_pB_wHTGOE38UNOwrafDZlpyYbjMsRD6bwCYg1K0jTebW18V8OWCb1dt38wDCH6LFB9-5vkvKHcNqmY9NDfBLokXKerQIixnlk_RsV6kRONHQezoKefyhKjbQS16vgUr/file [following]\n",
            "--2020-10-31 07:03:29--  https://uc7d845d71b5dc8e019f83c255a5.dl.dropboxusercontent.com/cd/0/inline2/BCQVVbDIFbGjOtrBzL_4P3PSxCeCg6Aqv_PFN9H-HlgQ-Gfx2zsbtAI4rgzSZht9XTDduIUwwaudLFli5wZRxk5i3E45zP7jmC-MSy-UASniuyJTQkJSFA2FAK2UrkPneIW0qGutlaD04IWO-RLKObmBsX65DdtAVKjg-xDICee9fmi6pOy8o5ec87xDBtfxMvkOIctDI3PeE0sejRtbAiBT_pB_wHTGOE38UNOwrafDZlpyYbjMsRD6bwCYg1K0jTebW18V8OWCb1dt38wDCH6LFB9-5vkvKHcNqmY9NDfBLokXKerQIixnlk_RsV6kRONHQezoKefyhKjbQS16vgUr/file\n",
            "Reusing existing connection to uc7d845d71b5dc8e019f83c255a5.dl.dropboxusercontent.com:443.\n",
            "HTTP request sent, awaiting response... 200 OK\n",
            "Length: 262259930 (250M) [application/zip]\n",
            "Saving to: ‘checkpoint.zip’\n",
            "\n",
            "checkpoint.zip      100%[===================>] 250.11M  58.9MB/s    in 4.2s    \n",
            "\n",
            "2020-10-31 07:03:34 (58.9 MB/s) - ‘checkpoint.zip’ saved [262259930/262259930]\n",
            "\n"
          ],
          "name": "stdout"
        }
      ]
    },
    {
      "cell_type": "code",
      "metadata": {
        "id": "ACkccT2PdiOC"
      },
      "source": [
        "!mkdir checkpoint"
      ],
      "execution_count": 10,
      "outputs": []
    },
    {
      "cell_type": "code",
      "metadata": {
        "id": "ExSVQExmdWhF",
        "outputId": "583843df-2165-45d0-80fc-2e9785f7a39e",
        "colab": {
          "base_uri": "https://localhost:8080/"
        }
      },
      "source": [
        "!unzip checkpoint.zip -d checkpoint/"
      ],
      "execution_count": 11,
      "outputs": [
        {
          "output_type": "stream",
          "text": [
            "Archive:  checkpoint.zip\n",
            "   creating: checkpoint/planercnn_normal_warping_refine/\n",
            "  inflating: checkpoint/planercnn_normal_warping_refine/checkpoint_refine.pth  \n",
            "  inflating: checkpoint/planercnn_normal_warping_refine/checkpoint.pth  \n"
          ],
          "name": "stdout"
        }
      ]
    },
    {
      "cell_type": "code",
      "metadata": {
        "id": "xV9yicDHd17G"
      },
      "source": [
        "!rm checkpoint.zip"
      ],
      "execution_count": 12,
      "outputs": []
    },
    {
      "cell_type": "markdown",
      "metadata": {
        "id": "C1shXzw38UYA"
      },
      "source": [
        "## Get Yolo Images File"
      ]
    },
    {
      "cell_type": "code",
      "metadata": {
        "id": "Eh8L26Xn8wvN",
        "outputId": "c716e896-d85b-4ed3-f8ad-86b094c0aa0d",
        "colab": {
          "base_uri": "https://localhost:8080/"
        }
      },
      "source": [
        "%cd .."
      ],
      "execution_count": 13,
      "outputs": [
        {
          "output_type": "stream",
          "text": [
            "/content\n"
          ],
          "name": "stdout"
        }
      ]
    },
    {
      "cell_type": "code",
      "metadata": {
        "id": "Nvz4IiWG84y8",
        "outputId": "cfd46702-9d1f-4064-fff3-f443ea0eb2d4",
        "colab": {
          "base_uri": "https://localhost:8080/"
        }
      },
      "source": [
        "from google.colab import drive\n",
        "drive.mount(\"/content/drive\", force_remount=True)"
      ],
      "execution_count": 14,
      "outputs": [
        {
          "output_type": "stream",
          "text": [
            "Mounted at /content/drive\n"
          ],
          "name": "stdout"
        }
      ]
    },
    {
      "cell_type": "code",
      "metadata": {
        "id": "2MS20eHA8uWE"
      },
      "source": [
        "!cp 'drive/My Drive/eva_stored_from_colab/eva5/s13_yolo/YoloV3.zip' .\n",
        "!mkdir YoloV3\n",
        "!unzip YoloV3.zip -d YoloV3/\n",
        "!rm YoloV3.zip"
      ],
      "execution_count": null,
      "outputs": []
    },
    {
      "cell_type": "markdown",
      "metadata": {
        "id": "9NFyZks98Z1h"
      },
      "source": [
        "## Replace the orig evaluate.py & visualize_utils.py with modified versions"
      ]
    },
    {
      "cell_type": "code",
      "metadata": {
        "id": "FfKnPOsF8jR_"
      },
      "source": [
        "!cp 'drive/My Drive/eva_stored_from_colab/eva5/s15_rcnn/evaluate.py' planercnn/evaluate.py"
      ],
      "execution_count": 16,
      "outputs": []
    },
    {
      "cell_type": "code",
      "metadata": {
        "id": "kxLoSFDuUI6c"
      },
      "source": [
        "!cp 'drive/My Drive/eva_stored_from_colab/eva5/s15_rcnn/visualize_utils.py' planercnn/visualize_utils.py"
      ],
      "execution_count": 17,
      "outputs": []
    },
    {
      "cell_type": "markdown",
      "metadata": {
        "id": "g7Lcegi595br"
      },
      "source": [
        "## CD into planercnn and run evaluate"
      ]
    },
    {
      "cell_type": "code",
      "metadata": {
        "id": "OXDtHzYY987D",
        "outputId": "8fb42e51-963d-4704-a5f9-915322ec6f21",
        "colab": {
          "base_uri": "https://localhost:8080/"
        }
      },
      "source": [
        "%cd planercnn"
      ],
      "execution_count": 18,
      "outputs": [
        {
          "output_type": "stream",
          "text": [
            "/content/planercnn\n"
          ],
          "name": "stdout"
        }
      ]
    },
    {
      "cell_type": "code",
      "metadata": {
        "id": "CSSg64DFx7QS",
        "outputId": "6154f67e-dd7a-47ae-d1ed-2092542f8d2b",
        "colab": {
          "base_uri": "https://localhost:8080/"
        }
      },
      "source": [
        "!python evaluate.py --methods=f --suffix=warping_refine --dataset=inference --customDataFolder=example_images --numTestingImages=5000\n",
        "# !python evaluate_adf.py --methods=f --suffix=warping_refine --dataset=inference --customDataFolder=example_images"
      ],
      "execution_count": 19,
      "outputs": [
        {
          "output_type": "stream",
          "text": [
            "the number of images 3\n",
            "\r  0% 0/3 [00:00<?, ?it/s]/content/planercnn/models/model.py:1473: UserWarning: nn.init.xavier_uniform is now deprecated in favor of nn.init.xavier_uniform_.\n",
            "  nn.init.xavier_uniform(m.weight)\n",
            "rm: cannot remove 'test/inference/*_final.png': No such file or directory\n",
            "THCudaCheck FAIL file=/pytorch/aten/src/THC/THCGeneral.cpp line=663 error=11 : invalid argument\n",
            "/usr/local/lib/python3.6/dist-packages/torch/nn/functional.py:1890: UserWarning: nn.functional.upsample is deprecated. Use nn.functional.interpolate instead.\n",
            "  warnings.warn(\"nn.functional.upsample is deprecated. Use nn.functional.interpolate instead.\")\n",
            "/usr/local/lib/python3.6/dist-packages/torch/nn/modules/upsampling.py:122: UserWarning: nn.Upsampling is deprecated. Use nn.functional.interpolate instead.\n",
            "  warnings.warn(\"nn.Upsampling is deprecated. Use nn.functional.interpolate instead.\")\n",
            "/usr/local/lib/python3.6/dist-packages/torch/nn/functional.py:1961: UserWarning: Default upsampling behavior when mode=bilinear is changed to align_corners=False since 0.4.0. Please specify align_corners=True if the old behavior is desired. See the documentation of nn.Upsample for details.\n",
            "  \"See the documentation of nn.Upsample for details.\".format(mode))\n",
            "100% 3/3 [00:04<00:00,  1.86s/it]\n"
          ],
          "name": "stdout"
        }
      ]
    },
    {
      "cell_type": "code",
      "metadata": {
        "id": "thojIShCejTO",
        "outputId": "3f421e3e-60b8-4f00-a150-a3342eed7da3",
        "colab": {
          "base_uri": "https://localhost:8080/"
        }
      },
      "source": [
        "!ls -a example_images"
      ],
      "execution_count": 20,
      "outputs": [
        {
          "output_type": "stream",
          "text": [
            ".  ..  camera.txt  image_1.png\timage_2.png  image_3.png\n"
          ],
          "name": "stdout"
        }
      ]
    },
    {
      "cell_type": "code",
      "metadata": {
        "id": "UqtB0PpIeJF7",
        "outputId": "cedb5f51-1791-4c43-efba-1f7379cec57e",
        "colab": {
          "base_uri": "https://localhost:8080/"
        }
      },
      "source": [
        "!ls -a test/inference"
      ],
      "execution_count": 21,
      "outputs": [
        {
          "output_type": "stream",
          "text": [
            ".\t       0_segmentation_0_final.png  2_image_0.png\n",
            "..\t       1_image_0.png\t\t   2_segmentation_0_final.png\n",
            "0_image_0.png  1_segmentation_0_final.png\n"
          ],
          "name": "stdout"
        }
      ]
    },
    {
      "cell_type": "code",
      "metadata": {
        "id": "OtLhpmP7fFL4",
        "outputId": "f40d25e5-1614-4870-dab3-7a5bcf5f9753",
        "colab": {
          "base_uri": "https://localhost:8080/",
          "height": 286
        }
      },
      "source": [
        "from PIL import Image\n",
        "import matplotlib.pyplot as plt\n",
        "%matplotlib inline\n",
        "\n",
        "img = Image.open(\"example_images/image_2.png\")\n",
        "plt.imshow(img)"
      ],
      "execution_count": 22,
      "outputs": [
        {
          "output_type": "execute_result",
          "data": {
            "text/plain": [
              "<matplotlib.image.AxesImage at 0x7efc42aba198>"
            ]
          },
          "metadata": {
            "tags": []
          },
          "execution_count": 22
        },
        {
          "output_type": "display_data",
          "data": {
            "image/png": "[encoded data removed]",
            "text/plain": [
              "<Figure size 432x288 with 1 Axes>"
            ]
          },
          "metadata": {
            "tags": [],
            "needs_background": "light"
          }
        }
      ]
    },
    {
      "cell_type": "code",
      "metadata": {
        "id": "hVWlWL9dfZbl",
        "outputId": "24940a89-b539-41c4-aae3-67100e62c069",
        "colab": {
          "base_uri": "https://localhost:8080/",
          "height": 286
        }
      },
      "source": [
        "new_img = Image.open(\"test/inference/2_segmentation_0_final.png\")\n",
        "plt.imshow(new_img)"
      ],
      "execution_count": 23,
      "outputs": [
        {
          "output_type": "execute_result",
          "data": {
            "text/plain": [
              "<matplotlib.image.AxesImage at 0x7efc425886d8>"
            ]
          },
          "metadata": {
            "tags": []
          },
          "execution_count": 23
        },
        {
          "output_type": "display_data",
          "data": {
            "image/png": "[encoded data removed]",
            "text/plain": [
              "<Figure size 432x288 with 1 Axes>"
            ]
          },
          "metadata": {
            "tags": [],
            "needs_background": "light"
          }
        }
      ]
    },
    {
      "cell_type": "markdown",
      "metadata": {
        "id": "SfvPCDMq2onc"
      },
      "source": [
        "## Add camrea.txt into the input images folder (else it is giving error!)"
      ]
    },
    {
      "cell_type": "code",
      "metadata": {
        "id": "_JGi9d3ygBcD"
      },
      "source": [
        "!cp example_images/camera.txt ../YoloV3/data/customdata/images/"
      ],
      "execution_count": 26,
      "outputs": []
    },
    {
      "cell_type": "code",
      "metadata": {
        "id": "16GwPwlxe4yU",
        "outputId": "14fc538c-f64c-45e4-931d-034e01052131",
        "colab": {
          "base_uri": "https://localhost:8080/"
        }
      },
      "source": [
        "!python evaluate.py --methods=f --suffix=warping_refine --dataset=inference --customDataFolder=../YoloV3/data/customdata/images --numTestingImages=5000"
      ],
      "execution_count": 27,
      "outputs": [
        {
          "output_type": "stream",
          "text": [
            "the number of images 3545\n",
            "\r  0% 0/3545 [00:00<?, ?it/s]/content/planercnn/models/model.py:1473: UserWarning: nn.init.xavier_uniform is now deprecated in favor of nn.init.xavier_uniform_.\n",
            "  nn.init.xavier_uniform(m.weight)\n",
            "rm: cannot remove 'test/inference/*_final.png': No such file or directory\n",
            "THCudaCheck FAIL file=/pytorch/aten/src/THC/THCGeneral.cpp line=663 error=11 : invalid argument\n",
            "/usr/local/lib/python3.6/dist-packages/torch/nn/functional.py:1890: UserWarning: nn.functional.upsample is deprecated. Use nn.functional.interpolate instead.\n",
            "  warnings.warn(\"nn.functional.upsample is deprecated. Use nn.functional.interpolate instead.\")\n",
            "/usr/local/lib/python3.6/dist-packages/torch/nn/modules/upsampling.py:122: UserWarning: nn.Upsampling is deprecated. Use nn.functional.interpolate instead.\n",
            "  warnings.warn(\"nn.Upsampling is deprecated. Use nn.functional.interpolate instead.\")\n",
            "/usr/local/lib/python3.6/dist-packages/torch/nn/functional.py:1961: UserWarning: Default upsampling behavior when mode=bilinear is changed to align_corners=False since 0.4.0. Please specify align_corners=True if the old behavior is desired. See the documentation of nn.Upsample for details.\n",
            "  \"See the documentation of nn.Upsample for details.\".format(mode))\n",
            "100% 3545/3545 [35:10<00:00,  1.70it/s]\n"
          ],
          "name": "stdout"
        }
      ]
    },
    {
      "cell_type": "code",
      "metadata": {
        "id": "TgI6kx5IfO8D"
      },
      "source": [
        "!zip -r planercnn_images.zip test/inference/"
      ],
      "execution_count": null,
      "outputs": []
    },
    {
      "cell_type": "code",
      "metadata": {
        "id": "Kzhx9uMloedH",
        "outputId": "089b11dc-4f9e-4143-ffec-fba6f0120173",
        "colab": {
          "base_uri": "https://localhost:8080/"
        }
      },
      "source": [
        "!ls"
      ],
      "execution_count": 31,
      "outputs": [
        {
          "output_type": "stream",
          "text": [
            "anchors      evaluate_utils.py\tplanercnn_images.zip  test\n",
            "checkpoint   example_images\tplane_utils.py\t      train_planercnn.py\n",
            "config.py    LICENSE.md\t\t__pycache__\t      utils.py\n",
            "data_prep    models\t\tREADME.md\t      visualize_utils.py\n",
            "datasets     nms\t\trequirements.txt\n",
            "evaluate.py  options.py\t\troialign\n"
          ],
          "name": "stdout"
        }
      ]
    },
    {
      "cell_type": "code",
      "metadata": {
        "id": "gVWXugrdppby"
      },
      "source": [
        "!cp planercnn_images.zip '../drive/My Drive/'"
      ],
      "execution_count": 32,
      "outputs": []
    },
    {
      "cell_type": "code",
      "metadata": {
        "id": "Rs_5ZPxaqTdC"
      },
      "source": [
        ""
      ],
      "execution_count": null,
      "outputs": []
    }
  ]
}